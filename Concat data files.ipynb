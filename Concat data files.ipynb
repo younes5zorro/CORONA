{
 "cells": [
  {
   "cell_type": "code",
   "execution_count": 2,
   "metadata": {
    "collapsed": true
   },
   "outputs": [],
   "source": [
    "import warnings\n",
    "import pandas as pd\n",
    "import re\n",
    "import itertools\n",
    "import codecs\n",
    "import json\n",
    "import os\n",
    "\n",
    "warnings.filterwarnings('ignore')\n"
   ]
  },
  {
   "cell_type": "code",
   "execution_count": 13,
   "metadata": {
    "collapsed": true
   },
   "outputs": [],
   "source": [
    "df = pd.DataFrame([])\n",
    "\n",
    "data_full =pd.read_csv('data_full.csv',encoding='utf-8',delimiter=';',error_bad_lines=False)\n",
    "data_full_1 =pd.read_csv('data_full_1.csv',encoding='utf-8',delimiter=';',error_bad_lines=False)\n",
    "data_full_2 =pd.read_csv('data_full_2.csv',encoding='utf-8',delimiter=';',error_bad_lines=False)\n",
    "data_full_3 =pd.read_csv('data_full_3.csv',encoding='utf-8',delimiter=';',error_bad_lines=False)\n",
    "data_full_4 =pd.read_csv('data_full_4.csv',encoding='utf-8',delimiter=';',error_bad_lines=False)\n",
    "data_full_5 =pd.read_csv('data_full_5.csv',encoding='utf-8',delimiter=';',error_bad_lines=False)\n",
    "data_full_6 =pd.read_csv('data_full_6.csv',encoding='utf-8',delimiter=';',error_bad_lines=False)\n",
    "data_full_7 =pd.read_csv('data_full_7.csv',encoding='utf-8',delimiter=';',error_bad_lines=False)\n",
    "data_full_8 =pd.read_csv('data_full_8.csv',encoding='utf-8',delimiter=';',error_bad_lines=False)\n",
    "\n",
    "# data_5_1 =pd.read_csv('data_5_1.csv',encoding='utf-8',delimiter=';',error_bad_lines=False)\n",
    "# data_5_2 =pd.read_csv('data_5_2.csv',encoding='utf-8',delimiter=';',error_bad_lines=False)\n",
    "# data_5_3 =pd.read_csv('data_5_3.csv',encoding='utf-8',delimiter=';',error_bad_lines=False)\n",
    "# data_5_4 =pd.read_csv('data_5_4.csv',encoding='utf-8',delimiter=';',error_bad_lines=False)\n",
    "# data_5_5 =pd.read_csv('data_5_5.csv',encoding='utf-8',delimiter=';',error_bad_lines=False)\n",
    "# data_5_6 =pd.read_csv('data_5_6.csv',encoding='utf-8',delimiter=';',error_bad_lines=False)\n",
    "# data_5_8 =pd.read_csv('data_5_8.csv',encoding='utf-8',delimiter=';',error_bad_lines=False)\n",
    "# data_5_9 =pd.read_csv('data_5_9.csv',encoding='utf-8',delimiter=';',error_bad_lines=False)\n",
    "# data_5_10 =pd.read_csv('data_5_10.csv',encoding='utf-8',delimiter=';',error_bad_lines=False)\n",
    "# data_5_11 =pd.read_csv('data_5_11.csv',encoding='utf-8',delimiter=';',error_bad_lines=False)\n",
    "# data_5_12 =pd.read_csv('data_5_12.csv',encoding='utf-8',delimiter=';',error_bad_lines=False)\n",
    "# data_5_14 =pd.read_csv('data_5_14.csv',encoding='utf-8',delimiter=';',error_bad_lines=False)\n",
    "# data_5_15 =pd.read_csv('data_5_15.csv',encoding='utf-8',delimiter=';',error_bad_lines=False)\n",
    "# data_5_16 =pd.read_csv('data_5_16.csv',encoding='utf-8',delimiter=';',error_bad_lines=False)\n",
    "\n",
    "# data_5_7_1 =pd.read_csv('data_5_7_1.csv',encoding='utf-8',delimiter=';',error_bad_lines=False)\n",
    "# data_5_7_2 =pd.read_csv('data_5_7_2.csv',encoding='utf-8',delimiter=';',error_bad_lines=False)\n",
    "# data_5_7_4 =pd.read_csv('data_5_7_4.csv',encoding='utf-8',delimiter=';',error_bad_lines=False)\n",
    "# data_5_7_5 =pd.read_csv('data_5_7_5.csv',encoding='utf-8',delimiter=';',error_bad_lines=False)\n",
    "# data_5_7_6 =pd.read_csv('data_5_7_6.csv',encoding='utf-8',delimiter=';',error_bad_lines=False)\n",
    "\n",
    "# data_5_13_1 =pd.read_csv('data_5_13_1.csv',encoding='utf-8',delimiter=';',error_bad_lines=False)\n",
    "# data_5_13_3 =pd.read_csv('data_5_13_3.csv',encoding='utf-8',delimiter=';',error_bad_lines=False)\n",
    "# data_5_13_4 =pd.read_csv('data_5_13_4.csv',encoding='utf-8',delimiter=';',error_bad_lines=False)\n",
    "# data_5_13_5 =pd.read_csv('data_5_13_5.csv',encoding='utf-8',delimiter=';',error_bad_lines=False)\n",
    "# data_5_13_6 =pd.read_csv('data_5_13_6.csv',encoding='utf-8',delimiter=';',error_bad_lines=False)\n"
   ]
  },
  {
   "cell_type": "code",
   "execution_count": 14,
   "metadata": {},
   "outputs": [
    {
     "data": {
      "text/html": [
       "<div>\n",
       "<style>\n",
       "    .dataframe thead tr:only-child th {\n",
       "        text-align: right;\n",
       "    }\n",
       "\n",
       "    .dataframe thead th {\n",
       "        text-align: left;\n",
       "    }\n",
       "\n",
       "    .dataframe tbody tr th {\n",
       "        vertical-align: top;\n",
       "    }\n",
       "</style>\n",
       "<table border=\"1\" class=\"dataframe\">\n",
       "  <thead>\n",
       "    <tr style=\"text-align: right;\">\n",
       "      <th></th>\n",
       "      <th>Unnamed: 0</th>\n",
       "      <th>Unnamed: 0.1</th>\n",
       "      <th>class</th>\n",
       "      <th>index</th>\n",
       "      <th>sentence</th>\n",
       "    </tr>\n",
       "  </thead>\n",
       "  <tbody>\n",
       "    <tr>\n",
       "      <th>0</th>\n",
       "      <td>0</td>\n",
       "      <td>2.0</td>\n",
       "      <td>gulf</td>\n",
       "      <td>2.0</td>\n",
       "      <td>اتمنى من الاداره الهلاليه تنبه لمشكلتين في اله...</td>\n",
       "    </tr>\n",
       "    <tr>\n",
       "      <th>1</th>\n",
       "      <td>1</td>\n",
       "      <td>4.0</td>\n",
       "      <td>levantine</td>\n",
       "      <td>4.0</td>\n",
       "      <td>الة اكبر ما خلو علينا اشي وبحكو ليش بنهاجر وبن...</td>\n",
       "    </tr>\n",
       "    <tr>\n",
       "      <th>2</th>\n",
       "      <td>2</td>\n",
       "      <td>5.0</td>\n",
       "      <td>levantine</td>\n",
       "      <td>5.0</td>\n",
       "      <td>الامن ليس تبع الحكومه</td>\n",
       "    </tr>\n",
       "    <tr>\n",
       "      <th>3</th>\n",
       "      <td>3</td>\n",
       "      <td>10.0</td>\n",
       "      <td>general</td>\n",
       "      <td>10.0</td>\n",
       "      <td>و احد شطب ع كلمة عربية و كتب جنبها اسلامية</td>\n",
       "    </tr>\n",
       "    <tr>\n",
       "      <th>4</th>\n",
       "      <td>4</td>\n",
       "      <td>21.0</td>\n",
       "      <td>general</td>\n",
       "      <td>21.0</td>\n",
       "      <td>النجار</td>\n",
       "    </tr>\n",
       "  </tbody>\n",
       "</table>\n",
       "</div>"
      ],
      "text/plain": [
       "   Unnamed: 0  Unnamed: 0.1      class  index  \\\n",
       "0           0           2.0       gulf    2.0   \n",
       "1           1           4.0  levantine    4.0   \n",
       "2           2           5.0  levantine    5.0   \n",
       "3           3          10.0    general   10.0   \n",
       "4           4          21.0    general   21.0   \n",
       "\n",
       "                                            sentence  \n",
       "0  اتمنى من الاداره الهلاليه تنبه لمشكلتين في اله...  \n",
       "1  الة اكبر ما خلو علينا اشي وبحكو ليش بنهاجر وبن...  \n",
       "2                              الامن ليس تبع الحكومه  \n",
       "3         و احد شطب ع كلمة عربية و كتب جنبها اسلامية  \n",
       "4                                             النجار  "
      ]
     },
     "execution_count": 14,
     "metadata": {},
     "output_type": "execute_result"
    }
   ],
   "source": [
    "frames = [data_full,\n",
    "data_full_1,\n",
    "data_full_2,\n",
    "data_full_3,\n",
    "data_full_4,\n",
    "data_full_5,\n",
    "data_full_6,\n",
    "data_full_8,\n",
    "data_full_7]\n",
    "# [data_1, data_2,data_2,data_3,\n",
    "# data_4,\n",
    "# data_5_1,\n",
    "# data_5_2,\n",
    "# data_5_3,\n",
    "# data_5_4,\n",
    "# data_5_5,\n",
    "# data_5_6,\n",
    "# data_5_8,\n",
    "# data_5_9,\n",
    "# data_5_10,\n",
    "# data_5_11,\n",
    "# data_5_12,\n",
    "# data_5_14,\n",
    "# data_5_15,\n",
    "# data_5_16,\n",
    "# data_5_7_1,\n",
    "# data_5_7_2,\n",
    "# data_5_7_4,\n",
    "# data_5_7_5,\n",
    "# data_5_7_6,\n",
    "# data_5_13_1,\n",
    "# data_5_13_3,\n",
    "# data_5_13_4,\n",
    "# data_5_13_5,\n",
    "# data_5_13_6]\n",
    "df = pd.concat(frames, axis=0)\n",
    "df.head()"
   ]
  },
  {
   "cell_type": "code",
   "execution_count": 15,
   "metadata": {},
   "outputs": [
    {
     "data": {
      "text/plain": [
       "(240066, 5)"
      ]
     },
     "execution_count": 15,
     "metadata": {},
     "output_type": "execute_result"
    }
   ],
   "source": [
    "df.shape"
   ]
  },
  {
   "cell_type": "code",
   "execution_count": 28,
   "metadata": {},
   "outputs": [
    {
     "data": {
      "text/plain": [
       "(236151, 2)"
      ]
     },
     "execution_count": 28,
     "metadata": {},
     "output_type": "execute_result"
    }
   ],
   "source": [
    "df = df.drop_duplicates(subset=['sentence'])\n",
    "df.shape"
   ]
  },
  {
   "cell_type": "code",
   "execution_count": 17,
   "metadata": {},
   "outputs": [
    {
     "data": {
      "text/html": [
       "<div>\n",
       "<style>\n",
       "    .dataframe thead tr:only-child th {\n",
       "        text-align: right;\n",
       "    }\n",
       "\n",
       "    .dataframe thead th {\n",
       "        text-align: left;\n",
       "    }\n",
       "\n",
       "    .dataframe tbody tr th {\n",
       "        vertical-align: top;\n",
       "    }\n",
       "</style>\n",
       "<table border=\"1\" class=\"dataframe\">\n",
       "  <thead>\n",
       "    <tr style=\"text-align: right;\">\n",
       "      <th></th>\n",
       "      <th>class</th>\n",
       "      <th>sentence</th>\n",
       "    </tr>\n",
       "  </thead>\n",
       "  <tbody>\n",
       "    <tr>\n",
       "      <th>0</th>\n",
       "      <td>gulf</td>\n",
       "      <td>اتمنى من الاداره الهلاليه تنبه لمشكلتين في اله...</td>\n",
       "    </tr>\n",
       "    <tr>\n",
       "      <th>1</th>\n",
       "      <td>levantine</td>\n",
       "      <td>الة اكبر ما خلو علينا اشي وبحكو ليش بنهاجر وبن...</td>\n",
       "    </tr>\n",
       "    <tr>\n",
       "      <th>2</th>\n",
       "      <td>levantine</td>\n",
       "      <td>الامن ليس تبع الحكومه</td>\n",
       "    </tr>\n",
       "    <tr>\n",
       "      <th>3</th>\n",
       "      <td>general</td>\n",
       "      <td>و احد شطب ع كلمة عربية و كتب جنبها اسلامية</td>\n",
       "    </tr>\n",
       "    <tr>\n",
       "      <th>4</th>\n",
       "      <td>general</td>\n",
       "      <td>النجار</td>\n",
       "    </tr>\n",
       "  </tbody>\n",
       "</table>\n",
       "</div>"
      ],
      "text/plain": [
       "       class                                           sentence\n",
       "0       gulf  اتمنى من الاداره الهلاليه تنبه لمشكلتين في اله...\n",
       "1  levantine  الة اكبر ما خلو علينا اشي وبحكو ليش بنهاجر وبن...\n",
       "2  levantine                              الامن ليس تبع الحكومه\n",
       "3    general         و احد شطب ع كلمة عربية و كتب جنبها اسلامية\n",
       "4    general                                             النجار"
      ]
     },
     "execution_count": 17,
     "metadata": {},
     "output_type": "execute_result"
    }
   ],
   "source": [
    "df = df.drop([\"Unnamed: 0\",\"Unnamed: 0.1\" ,\"index\"], axis=1)\n",
    "df.head()"
   ]
  },
  {
   "cell_type": "code",
   "execution_count": 18,
   "metadata": {
    "collapsed": true
   },
   "outputs": [],
   "source": [
    "df.to_csv(\"data_complete.csv\", sep=';', encoding='utf-8')"
   ]
  },
  {
   "cell_type": "code",
   "execution_count": 30,
   "metadata": {},
   "outputs": [
    {
     "data": {
      "text/plain": [
       "array(['gulf', 'levantine', 'general', 'egyptian', 'iraqi', 'notsure',\n",
       "       'other', 'maghrebi', 'prompt', 'tunisien'], dtype=object)"
      ]
     },
     "execution_count": 30,
     "metadata": {},
     "output_type": "execute_result"
    }
   ],
   "source": [
    "df[\"class\"].unique()"
   ]
  },
  {
   "cell_type": "code",
   "execution_count": 38,
   "metadata": {},
   "outputs": [
    {
     "data": {
      "text/plain": [
       "(234952, 2)"
      ]
     },
     "execution_count": 38,
     "metadata": {},
     "output_type": "execute_result"
    }
   ],
   "source": [
    "td = df[df[\"class\"].isin(['gulf', 'levantine', 'general', 'egyptian', 'iraqi','maghrebi', 'tunisien'])]\n",
    "td.shape\n"
   ]
  },
  {
   "cell_type": "code",
   "execution_count": 42,
   "metadata": {
    "collapsed": true
   },
   "outputs": [],
   "source": [
    "td.to_csv(\"data_final.csv\", sep=';', encoding='utf-8',index=False)"
   ]
  },
  {
   "cell_type": "code",
   "execution_count": 41,
   "metadata": {},
   "outputs": [
    {
     "data": {
      "text/html": [
       "<div>\n",
       "<style>\n",
       "    .dataframe thead tr:only-child th {\n",
       "        text-align: right;\n",
       "    }\n",
       "\n",
       "    .dataframe thead th {\n",
       "        text-align: left;\n",
       "    }\n",
       "\n",
       "    .dataframe tbody tr th {\n",
       "        vertical-align: top;\n",
       "    }\n",
       "</style>\n",
       "<table border=\"1\" class=\"dataframe\">\n",
       "  <thead>\n",
       "    <tr style=\"text-align: right;\">\n",
       "      <th></th>\n",
       "      <th>class</th>\n",
       "      <th>sentence</th>\n",
       "    </tr>\n",
       "  </thead>\n",
       "  <tbody>\n",
       "    <tr>\n",
       "      <th>0</th>\n",
       "      <td>gulf</td>\n",
       "      <td>اتمنى من الاداره الهلاليه تنبه لمشكلتين في اله...</td>\n",
       "    </tr>\n",
       "    <tr>\n",
       "      <th>1</th>\n",
       "      <td>levantine</td>\n",
       "      <td>الة اكبر ما خلو علينا اشي وبحكو ليش بنهاجر وبن...</td>\n",
       "    </tr>\n",
       "    <tr>\n",
       "      <th>2</th>\n",
       "      <td>levantine</td>\n",
       "      <td>الامن ليس تبع الحكومه</td>\n",
       "    </tr>\n",
       "    <tr>\n",
       "      <th>3</th>\n",
       "      <td>general</td>\n",
       "      <td>و احد شطب ع كلمة عربية و كتب جنبها اسلامية</td>\n",
       "    </tr>\n",
       "    <tr>\n",
       "      <th>4</th>\n",
       "      <td>general</td>\n",
       "      <td>النجار</td>\n",
       "    </tr>\n",
       "  </tbody>\n",
       "</table>\n",
       "</div>"
      ],
      "text/plain": [
       "       class                                           sentence\n",
       "0       gulf  اتمنى من الاداره الهلاليه تنبه لمشكلتين في اله...\n",
       "1  levantine  الة اكبر ما خلو علينا اشي وبحكو ليش بنهاجر وبن...\n",
       "2  levantine                              الامن ليس تبع الحكومه\n",
       "3    general         و احد شطب ع كلمة عربية و كتب جنبها اسلامية\n",
       "4    general                                             النجار"
      ]
     },
     "execution_count": 41,
     "metadata": {},
     "output_type": "execute_result"
    }
   ],
   "source": [
    "td.head()"
   ]
  },
  {
   "cell_type": "code",
   "execution_count": 8,
   "metadata": {},
   "outputs": [
    {
     "data": {
      "text/html": [
       "<div>\n",
       "<style>\n",
       "    .dataframe thead tr:only-child th {\n",
       "        text-align: right;\n",
       "    }\n",
       "\n",
       "    .dataframe thead th {\n",
       "        text-align: left;\n",
       "    }\n",
       "\n",
       "    .dataframe tbody tr th {\n",
       "        vertical-align: top;\n",
       "    }\n",
       "</style>\n",
       "<table border=\"1\" class=\"dataframe\">\n",
       "  <thead>\n",
       "    <tr style=\"text-align: right;\">\n",
       "      <th></th>\n",
       "      <th>text</th>\n",
       "    </tr>\n",
       "  </thead>\n",
       "  <tbody>\n",
       "    <tr>\n",
       "      <th>86245</th>\n",
       "      <td>المقيمة وعلاقتها استمرارية ومتواصلة</td>\n",
       "    </tr>\n",
       "    <tr>\n",
       "      <th>10214</th>\n",
       "      <td>من غاص غبات البحر جاب درى</td>\n",
       "    </tr>\n",
       "    <tr>\n",
       "      <th>12552</th>\n",
       "      <td>واله حرام الاعتزال يا دكتور علاء</td>\n",
       "    </tr>\n",
       "    <tr>\n",
       "      <th>9105</th>\n",
       "      <td>و بدل ما تشتري كيلوا اشتروا غرام</td>\n",
       "    </tr>\n",
       "    <tr>\n",
       "      <th>52190</th>\n",
       "      <td>وان شاء اله دايما البطولات خضراء</td>\n",
       "    </tr>\n",
       "  </tbody>\n",
       "</table>\n",
       "</div>"
      ],
      "text/plain": [
       "                                      text\n",
       "86245  المقيمة وعلاقتها استمرارية ومتواصلة\n",
       "10214            من غاص غبات البحر جاب درى\n",
       "12552     واله حرام الاعتزال يا دكتور علاء\n",
       "9105      و بدل ما تشتري كيلوا اشتروا غرام\n",
       "52190     وان شاء اله دايما البطولات خضراء"
      ]
     },
     "execution_count": 8,
     "metadata": {},
     "output_type": "execute_result"
    }
   ],
   "source": [
    "import pandas as pd   \n",
    "dt =pd.read_csv('data_ful_cleard.csv',encoding='utf-8',delimiter=';',error_bad_lines=False)\n",
    "generale = dt[dt[\"label\"]==\"general\"]\n",
    "dfg = pd.DataFrame([])\n",
    "dfg[\"text\"] = (generale.sample(500))[\"text\"]\n",
    "dfg.to_csv(\"comments3.csv\", sep=';', encoding='utf-8',index=False)\n",
    "dfg.head()             \n",
    "\n"
   ]
  },
  {
   "cell_type": "code",
   "execution_count": null,
   "metadata": {
    "collapsed": true
   },
   "outputs": [],
   "source": []
  }
 ],
 "metadata": {
  "kernelspec": {
   "display_name": "Python 3",
   "language": "python",
   "name": "python3"
  },
  "language_info": {
   "codemirror_mode": {
    "name": "ipython",
    "version": 3
   },
   "file_extension": ".py",
   "mimetype": "text/x-python",
   "name": "python",
   "nbconvert_exporter": "python",
   "pygments_lexer": "ipython3",
   "version": "3.6.2"
  }
 },
 "nbformat": 4,
 "nbformat_minor": 2
}
