{
 "cells": [
  {
   "cell_type": "code",
   "execution_count": 38,
   "metadata": {
    "collapsed": true
   },
   "outputs": [],
   "source": [
    "import codecs\n",
    "import json\n",
    "import pandas as pd"
   ]
  },
  {
   "cell_type": "code",
   "execution_count": 39,
   "metadata": {
    "collapsed": true
   },
   "outputs": [],
   "source": [
    "\n",
    "with open('mapping.manual.json',encoding='utf-8') as f:\n",
    "    en_to_ar = json.loads(f.read())\n",
    "\n",
    "NWORDS = {}\n",
    "word_counts = codecs.open('ar.txt', encoding='utf8').read().split(\"\\n\")\n",
    "for word_count in word_counts:\n",
    "    if word_count:\n",
    "        [word, n] = word_count.split()\n",
    "        NWORDS[word] = int(n)\n"
   ]
  },
  {
   "cell_type": "code",
   "execution_count": 40,
   "metadata": {},
   "outputs": [],
   "source": [
    "def sort_by_frequency(words):\n",
    "    sor = {}\n",
    "    for w in words:\n",
    "        sor[w] = NWORDS.get(w,1)\n",
    "    return sorted(words, key=sor.__getitem__, reverse=True)\n",
    "\n",
    "\n",
    "def transliterate_word(english):\n",
    "  ret = set()\n",
    "\n",
    "  def recur(letters, word, start=False):\n",
    "    if len(letters) == 0:\n",
    "      ret.add(word)\n",
    "      return\n",
    "    if start:\n",
    "      table = en_to_ar['start']\n",
    "    else:\n",
    "      table = en_to_ar['other']\n",
    "    max_key_len = len(max(list(table), key=len))\n",
    "    for i in range(1, max_key_len + 1):\n",
    "      l = letters[:i]\n",
    "      if l in table:\n",
    "        for ar in table[l]:\n",
    "          recur(letters[i:], word + ar)\n",
    "\n",
    "  recur(english, '', True)\n",
    "  return ret\n",
    "\n",
    "def transliterate(sentence, verbose=False):\n",
    "    sentence = clear(sentence)\n",
    "    words = sentence.split()\n",
    "    ret = []\n",
    "    for word in words:\n",
    "        try: \n",
    "            candidates = list(transliterate_word(word))\n",
    "            if verbose:\n",
    "                for word in candidates:\n",
    "                    print (word)\n",
    "            ret.append(sort_by_frequency(candidates)[0])\n",
    "        except IndexError:\n",
    "            ret.append(word)\n",
    "\n",
    "    return ' '.join(ret)\n"
   ]
  },
  {
   "cell_type": "code",
   "execution_count": 101,
   "metadata": {},
   "outputs": [
    {
     "name": "stdout",
     "output_type": "stream",
     "text": [
      "2thab\n",
      "مناش متربين ربي روحك قبل جاي تسيب في عسولك علينا إنتي أمسط واحد في العالم\n"
     ]
    }
   ],
   "source": [
    "from nltk.tokenize import WhitespaceTokenizer\n",
    "import re\n",
    "import itertools\n",
    "\n",
    "emoji_pattern = re.compile(\"[\"\n",
    "        u\"\\U0001F600-\\U0001F64F\"  # emoticons\n",
    "        u\"\\U0001F300-\\U0001F5FF\"  # symbols & pictographs\n",
    "        u\"\\U0001F680-\\U0001F6FF\"  # transport & map symbols\n",
    "        u\"\\U0001F1E0-\\U0001F1FF\"  # flags (iOS)\n",
    "                           \"]+\", flags=re.UNICODE)\n",
    "\n",
    "def clear(sentence):\n",
    "    sentence = emoji_pattern.sub(r'',sentence)\n",
    "    sentence = re.sub(r'^RT', '', sentence)\n",
    "    sentence = re.sub(r'\\&\\w*;', '', sentence)\n",
    "    sentence = re.sub(r'\\@\\w*', '', sentence)\n",
    "    sentence = re.sub(r'\\$\\w*', '', sentence)\n",
    "    sentence = re.sub(r'https?:\\/\\/.*\\/\\w*', '', sentence)\n",
    "    sentence = re.sub(r'#\\w*', '', sentence)\n",
    "    sentence = re.sub(r'[.]+', '', sentence)\n",
    "    sentence = re.sub(r'[\\t,\\.!?`()\\-$*&؟\\\"\\\\\\'،%~§+]', '', sentence)        \n",
    "    sentence = re.sub(r'[»]', ' ', sentence)\n",
    "    sentence = sentence.lower()\n",
    "    sentence = sentence.strip(' ')\n",
    "    sentence = re.sub('  ', ' ', sentence)\n",
    "    sentence = ''.join(ch for ch, _ in itertools.groupby(sentence))\n",
    "    return sentence\n",
    "\n",
    "print(clear(\"2thhab ()\"))\n",
    "\n",
    "print(clear('مناش متربين ربي روحك قبل جاي تسيب في عسولك  علينا  😂إنتي أمسط واحد في العالم 😅😅😅😅😅😅😅😅😅😅........'))\n",
    "\n"
   ]
  },
  {
   "cell_type": "code",
   "execution_count": 92,
   "metadata": {},
   "outputs": [
    {
     "name": "stdout",
     "output_type": "stream",
     "text": [
      "قلت لك أذهب من هنا أمك تبحث عنك\n"
     ]
    }
   ],
   "source": [
    "print (transliterate('qlto laka 2thhab men hona 2mok tab7atho 3ank') )"
   ]
  },
  {
   "cell_type": "code",
   "execution_count": 26,
   "metadata": {},
   "outputs": [
    {
     "name": "stdout",
     "output_type": "stream",
     "text": [
      "صراحة برافو أحمد الرحموني\n"
     ]
    }
   ],
   "source": [
    "print(transliterate(clear('صراحة bravo أحمد الرحموني')))"
   ]
  },
  {
   "cell_type": "code",
   "execution_count": 29,
   "metadata": {},
   "outputs": [
    {
     "name": "stdout",
     "output_type": "stream",
     "text": [
      "\"امسط منها مافماش موش خارج عليها دور جمله _x0d_\n"
     ]
    }
   ],
   "source": [
    "print(transliterate(clear('\"امسط منها مافماش موش خارج عليها دور جمله _x000D_')))"
   ]
  },
  {
   "cell_type": "code",
   "execution_count": 44,
   "metadata": {},
   "outputs": [
    {
     "name": "stdout",
     "output_type": "stream",
     "text": [
      "قلت لك أذهب من هنا أمك تبحث عنك\n"
     ]
    }
   ],
   "source": [
    "print (transliterate('qlto laka 2thhab men hona 2mok tab7atho 3ank') )"
   ]
  },
  {
   "cell_type": "code",
   "execution_count": 102,
   "metadata": {},
   "outputs": [
    {
     "data": {
      "text/html": [
       "<div>\n",
       "<style>\n",
       "    .dataframe thead tr:only-child th {\n",
       "        text-align: right;\n",
       "    }\n",
       "\n",
       "    .dataframe thead th {\n",
       "        text-align: left;\n",
       "    }\n",
       "\n",
       "    .dataframe tbody tr th {\n",
       "        vertical-align: top;\n",
       "    }\n",
       "</style>\n",
       "<table border=\"1\" class=\"dataframe\">\n",
       "  <thead>\n",
       "    <tr style=\"text-align: right;\">\n",
       "      <th></th>\n",
       "      <th>sentence</th>\n",
       "    </tr>\n",
       "  </thead>\n",
       "  <tbody>\n",
       "    <tr>\n",
       "      <th>6904</th>\n",
       "      <td>وحدو في الهشاشة</td>\n",
       "    </tr>\n",
       "    <tr>\n",
       "      <th>3988</th>\n",
       "      <td>بليدمان :-B</td>\n",
       "    </tr>\n",
       "    <tr>\n",
       "      <th>2887</th>\n",
       "      <td>شحال تحشوفيه والله ياخي كيما تحبوش الفساد والر...</td>\n",
       "    </tr>\n",
       "    <tr>\n",
       "      <th>736</th>\n",
       "      <td>T7founa 😚</td>\n",
       "    </tr>\n",
       "    <tr>\n",
       "      <th>1218</th>\n",
       "      <td>محلاك عسل</td>\n",
       "    </tr>\n",
       "  </tbody>\n",
       "</table>\n",
       "</div>"
      ],
      "text/plain": [
       "                                               sentence\n",
       "6904                                    وحدو في الهشاشة\n",
       "3988                                        بليدمان :-B\n",
       "2887  شحال تحشوفيه والله ياخي كيما تحبوش الفساد والر...\n",
       "736                                           T7founa 😚\n",
       "1218                                          محلاك عسل"
      ]
     },
     "execution_count": 102,
     "metadata": {},
     "output_type": "execute_result"
    }
   ],
   "source": [
    "tn =pd.read_csv('tn_corp.txt',encoding='utf-8',sep=\"|\",error_bad_lines=False)\n",
    "\n",
    "tn.sample(5)"
   ]
  },
  {
   "cell_type": "code",
   "execution_count": null,
   "metadata": {},
   "outputs": [],
   "source": [
    "\n",
    "tn['sentence']  = tn['sentence'].apply(transliterate)\n",
    "\n",
    "tn[\"class\"] = \"tunisien\"\n",
    "\n",
    "tn.sample(5)"
   ]
  },
  {
   "cell_type": "code",
   "execution_count": null,
   "metadata": {
    "collapsed": true
   },
   "outputs": [],
   "source": [
    "tn.to_csv(\"data_5.csv\", sep=';', encoding='utf-8')"
   ]
  }
 ],
 "metadata": {
  "kernelspec": {
   "display_name": "Python 3",
   "language": "python",
   "name": "python3"
  },
  "language_info": {
   "codemirror_mode": {
    "name": "ipython",
    "version": 3
   },
   "file_extension": ".py",
   "mimetype": "text/x-python",
   "name": "python",
   "nbconvert_exporter": "python",
   "pygments_lexer": "ipython3",
   "version": "3.6.2"
  }
 },
 "nbformat": 4,
 "nbformat_minor": 2
}
