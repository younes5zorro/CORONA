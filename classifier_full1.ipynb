{
 "cells": [
  {
   "cell_type": "code",
   "execution_count": 1,
   "metadata": {
    "collapsed": true
   },
   "outputs": [],
   "source": [
    "# This code is to disable warnings that may display this notebook a little bit \"ugly\"\n",
    "import warnings\n",
    "warnings.filterwarnings('ignore')"
   ]
  },
  {
   "cell_type": "code",
   "execution_count": 1,
   "metadata": {},
   "outputs": [
    {
     "name": "stderr",
     "output_type": "stream",
     "text": [
      "C:\\Users\\youne\\AppData\\Local\\Continuum\\anaconda3\\lib\\site-packages\\gensim\\utils.py:1212: UserWarning: detected Windows; aliasing chunkize to chunkize_serial\n",
      "  warnings.warn(\"detected Windows; aliasing chunkize to chunkize_serial\")\n"
     ]
    }
   ],
   "source": [
    "\n",
    "import logging\n",
    "import pandas as pd\n",
    "import numpy as np\n",
    "from numpy import random\n",
    "import gensim\n",
    "import nltk\n",
    "from sklearn.model_selection import train_test_split\n",
    "from sklearn.feature_extraction.text import CountVectorizer, TfidfVectorizer\n",
    "from sklearn.metrics import accuracy_score, confusion_matrix\n",
    "import matplotlib.pyplot as plt\n",
    "from nltk.corpus import stopwords\n",
    "import re\n",
    "# from bs4 import BeautifulSoup\n",
    "%matplotlib inline\n"
   ]
  },
  {
   "cell_type": "markdown",
   "metadata": {},
   "source": [
    "## get the data"
   ]
  },
  {
   "cell_type": "code",
   "execution_count": 2,
   "metadata": {
    "collapsed": true
   },
   "outputs": [],
   "source": [
    "data =pd.read_csv('data_ful_cleard.csv',encoding='utf-8',delimiter=';',error_bad_lines=False)"
   ]
  },
  {
   "cell_type": "code",
   "execution_count": 3,
   "metadata": {},
   "outputs": [
    {
     "data": {
      "text/plain": [
       "1908133"
      ]
     },
     "execution_count": 3,
     "metadata": {},
     "output_type": "execute_result"
    }
   ],
   "source": [
    "data['text'].apply(lambda x: len(x.split(' '))).sum()"
   ]
  },
  {
   "cell_type": "markdown",
   "metadata": {},
   "source": [
    "## EDA"
   ]
  },
  {
   "cell_type": "code",
   "execution_count": 6,
   "metadata": {},
   "outputs": [
    {
     "data": {
      "text/html": [
       "<div>\n",
       "<style>\n",
       "    .dataframe thead tr:only-child th {\n",
       "        text-align: right;\n",
       "    }\n",
       "\n",
       "    .dataframe thead th {\n",
       "        text-align: left;\n",
       "    }\n",
       "\n",
       "    .dataframe tbody tr th {\n",
       "        vertical-align: top;\n",
       "    }\n",
       "</style>\n",
       "<table border=\"1\" class=\"dataframe\">\n",
       "  <thead>\n",
       "    <tr style=\"text-align: right;\">\n",
       "      <th></th>\n",
       "      <th>text</th>\n",
       "      <th>label</th>\n",
       "    </tr>\n",
       "  </thead>\n",
       "  <tbody>\n",
       "    <tr>\n",
       "      <th>115092</th>\n",
       "      <td>عجبتني خصيتان كي تجةنكةل بل أنجليس</td>\n",
       "      <td>tunisien</td>\n",
       "    </tr>\n",
       "    <tr>\n",
       "      <th>115093</th>\n",
       "      <td>طفل ظامر برشة ربي يوفقو</td>\n",
       "      <td>tunisien</td>\n",
       "    </tr>\n",
       "  </tbody>\n",
       "</table>\n",
       "</div>"
      ],
      "text/plain": [
       "                                      text     label\n",
       "115092  عجبتني خصيتان كي تجةنكةل بل أنجليس  tunisien\n",
       "115093             طفل ظامر برشة ربي يوفقو  tunisien"
      ]
     },
     "execution_count": 6,
     "metadata": {},
     "output_type": "execute_result"
    }
   ],
   "source": [
    "data.tail(2)"
   ]
  },
  {
   "cell_type": "code",
   "execution_count": 7,
   "metadata": {},
   "outputs": [
    {
     "data": {
      "text/html": [
       "<div>\n",
       "<style>\n",
       "    .dataframe thead tr:only-child th {\n",
       "        text-align: right;\n",
       "    }\n",
       "\n",
       "    .dataframe thead th {\n",
       "        text-align: left;\n",
       "    }\n",
       "\n",
       "    .dataframe tbody tr th {\n",
       "        vertical-align: top;\n",
       "    }\n",
       "</style>\n",
       "<table border=\"1\" class=\"dataframe\">\n",
       "  <thead>\n",
       "    <tr style=\"text-align: right;\">\n",
       "      <th></th>\n",
       "      <th>text</th>\n",
       "      <th>label</th>\n",
       "    </tr>\n",
       "  </thead>\n",
       "  <tbody>\n",
       "    <tr>\n",
       "      <th>0</th>\n",
       "      <td>اتمنى من الاداره الهلاليه تنبه لمشكلتين في اله...</td>\n",
       "      <td>gulf</td>\n",
       "    </tr>\n",
       "    <tr>\n",
       "      <th>1</th>\n",
       "      <td>الة اكبر ما خلو علينا اشي وبحكو ليش بنهاجر وبن...</td>\n",
       "      <td>levantine</td>\n",
       "    </tr>\n",
       "  </tbody>\n",
       "</table>\n",
       "</div>"
      ],
      "text/plain": [
       "                                                text      label\n",
       "0  اتمنى من الاداره الهلاليه تنبه لمشكلتين في اله...       gulf\n",
       "1  الة اكبر ما خلو علينا اشي وبحكو ليش بنهاجر وبن...  levantine"
      ]
     },
     "execution_count": 7,
     "metadata": {},
     "output_type": "execute_result"
    }
   ],
   "source": [
    "data.head(2)"
   ]
  },
  {
   "cell_type": "code",
   "execution_count": 6,
   "metadata": {},
   "outputs": [
    {
     "name": "stdout",
     "output_type": "stream",
     "text": [
      "<class 'pandas.core.frame.DataFrame'>\n",
      "RangeIndex: 116293 entries, 0 to 116292\n",
      "Data columns (total 2 columns):\n",
      "text     116292 non-null object\n",
      "label    116293 non-null object\n",
      "dtypes: object(2)\n",
      "memory usage: 1.8+ MB\n"
     ]
    }
   ],
   "source": [
    "data.info()"
   ]
  },
  {
   "cell_type": "code",
   "execution_count": 8,
   "metadata": {},
   "outputs": [
    {
     "data": {
      "text/html": [
       "<div>\n",
       "<style>\n",
       "    .dataframe thead tr:only-child th {\n",
       "        text-align: right;\n",
       "    }\n",
       "\n",
       "    .dataframe thead th {\n",
       "        text-align: left;\n",
       "    }\n",
       "\n",
       "    .dataframe tbody tr th {\n",
       "        vertical-align: top;\n",
       "    }\n",
       "</style>\n",
       "<table border=\"1\" class=\"dataframe\">\n",
       "  <thead>\n",
       "    <tr>\n",
       "      <th></th>\n",
       "      <th colspan=\"4\" halign=\"left\">text</th>\n",
       "    </tr>\n",
       "    <tr>\n",
       "      <th></th>\n",
       "      <th>count</th>\n",
       "      <th>unique</th>\n",
       "      <th>top</th>\n",
       "      <th>freq</th>\n",
       "    </tr>\n",
       "    <tr>\n",
       "      <th>label</th>\n",
       "      <th></th>\n",
       "      <th></th>\n",
       "      <th></th>\n",
       "      <th></th>\n",
       "    </tr>\n",
       "  </thead>\n",
       "  <tbody>\n",
       "    <tr>\n",
       "      <th>egyptian</th>\n",
       "      <td>22105</td>\n",
       "      <td>22105</td>\n",
       "      <td>لأ تخافي يا إيمان إشتري من محل موثوق فيه شاهين...</td>\n",
       "      <td>1</td>\n",
       "    </tr>\n",
       "    <tr>\n",
       "      <th>general</th>\n",
       "      <td>18903</td>\n",
       "      <td>18903</td>\n",
       "      <td>خاصتاً انها محسومه مسبقاً</td>\n",
       "      <td>1</td>\n",
       "    </tr>\n",
       "    <tr>\n",
       "      <th>gulf</th>\n",
       "      <td>24171</td>\n",
       "      <td>24171</td>\n",
       "      <td>صح اله يدك ونفع اله بك وبرسمك</td>\n",
       "      <td>1</td>\n",
       "    </tr>\n",
       "    <tr>\n",
       "      <th>iraqi</th>\n",
       "      <td>291</td>\n",
       "      <td>291</td>\n",
       "      <td>العراق فلسطين سجلهما علي وهيب ورزاق فرحان</td>\n",
       "      <td>1</td>\n",
       "    </tr>\n",
       "    <tr>\n",
       "      <th>levantine</th>\n",
       "      <td>22987</td>\n",
       "      <td>22987</td>\n",
       "      <td>الي عندنا ربا وسرقة وتحايل بس حلال</td>\n",
       "      <td>1</td>\n",
       "    </tr>\n",
       "    <tr>\n",
       "      <th>maghrebi</th>\n",
       "      <td>9638</td>\n",
       "      <td>9638</td>\n",
       "      <td>مُتمسك بليس شعري ومافهمتش ندي تدخلات الرب انكو...</td>\n",
       "      <td>1</td>\n",
       "    </tr>\n",
       "    <tr>\n",
       "      <th>tunisien</th>\n",
       "      <td>16999</td>\n",
       "      <td>16999</td>\n",
       "      <td>برافو يا جو</td>\n",
       "      <td>1</td>\n",
       "    </tr>\n",
       "  </tbody>\n",
       "</table>\n",
       "</div>"
      ],
      "text/plain": [
       "            text                                                            \\\n",
       "           count unique                                                top   \n",
       "label                                                                        \n",
       "egyptian   22105  22105  لأ تخافي يا إيمان إشتري من محل موثوق فيه شاهين...   \n",
       "general    18903  18903                          خاصتاً انها محسومه مسبقاً   \n",
       "gulf       24171  24171                      صح اله يدك ونفع اله بك وبرسمك   \n",
       "iraqi        291    291          العراق فلسطين سجلهما علي وهيب ورزاق فرحان   \n",
       "levantine  22987  22987                 الي عندنا ربا وسرقة وتحايل بس حلال   \n",
       "maghrebi    9638   9638  مُتمسك بليس شعري ومافهمتش ندي تدخلات الرب انكو...   \n",
       "tunisien   16999  16999                                        برافو يا جو   \n",
       "\n",
       "                \n",
       "          freq  \n",
       "label           \n",
       "egyptian     1  \n",
       "general      1  \n",
       "gulf         1  \n",
       "iraqi        1  \n",
       "levantine    1  \n",
       "maghrebi     1  \n",
       "tunisien     1  "
      ]
     },
     "execution_count": 8,
     "metadata": {},
     "output_type": "execute_result"
    }
   ],
   "source": [
    "data.groupby('label').describe()"
   ]
  },
  {
   "cell_type": "code",
   "execution_count": 9,
   "metadata": {},
   "outputs": [
    {
     "data": {
      "text/plain": [
       "<matplotlib.axes._subplots.AxesSubplot at 0x256a4f997f0>"
      ]
     },
     "execution_count": 9,
     "metadata": {},
     "output_type": "execute_result"
    },
    {
     "data": {
      "image/png": "[encoded data removed]",
      "text/plain": [
       "<matplotlib.figure.Figure at 0x256a4b6f198>"
      ]
     },
     "metadata": {},
     "output_type": "display_data"
    }
   ],
   "source": [
    "sns.countplot(x=\"label\", data=data)"
   ]
  },
  {
   "cell_type": "code",
   "execution_count": 11,
   "metadata": {},
   "outputs": [
    {
     "data": {
      "image/png": "[encoded data removed]",
      "text/plain": [
       "<matplotlib.figure.Figure at 0x256a50535f8>"
      ]
     },
     "metadata": {},
     "output_type": "display_data"
    }
   ],
   "source": [
    "plt.figure(figsize=(10,4))\n",
    "data.label.value_counts().plot(kind='bar');"
   ]
  },
  {
   "cell_type": "markdown",
   "metadata": {},
   "source": [
    "## dialect classification "
   ]
  },
  {
   "cell_type": "code",
   "execution_count": 4,
   "metadata": {
    "collapsed": true
   },
   "outputs": [],
   "source": [
    "X = data.text\n",
    "y = data.label"
   ]
  },
  {
   "cell_type": "code",
   "execution_count": 5,
   "metadata": {},
   "outputs": [
    {
     "name": "stdout",
     "output_type": "stream",
     "text": [
      "(80565,) (34529,) (80565,) (34529,)\n"
     ]
    }
   ],
   "source": [
    "X_train, X_test, y_train, y_test = train_test_split(X, y, test_size=0.3, random_state = 42)\n",
    "print(X_train.shape, X_test.shape, y_train.shape, y_test.shape)"
   ]
  },
  {
   "cell_type": "markdown",
   "metadata": {},
   "source": [
    "### using XGBClassifier model\n"
   ]
  },
  {
   "cell_type": "code",
   "execution_count": 6,
   "metadata": {},
   "outputs": [
    {
     "name": "stderr",
     "output_type": "stream",
     "text": [
      "C:\\Users\\youne\\AppData\\Local\\Continuum\\anaconda3\\lib\\site-packages\\sklearn\\feature_extraction\\text.py:1089: FutureWarning: Conversion of the second argument of issubdtype from `float` to `np.floating` is deprecated. In future, it will be treated as `np.float64 == np.dtype(float).type`.\n",
      "  if hasattr(X, 'dtype') and np.issubdtype(X.dtype, np.float):\n"
     ]
    },
    {
     "data": {
      "text/plain": [
       "Pipeline(memory=None,\n",
       "     steps=[('vect', CountVectorizer(analyzer='word', binary=False, decode_error='strict',\n",
       "        dtype=<class 'numpy.int64'>, encoding='utf-8', input='content',\n",
       "        lowercase=True, max_df=1.0, max_features=None, min_df=1,\n",
       "        ngram_range=(1, 1), preprocessor=None, stop_words=None,\n",
       "        strip...\n",
       "       reg_alpha=0, reg_lambda=1, scale_pos_weight=1, seed=None,\n",
       "       silent=True, subsample=1))])"
      ]
     },
     "execution_count": 6,
     "metadata": {},
     "output_type": "execute_result"
    }
   ],
   "source": [
    "from xgboost import XGBClassifier\n",
    "from sklearn.pipeline import Pipeline\n",
    "from sklearn.feature_extraction.text import TfidfTransformer\n",
    "\n",
    "gb = Pipeline([('vect', CountVectorizer()),\n",
    "               ('tfidf', TfidfTransformer()),\n",
    "               ('clf', XGBClassifier(max_depth=3, n_estimators=300, learning_rate=0.1)),\n",
    "              ])\n",
    "gb.fit(X_train, y_train)"
   ]
  },
  {
   "cell_type": "code",
   "execution_count": null,
   "metadata": {
    "collapsed": true
   },
   "outputs": [],
   "source": [
    "from sklearn.metrics import classification_report\n",
    "y_pred = gb.predict(X_test)\n",
    "\n",
    "print('accuracy %s' % accuracy_score(y_pred, y_test))\n",
    "\n",
    "# Model Evaluation\n",
    "print(classification_report(y_pred, y_test))"
   ]
  },
  {
   "cell_type": "code",
   "execution_count": null,
   "metadata": {
    "collapsed": true
   },
   "outputs": [],
   "source": []
  },
  {
   "cell_type": "code",
   "execution_count": null,
   "metadata": {
    "collapsed": true
   },
   "outputs": [],
   "source": []
  },
  {
   "cell_type": "code",
   "execution_count": null,
   "metadata": {
    "collapsed": true
   },
   "outputs": [],
   "source": []
  },
  {
   "cell_type": "code",
   "execution_count": null,
   "metadata": {
    "collapsed": true
   },
   "outputs": [],
   "source": []
  },
  {
   "cell_type": "markdown",
   "metadata": {},
   "source": [
    "### using naive bayes classification model\n"
   ]
  },
  {
   "cell_type": "code",
   "execution_count": 16,
   "metadata": {},
   "outputs": [
    {
     "data": {
      "text/plain": [
       "Pipeline(memory=None,\n",
       "     steps=[('vect', CountVectorizer(analyzer='word', binary=False, decode_error='strict',\n",
       "        dtype=<class 'numpy.int64'>, encoding='utf-8', input='content',\n",
       "        lowercase=True, max_df=1.0, max_features=None, min_df=1,\n",
       "        ngram_range=(1, 1), preprocessor=None, stop_words=None,\n",
       "        strip...inear_tf=False, use_idf=True)), ('clf', MultinomialNB(alpha=1.0, class_prior=None, fit_prior=True))])"
      ]
     },
     "execution_count": 16,
     "metadata": {},
     "output_type": "execute_result"
    }
   ],
   "source": [
    "from sklearn.naive_bayes import MultinomialNB\n",
    "from sklearn.pipeline import Pipeline\n",
    "from sklearn.feature_extraction.text import TfidfTransformer\n",
    "\n",
    "nb = Pipeline([('vect', CountVectorizer()),\n",
    "               ('tfidf', TfidfTransformer()),\n",
    "               ('clf', MultinomialNB()),\n",
    "              ])\n",
    "nb.fit(X_train, y_train)"
   ]
  },
  {
   "cell_type": "code",
   "execution_count": 18,
   "metadata": {},
   "outputs": [
    {
     "name": "stdout",
     "output_type": "stream",
     "text": [
      "accuracy 0.6864954096556518\n",
      "             precision    recall  f1-score   support\n",
      "\n",
      "   egyptian       0.86      0.70      0.77      8276\n",
      "    general       0.27      0.90      0.42      1735\n",
      "       gulf       0.83      0.61      0.70      9977\n",
      "      iraqi       0.00      0.00      0.00         0\n",
      "  levantine       0.77      0.57      0.66      9113\n",
      "   maghrebi       0.23      0.99      0.37       657\n",
      "   tunisien       0.88      0.93      0.91      4771\n",
      "\n",
      "avg / total       0.79      0.69      0.71     34529\n",
      "\n"
     ]
    }
   ],
   "source": [
    "from sklearn.metrics import classification_report\n",
    "y_pred = nb.predict(X_test)\n",
    "\n",
    "print('accuracy %s' % accuracy_score(y_pred, y_test))\n",
    "\n",
    "# Model Evaluation\n",
    "print(classification_report(y_pred, y_test))"
   ]
  },
  {
   "cell_type": "markdown",
   "metadata": {},
   "source": [
    "### Using Linear support vector machine"
   ]
  },
  {
   "cell_type": "code",
   "execution_count": 22,
   "metadata": {},
   "outputs": [
    {
     "name": "stdout",
     "output_type": "stream",
     "text": [
      "accuracy 0.6842364389353877\n",
      "             precision    recall  f1-score   support\n",
      "\n",
      "   egyptian       0.85      0.66      0.74      8721\n",
      "    general       0.30      0.79      0.43      2154\n",
      "       gulf       0.78      0.66      0.71      8691\n",
      "      iraqi       0.00      0.00      0.00         3\n",
      "  levantine       0.67      0.67      0.67      6789\n",
      "   maghrebi       0.44      0.80      0.56      1576\n",
      "   tunisien       0.93      0.71      0.81      6595\n",
      "\n",
      "avg / total       0.76      0.68      0.71     34529\n",
      "\n"
     ]
    }
   ],
   "source": [
    "from sklearn.linear_model import SGDClassifier\n",
    "\n",
    "sgd = Pipeline([('vect', CountVectorizer()),\n",
    "                ('tfidf', TfidfTransformer()),\n",
    "                ('clf', SGDClassifier(loss='hinge', penalty='l2',alpha=1e-3, random_state=42, max_iter=5, tol=None)),\n",
    "               ])\n",
    "sgd.fit(X_train, y_train)\n",
    "\n",
    "y_pred = sgd.predict(X_test)\n",
    "\n",
    "print('accuracy %s' % accuracy_score(y_pred, y_test))\n",
    "\n",
    "# Model Evaluation\n",
    "print(classification_report(y_pred, y_test))\n"
   ]
  },
  {
   "cell_type": "markdown",
   "metadata": {},
   "source": [
    "### Logistic regression"
   ]
  },
  {
   "cell_type": "code",
   "execution_count": 23,
   "metadata": {},
   "outputs": [
    {
     "name": "stdout",
     "output_type": "stream",
     "text": [
      "accuracy 0.6734918474325929\n",
      "             precision    recall  f1-score   support\n",
      "\n",
      "   egyptian       0.75      0.77      0.76      6494\n",
      "    general       0.48      0.46      0.47      5989\n",
      "       gulf       0.65      0.67      0.66      7102\n",
      "      iraqi       0.00      0.00      0.00         7\n",
      "  levantine       0.62      0.59      0.61      7122\n",
      "   maghrebi       0.65      0.85      0.74      2204\n",
      "   tunisien       0.91      0.82      0.86      5611\n",
      "\n",
      "avg / total       0.68      0.67      0.67     34529\n",
      "\n"
     ]
    }
   ],
   "source": [
    "from sklearn.linear_model import LogisticRegression\n",
    "\n",
    "logreg = Pipeline([('vect', CountVectorizer()),\n",
    "                ('tfidf', TfidfTransformer()),\n",
    "                ('clf', LogisticRegression(n_jobs=1, C=1e5)),\n",
    "               ])\n",
    "logreg.fit(X_train, y_train)\n",
    "\n",
    "y_pred = logreg.predict(X_test)\n",
    "\n",
    "print('accuracy %s' % accuracy_score(y_pred, y_test))\n",
    "print(classification_report(y_pred, y_test))"
   ]
  },
  {
   "cell_type": "markdown",
   "metadata": {},
   "source": [
    "### Doc2vec and Logistic Regression"
   ]
  },
  {
   "cell_type": "code",
   "execution_count": 35,
   "metadata": {
    "collapsed": true
   },
   "outputs": [],
   "source": [
    "from tqdm import tqdm\n",
    "tqdm.pandas(desc=\"progress-bar\")\n",
    "from gensim.models import Doc2Vec\n",
    "from sklearn import utils\n",
    "import gensim\n",
    "from gensim.models.doc2vec import TaggedDocument\n",
    "import re\n",
    "\n",
    "def label_sentences(corpus, label_type):\n",
    "    \"\"\"\n",
    "    Gensim's Doc2Vec implementation requires each document/paragraph to have a label associated with it.\n",
    "    We do this by using the TaggedDocument method. The format will be \"TRAIN_i\" or \"TEST_i\" where \"i\" is\n",
    "    a dummy index of the post.\n",
    "    \"\"\"\n",
    "    labeled = []\n",
    "    for i, v in enumerate(corpus):\n",
    "        label = label_type + '_' + str(i)\n",
    "        labeled.append(TaggedDocument(v.split(), [label]))\n",
    "    return labeled\n",
    "\n",
    "def get_vectors(model, corpus_size, vectors_size, vectors_type):\n",
    "    \"\"\"\n",
    "    Get vectors from trained doc2vec model\n",
    "    :param doc2vec_model: Trained Doc2Vec model\n",
    "    :param corpus_size: Size of the data\n",
    "    :param vectors_size: Size of the embedding vectors\n",
    "    :param vectors_type: Training or Testing vectors\n",
    "    :return: list of vectors\n",
    "    \"\"\"\n",
    "    vectors = np.zeros((corpus_size, vectors_size))\n",
    "    for i in range(0, corpus_size):\n",
    "        prefix = vectors_type + '_' + str(i)\n",
    "        vectors[i] = model.docvecs[prefix]\n",
    "    return vectors"
   ]
  },
  {
   "cell_type": "code",
   "execution_count": 30,
   "metadata": {
    "collapsed": true
   },
   "outputs": [],
   "source": [
    "X_train, X_test, y_train, y_test = train_test_split(data.text, data.label, random_state=0, test_size=0.3)\n",
    "X_train = label_sentences(X_train, 'Train')\n",
    "X_test = label_sentences(X_test, 'Test')\n",
    "all_data = X_train + X_test"
   ]
  },
  {
   "cell_type": "code",
   "execution_count": 32,
   "metadata": {},
   "outputs": [
    {
     "name": "stderr",
     "output_type": "stream",
     "text": [
      "100%|██████████████████████████████████████████████████████████████████████| 115094/115094 [00:00<00:00, 665670.00it/s]\n"
     ]
    }
   ],
   "source": [
    "model_dbow = Doc2Vec(dm=0, vector_size=300, negative=5, min_count=1, alpha=0.065, min_alpha=0.065)\n",
    "model_dbow.build_vocab([x for x in tqdm(all_data)])"
   ]
  },
  {
   "cell_type": "code",
   "execution_count": 33,
   "metadata": {},
   "outputs": [
    {
     "name": "stderr",
     "output_type": "stream",
     "text": [
      "100%|██████████████████████████████████████████████████████████████████████| 115094/115094 [00:00<00:00, 511818.72it/s]\n",
      "100%|██████████████████████████████████████████████████████████████████████| 115094/115094 [00:00<00:00, 706541.05it/s]\n",
      "100%|██████████████████████████████████████████████████████████████████████| 115094/115094 [00:00<00:00, 391701.52it/s]\n",
      "100%|██████████████████████████████████████████████████████████████████████| 115094/115094 [00:00<00:00, 612539.38it/s]\n",
      "100%|██████████████████████████████████████████████████████████████████████| 115094/115094 [00:00<00:00, 799709.80it/s]\n",
      "100%|██████████████████████████████████████████████████████████████████████| 115094/115094 [00:00<00:00, 788622.06it/s]\n",
      "100%|██████████████████████████████████████████████████████████████████████| 115094/115094 [00:00<00:00, 794046.90it/s]\n",
      "100%|██████████████████████████████████████████████████████████████████████| 115094/115094 [00:00<00:00, 772784.61it/s]\n",
      "100%|██████████████████████████████████████████████████████████████████████| 115094/115094 [00:00<00:00, 681430.82it/s]\n",
      "100%|██████████████████████████████████████████████████████████████████████| 115094/115094 [00:00<00:00, 778090.83it/s]\n",
      "100%|██████████████████████████████████████████████████████████████████████| 115094/115094 [00:00<00:00, 783394.15it/s]\n",
      "100%|██████████████████████████████████████████████████████████████████████| 115094/115094 [00:00<00:00, 661843.28it/s]\n",
      "100%|██████████████████████████████████████████████████████████████████████| 115094/115094 [00:00<00:00, 794220.65it/s]\n",
      "100%|██████████████████████████████████████████████████████████████████████| 115094/115094 [00:00<00:00, 799570.72it/s]\n",
      "100%|██████████████████████████████████████████████████████████████████████| 115094/115094 [00:00<00:00, 639767.63it/s]\n",
      "100%|██████████████████████████████████████████████████████████████████████| 115094/115094 [00:00<00:00, 728988.69it/s]\n",
      "100%|██████████████████████████████████████████████████████████████████████| 115094/115094 [00:00<00:00, 724393.16it/s]\n",
      "100%|██████████████████████████████████████████████████████████████████████| 115094/115094 [00:00<00:00, 742998.08it/s]\n",
      "100%|██████████████████████████████████████████████████████████████████████| 115094/115094 [00:00<00:00, 762553.75it/s]\n",
      "100%|██████████████████████████████████████████████████████████████████████| 115094/115094 [00:00<00:00, 738341.10it/s]\n",
      "100%|██████████████████████████████████████████████████████████████████████| 115094/115094 [00:00<00:00, 772898.44it/s]\n",
      "100%|██████████████████████████████████████████████████████████████████████| 115094/115094 [00:00<00:00, 805321.03it/s]\n",
      "100%|██████████████████████████████████████████████████████████████████████| 115094/115094 [00:00<00:00, 805159.85it/s]\n",
      "100%|██████████████████████████████████████████████████████████████████████| 115094/115094 [00:00<00:00, 752542.14it/s]\n",
      "100%|██████████████████████████████████████████████████████████████████████| 115094/115094 [00:00<00:00, 783277.21it/s]\n",
      "100%|██████████████████████████████████████████████████████████████████████| 115094/115094 [00:00<00:00, 788620.78it/s]\n",
      "100%|█████████████████████████████████████████████████████████████████████| 115094/115094 [00:00<00:00, 2560095.16it/s]\n",
      "100%|██████████████████████████████████████████████████████████████████████| 115094/115094 [00:00<00:00, 778099.61it/s]\n",
      "100%|██████████████████████████████████████████████████████████████████████| 115094/115094 [00:00<00:00, 788785.72it/s]\n",
      "100%|██████████████████████████████████████████████████████████████████████| 115094/115094 [00:00<00:00, 575775.30it/s]\n"
     ]
    }
   ],
   "source": [
    "for epoch in range(30):\n",
    "    model_dbow.train(utils.shuffle([x for x in tqdm(all_data)]), total_examples=len(all_data), epochs=1)\n",
    "    model_dbow.alpha -= 0.002\n",
    "    model_dbow.min_alpha = model_dbow.alpha"
   ]
  },
  {
   "cell_type": "code",
   "execution_count": 36,
   "metadata": {},
   "outputs": [
    {
     "name": "stdout",
     "output_type": "stream",
     "text": [
      "accuracy 0.6952706420689855\n",
      "             precision    recall  f1-score   support\n",
      "\n",
      "   egyptian       0.81      0.78      0.79      6967\n",
      "    general       0.42      0.50      0.46      4852\n",
      "       gulf       0.76      0.66      0.70      8236\n",
      "      iraqi       0.00      0.00      0.00        11\n",
      "  levantine       0.67      0.66      0.67      6934\n",
      "   maghrebi       0.53      0.77      0.63      1987\n",
      "   tunisien       0.90      0.84      0.87      5542\n",
      "\n",
      "avg / total       0.71      0.70      0.70     34529\n",
      "\n"
     ]
    }
   ],
   "source": [
    "train_vectors_dbow = get_vectors(model_dbow, len(X_train), 300, 'Train')\n",
    "test_vectors_dbow = get_vectors(model_dbow, len(X_test), 300, 'Test')\n",
    "\n",
    "logreg = LogisticRegression(n_jobs=1, C=1e5)\n",
    "logreg.fit(train_vectors_dbow, y_train)\n",
    "\n",
    "logreg = logreg.fit(train_vectors_dbow, y_train)\n",
    "y_pred = logreg.predict(test_vectors_dbow)\n",
    "\n",
    "print('accuracy %s' % accuracy_score(y_pred, y_test))\n",
    "print(classification_report(y_pred, y_test))"
   ]
  },
  {
   "cell_type": "markdown",
   "metadata": {},
   "source": [
    "### BOW with keras"
   ]
  },
  {
   "cell_type": "code",
   "execution_count": 37,
   "metadata": {},
   "outputs": [
    {
     "name": "stderr",
     "output_type": "stream",
     "text": [
      "Using TensorFlow backend.\n"
     ]
    }
   ],
   "source": [
    "import itertools\n",
    "import os\n",
    "\n",
    "%matplotlib inline\n",
    "import matplotlib.pyplot as plt\n",
    "import numpy as np\n",
    "import pandas as pd\n",
    "import tensorflow as tf\n",
    "\n",
    "from sklearn.preprocessing import LabelBinarizer, LabelEncoder\n",
    "from sklearn.metrics import confusion_matrix\n",
    "\n",
    "from tensorflow import keras\n",
    "from keras.models import Sequential\n",
    "from keras.layers import Dense, Activation, Dropout\n",
    "from keras.preprocessing import text, sequence\n",
    "from keras import utils"
   ]
  },
  {
   "cell_type": "code",
   "execution_count": 40,
   "metadata": {},
   "outputs": [
    {
     "name": "stdout",
     "output_type": "stream",
     "text": [
      "Train size: 80565\n",
      "Test size: 34529\n"
     ]
    }
   ],
   "source": [
    "train_size = int(len(data) * .7)\n",
    "\n",
    "train_posts = data['text'][:train_size]\n",
    "train_tags = data['label'][:train_size]\n",
    "\n",
    "test_posts = data['text'][train_size:]\n",
    "test_tags = data['label'][train_size:]\n",
    "\n",
    "print (\"Train size: %d\" % train_size)\n",
    "print (\"Test size: %d\" % (len(data) - train_size))"
   ]
  },
  {
   "cell_type": "code",
   "execution_count": 41,
   "metadata": {
    "collapsed": true
   },
   "outputs": [],
   "source": [
    "max_words = 1000\n",
    "tokenize = text.Tokenizer(num_words=max_words, char_level=False)"
   ]
  },
  {
   "cell_type": "code",
   "execution_count": 42,
   "metadata": {
    "collapsed": true
   },
   "outputs": [],
   "source": [
    "tokenize.fit_on_texts(train_posts) # only fit on train\n",
    "x_train = tokenize.texts_to_matrix(train_posts)\n",
    "x_test = tokenize.texts_to_matrix(test_posts)"
   ]
  },
  {
   "cell_type": "code",
   "execution_count": 43,
   "metadata": {
    "collapsed": true
   },
   "outputs": [],
   "source": [
    "encoder = LabelEncoder()\n",
    "encoder.fit(train_tags)\n",
    "y_train = encoder.transform(train_tags)\n",
    "y_test = encoder.transform(test_tags)"
   ]
  },
  {
   "cell_type": "code",
   "execution_count": 44,
   "metadata": {
    "collapsed": true
   },
   "outputs": [],
   "source": [
    "num_classes = np.max(y_train) + 1\n",
    "y_train = utils.to_categorical(y_train, num_classes)\n",
    "y_test = utils.to_categorical(y_test, num_classes)"
   ]
  },
  {
   "cell_type": "code",
   "execution_count": 45,
   "metadata": {},
   "outputs": [
    {
     "name": "stdout",
     "output_type": "stream",
     "text": [
      "x_train shape: (80565, 1000)\n",
      "x_test shape: (34529, 1000)\n",
      "y_train shape: (80565, 7)\n",
      "y_test shape: (34529, 7)\n"
     ]
    }
   ],
   "source": [
    "print('x_train shape:', x_train.shape)\n",
    "print('x_test shape:', x_test.shape)\n",
    "print('y_train shape:', y_train.shape)\n",
    "print('y_test shape:', y_test.shape)"
   ]
  },
  {
   "cell_type": "code",
   "execution_count": 46,
   "metadata": {},
   "outputs": [
    {
     "name": "stdout",
     "output_type": "stream",
     "text": [
      "Train on 72508 samples, validate on 8057 samples\n",
      "Epoch 1/2\n"
     ]
    },
    {
     "name": "stdout",
     "output_type": "stream",
     "text": [
      "16800/72508 [=====>........................] - ETA: 21:37 - loss: 1.9530 - acc: 0.09 - ETA: 5:56 - loss: 1.9226 - acc: 0.2266 - ETA: 2:52 - loss: 1.8895 - acc: 0.263 - ETA: 1:59 - loss: 1.8678 - acc: 0.256 - ETA: 1:34 - loss: 1.8351 - acc: 0.274 - ETA: 1:23 - loss: 1.8135 - acc: 0.277 - ETA: 1:12 - loss: 1.7869 - acc: 0.283 - ETA: 1:05 - loss: 1.7588 - acc: 0.287 - ETA: 1:00 - loss: 1.7395 - acc: 0.297 - ETA: 55s - loss: 1.7183 - acc: 0.317 - ETA: 52s - loss: 1.6972 - acc: 0.33 - ETA: 50s - loss: 1.6806 - acc: 0.33 - ETA: 47s - loss: 1.6626 - acc: 0.34 - ETA: 45s - loss: 1.6410 - acc: 0.35 - ETA: 44s - loss: 1.6235 - acc: 0.36 - ETA: 42s - loss: 1.6112 - acc: 0.36 - ETA: 41s - loss: 1.5964 - acc: 0.37 - ETA: 40s - loss: 1.5868 - acc: 0.37 - ETA: 39s - loss: 1.5720 - acc: 0.38 - ETA: 38s - loss: 1.5545 - acc: 0.39 - ETA: 38s - loss: 1.5424 - acc: 0.39 - ETA: 37s - loss: 1.5283 - acc: 0.40 - ETA: 36s - loss: 1.5186 - acc: 0.40 - ETA: 36s - loss: 1.5064 - acc: 0.41 - ETA: 35s - loss: 1.4960 - acc: 0.41 - ETA: 35s - loss: 1.4880 - acc: 0.41 - ETA: 34s - loss: 1.4794 - acc: 0.42 - ETA: 34s - loss: 1.4732 - acc: 0.42 - ETA: 33s - loss: 1.4643 - acc: 0.42 - ETA: 33s - loss: 1.4571 - acc: 0.43 - ETA: 33s - loss: 1.4468 - acc: 0.43 - ETA: 32s - loss: 1.4416 - acc: 0.43 - ETA: 32s - loss: 1.4338 - acc: 0.43 - ETA: 32s - loss: 1.4237 - acc: 0.44 - ETA: 31s - loss: 1.4147 - acc: 0.44 - ETA: 31s - loss: 1.4114 - acc: 0.44 - ETA: 31s - loss: 1.4043 - acc: 0.44 - ETA: 31s - loss: 1.3994 - acc: 0.44 - ETA: 31s - loss: 1.3990 - acc: 0.44 - ETA: 32s - loss: 1.3958 - acc: 0.45 - ETA: 32s - loss: 1.3952 - acc: 0.45 - ETA: 33s - loss: 1.3934 - acc: 0.45 - ETA: 33s - loss: 1.3906 - acc: 0.45 - ETA: 34s - loss: 1.3873 - acc: 0.45 - ETA: 34s - loss: 1.3848 - acc: 0.45 - ETA: 34s - loss: 1.3823 - acc: 0.45 - ETA: 35s - loss: 1.3816 - acc: 0.45 - ETA: 35s - loss: 1.3802 - acc: 0.45 - ETA: 36s - loss: 1.3798 - acc: 0.45 - ETA: 36s - loss: 1.3777 - acc: 0.45 - ETA: 36s - loss: 1.3761 - acc: 0.45 - ETA: 37s - loss: 1.3735 - acc: 0.45 - ETA: 37s - loss: 1.3706 - acc: 0.45 - ETA: 38s - loss: 1.3674 - acc: 0.46 - ETA: 38s - loss: 1.3662 - acc: 0.46 - ETA: 38s - loss: 1.3630 - acc: 0.46 - ETA: 39s - loss: 1.3601 - acc: 0.46 - ETA: 39s - loss: 1.3583 - acc: 0.46 - ETA: 39s - loss: 1.3572 - acc: 0.46 - ETA: 39s - loss: 1.3556 - acc: 0.46 - ETA: 40s - loss: 1.3532 - acc: 0.46 - ETA: 40s - loss: 1.3515 - acc: 0.46 - ETA: 40s - loss: 1.3504 - acc: 0.46 - ETA: 41s - loss: 1.3489 - acc: 0.46 - ETA: 41s - loss: 1.3488 - acc: 0.46 - ETA: 41s - loss: 1.3463 - acc: 0.46 - ETA: 41s - loss: 1.3451 - acc: 0.46 - ETA: 42s - loss: 1.3438 - acc: 0.46 - ETA: 42s - loss: 1.3429 - acc: 0.46 - ETA: 42s - loss: 1.3423 - acc: 0.46 - ETA: 42s - loss: 1.3397 - acc: 0.46 - ETA: 42s - loss: 1.3389 - acc: 0.46 - ETA: 43s - loss: 1.3368 - acc: 0.47 - ETA: 43s - loss: 1.3366 - acc: 0.47 - ETA: 43s - loss: 1.3356 - acc: 0.47 - ETA: 43s - loss: 1.3335 - acc: 0.47 - ETA: 44s - loss: 1.3327 - acc: 0.47 - ETA: 44s - loss: 1.3299 - acc: 0.47 - ETA: 44s - loss: 1.3277 - acc: 0.47 - ETA: 44s - loss: 1.3254 - acc: 0.47 - ETA: 44s - loss: 1.3238 - acc: 0.47 - ETA: 45s - loss: 1.3216 - acc: 0.47 - ETA: 45s - loss: 1.3205 - acc: 0.47 - ETA: 45s - loss: 1.3182 - acc: 0.47 - ETA: 45s - loss: 1.3169 - acc: 0.47 - ETA: 45s - loss: 1.3154 - acc: 0.47 - ETA: 46s - loss: 1.3129 - acc: 0.47 - ETA: 46s - loss: 1.3109 - acc: 0.47 - ETA: 46s - loss: 1.3091 - acc: 0.48 - ETA: 46s - loss: 1.3080 - acc: 0.48 - ETA: 46s - loss: 1.3057 - acc: 0.48 - ETA: 46s - loss: 1.3048 - acc: 0.48 - ETA: 46s - loss: 1.3037 - acc: 0.48 - ETA: 47s - loss: 1.3041 - acc: 0.48 - ETA: 47s - loss: 1.3024 - acc: 0.48 - ETA: 47s - loss: 1.2999 - acc: 0.48 - ETA: 47s - loss: 1.2971 - acc: 0.48 - ETA: 47s - loss: 1.2953 - acc: 0.48 - ETA: 47s - loss: 1.2939 - acc: 0.48 - ETA: 47s - loss: 1.2937 - acc: 0.48 - ETA: 47s - loss: 1.2927 - acc: 0.48 - ETA: 48s - loss: 1.2914 - acc: 0.48 - ETA: 48s - loss: 1.2896 - acc: 0.48 - ETA: 48s - loss: 1.2878 - acc: 0.48 - ETA: 48s - loss: 1.2859 - acc: 0.48 - ETA: 48s - loss: 1.2848 - acc: 0.48 - ETA: 48s - loss: 1.2830 - acc: 0.48 - ETA: 48s - loss: 1.2808 - acc: 0.49 - ETA: 48s - loss: 1.2792 - acc: 0.49 - ETA: 48s - loss: 1.2789 - acc: 0.49 - ETA: 49s - loss: 1.2771 - acc: 0.49 - ETA: 49s - loss: 1.2755 - acc: 0.49 - ETA: 49s - loss: 1.2749 - acc: 0.49 - ETA: 49s - loss: 1.2735 - acc: 0.49 - ETA: 49s - loss: 1.2737 - acc: 0.49 - ETA: 49s - loss: 1.2726 - acc: 0.49 - ETA: 49s - loss: 1.2725 - acc: 0.49 - ETA: 49s - loss: 1.2713 - acc: 0.49 - ETA: 49s - loss: 1.2703 - acc: 0.49 - ETA: 49s - loss: 1.2702 - acc: 0.49 - ETA: 49s - loss: 1.2685 - acc: 0.49 - ETA: 49s - loss: 1.2681 - acc: 0.49 - ETA: 49s - loss: 1.2669 - acc: 0.49 - ETA: 49s - loss: 1.2655 - acc: 0.49 - ETA: 49s - loss: 1.2652 - acc: 0.49 - ETA: 49s - loss: 1.2644 - acc: 0.49 - ETA: 50s - loss: 1.2634 - acc: 0.49 - ETA: 50s - loss: 1.2618 - acc: 0.49 - ETA: 50s - loss: 1.2608 - acc: 0.49 - ETA: 50s - loss: 1.2598 - acc: 0.49 - ETA: 50s - loss: 1.2585 - acc: 0.49 - ETA: 50s - loss: 1.2581 - acc: 0.49 - ETA: 50s - loss: 1.2555 - acc: 0.50 - ETA: 50s - loss: 1.2549 - acc: 0.50 - ETA: 50s - loss: 1.2540 - acc: 0.50 - ETA: 50s - loss: 1.2528 - acc: 0.50 - ETA: 50s - loss: 1.2517 - acc: 0.50 - ETA: 50s - loss: 1.2499 - acc: 0.50 - ETA: 50s - loss: 1.2480 - acc: 0.50 - ETA: 50s - loss: 1.2473 - acc: 0.50 - ETA: 50s - loss: 1.2470 - acc: 0.50 - ETA: 50s - loss: 1.2462 - acc: 0.50 - ETA: 50s - loss: 1.2456 - acc: 0.50 - ETA: 50s - loss: 1.2443 - acc: 0.50 - ETA: 50s - loss: 1.2445 - acc: 0.50 - ETA: 50s - loss: 1.2439 - acc: 0.50 - ETA: 50s - loss: 1.2440 - acc: 0.50 - ETA: 50s - loss: 1.2426 - acc: 0.50 - ETA: 50s - loss: 1.2422 - acc: 0.50 - ETA: 50s - loss: 1.2413 - acc: 0.50 - ETA: 50s - loss: 1.2406 - acc: 0.50 - ETA: 50s - loss: 1.2414 - acc: 0.50 - ETA: 50s - loss: 1.2401 - acc: 0.50 - ETA: 50s - loss: 1.2385 - acc: 0.50 - ETA: 50s - loss: 1.2376 - acc: 0.50 - ETA: 50s - loss: 1.2362 - acc: 0.50 - ETA: 50s - loss: 1.2353 - acc: 0.50 - ETA: 50s - loss: 1.2354 - acc: 0.50 - ETA: 50s - loss: 1.2343 - acc: 0.50 - ETA: 50s - loss: 1.2338 - acc: 0.50 - ETA: 50s - loss: 1.2332 - acc: 0.50 - ETA: 50s - loss: 1.2320 - acc: 0.50 - ETA: 50s - loss: 1.2305 - acc: 0.51 - ETA: 50s - loss: 1.2294 - acc: 0.51 - ETA: 50s - loss: 1.2291 - acc: 0.51 - ETA: 50s - loss: 1.2286 - acc: 0.51 - ETA: 50s - loss: 1.2277 - acc: 0.51 - ETA: 50s - loss: 1.2265 - acc: 0.51 - ETA: 50s - loss: 1.2263 - acc: 0.51 - ETA: 50s - loss: 1.2249 - acc: 0.51 - ETA: 50s - loss: 1.2252 - acc: 0.51 - ETA: 50s - loss: 1.2243 - acc: 0.51 - ETA: 50s - loss: 1.2239 - acc: 0.51 - ETA: 50s - loss: 1.2230 - acc: 0.51 - ETA: 50s - loss: 1.2211 - acc: 0.51 - ETA: 51s - loss: 1.2210 - acc: 0.51 - ETA: 51s - loss: 1.2201 - acc: 0.51 - ETA: 51s - loss: 1.2202 - acc: 0.51 - ETA: 51s - loss: 1.2199 - acc: 0.51 - ETA: 51s - loss: 1.2185 - acc: 0.51 - ETA: 51s - loss: 1.2179 - acc: 0.51 - ETA: 51s - loss: 1.2179 - acc: 0.51 - ETA: 51s - loss: 1.2170 - acc: 0.51 - ETA: 51s - loss: 1.2163 - acc: 0.51 - ETA: 51s - loss: 1.2182 - acc: 0.51 - ETA: 51s - loss: 1.2177 - acc: 0.51 - ETA: 51s - loss: 1.2168 - acc: 0.51 - ETA: 51s - loss: 1.2160 - acc: 0.51 - ETA: 51s - loss: 1.2143 - acc: 0.51 - ETA: 51s - loss: 1.2132 - acc: 0.51 - ETA: 51s - loss: 1.2128 - acc: 0.51 - ETA: 51s - loss: 1.2125 - acc: 0.51 - ETA: 51s - loss: 1.2119 - acc: 0.51 - ETA: 51s - loss: 1.2111 - acc: 0.51 - ETA: 51s - loss: 1.2104 - acc: 0.51 - ETA: 51s - loss: 1.2097 - acc: 0.51 - ETA: 51s - loss: 1.2082 - acc: 0.51 - ETA: 51s - loss: 1.2077 - acc: 0.51 - ETA: 51s - loss: 1.2061 - acc: 0.51 - ETA: 51s - loss: 1.2058 - acc: 0.51 - ETA: 51s - loss: 1.2055 - acc: 0.51 - ETA: 51s - loss: 1.2043 - acc: 0.51 - ETA: 51s - loss: 1.2035 - acc: 0.52 - ETA: 51s - loss: 1.2032 - acc: 0.52 - ETA: 51s - loss: 1.2029 - acc: 0.52 - ETA: 51s - loss: 1.2019 - acc: 0.52 - ETA: 51s - loss: 1.2010 - acc: 0.52 - ETA: 51s - loss: 1.2002 - acc: 0.52 - ETA: 51s - loss: 1.1992 - acc: 0.52 - ETA: 51s - loss: 1.1986 - acc: 0.52 - ETA: 51s - loss: 1.1979 - acc: 0.52 - ETA: 51s - loss: 1.1974 - acc: 0.52 - ETA: 51s - loss: 1.1976 - acc: 0.5230016/72508 [===========>..................] - ETA: 51s - loss: 1.1976 - acc: 0.52 - ETA: 50s - loss: 1.1966 - acc: 0.52 - ETA: 50s - loss: 1.1956 - acc: 0.52 - ETA: 50s - loss: 1.1953 - acc: 0.52 - ETA: 50s - loss: 1.1950 - acc: 0.52 - ETA: 50s - loss: 1.1948 - acc: 0.52 - ETA: 50s - loss: 1.1949 - acc: 0.52 - ETA: 50s - loss: 1.1944 - acc: 0.52 - ETA: 50s - loss: 1.1934 - acc: 0.52 - ETA: 50s - loss: 1.1927 - acc: 0.52 - ETA: 50s - loss: 1.1919 - acc: 0.52 - ETA: 50s - loss: 1.1916 - acc: 0.52 - ETA: 50s - loss: 1.1913 - acc: 0.52 - ETA: 50s - loss: 1.1907 - acc: 0.52 - ETA: 50s - loss: 1.1898 - acc: 0.52 - ETA: 50s - loss: 1.1892 - acc: 0.52 - ETA: 50s - loss: 1.1890 - acc: 0.52 - ETA: 50s - loss: 1.1878 - acc: 0.52 - ETA: 50s - loss: 1.1871 - acc: 0.52 - ETA: 50s - loss: 1.1865 - acc: 0.52 - ETA: 50s - loss: 1.1859 - acc: 0.52 - ETA: 50s - loss: 1.1861 - acc: 0.52 - ETA: 50s - loss: 1.1858 - acc: 0.52 - ETA: 50s - loss: 1.1850 - acc: 0.52 - ETA: 50s - loss: 1.1848 - acc: 0.52 - ETA: 50s - loss: 1.1845 - acc: 0.52 - ETA: 50s - loss: 1.1840 - acc: 0.52 - ETA: 50s - loss: 1.1834 - acc: 0.52 - ETA: 50s - loss: 1.1827 - acc: 0.52 - ETA: 50s - loss: 1.1822 - acc: 0.52 - ETA: 50s - loss: 1.1815 - acc: 0.52 - ETA: 50s - loss: 1.1805 - acc: 0.52 - ETA: 50s - loss: 1.1799 - acc: 0.52 - ETA: 50s - loss: 1.1790 - acc: 0.52 - ETA: 50s - loss: 1.1788 - acc: 0.52 - ETA: 50s - loss: 1.1789 - acc: 0.52 - ETA: 50s - loss: 1.1784 - acc: 0.52 - ETA: 50s - loss: 1.1773 - acc: 0.52 - ETA: 50s - loss: 1.1766 - acc: 0.52 - ETA: 50s - loss: 1.1760 - acc: 0.52 - ETA: 50s - loss: 1.1756 - acc: 0.53 - ETA: 50s - loss: 1.1752 - acc: 0.53 - ETA: 50s - loss: 1.1755 - acc: 0.52 - ETA: 50s - loss: 1.1754 - acc: 0.52 - ETA: 50s - loss: 1.1756 - acc: 0.52 - ETA: 50s - loss: 1.1747 - acc: 0.53 - ETA: 50s - loss: 1.1741 - acc: 0.53 - ETA: 50s - loss: 1.1739 - acc: 0.53 - ETA: 49s - loss: 1.1738 - acc: 0.53 - ETA: 49s - loss: 1.1734 - acc: 0.53 - ETA: 49s - loss: 1.1729 - acc: 0.53 - ETA: 49s - loss: 1.1719 - acc: 0.53 - ETA: 49s - loss: 1.1718 - acc: 0.53 - ETA: 49s - loss: 1.1721 - acc: 0.53 - ETA: 49s - loss: 1.1716 - acc: 0.53 - ETA: 49s - loss: 1.1706 - acc: 0.53 - ETA: 49s - loss: 1.1702 - acc: 0.53 - ETA: 49s - loss: 1.1693 - acc: 0.53 - ETA: 49s - loss: 1.1686 - acc: 0.53 - ETA: 49s - loss: 1.1681 - acc: 0.53 - ETA: 49s - loss: 1.1674 - acc: 0.53 - ETA: 49s - loss: 1.1666 - acc: 0.53 - ETA: 49s - loss: 1.1660 - acc: 0.53 - ETA: 49s - loss: 1.1654 - acc: 0.53 - ETA: 49s - loss: 1.1650 - acc: 0.53 - ETA: 49s - loss: 1.1650 - acc: 0.53 - ETA: 49s - loss: 1.1648 - acc: 0.53 - ETA: 49s - loss: 1.1644 - acc: 0.53 - ETA: 49s - loss: 1.1638 - acc: 0.53 - ETA: 49s - loss: 1.1631 - acc: 0.53 - ETA: 49s - loss: 1.1625 - acc: 0.53 - ETA: 49s - loss: 1.1616 - acc: 0.53 - ETA: 49s - loss: 1.1621 - acc: 0.53 - ETA: 49s - loss: 1.1621 - acc: 0.53 - ETA: 49s - loss: 1.1613 - acc: 0.53 - ETA: 49s - loss: 1.1615 - acc: 0.53 - ETA: 49s - loss: 1.1608 - acc: 0.53 - ETA: 49s - loss: 1.1610 - acc: 0.53 - ETA: 49s - loss: 1.1606 - acc: 0.53 - ETA: 49s - loss: 1.1601 - acc: 0.53 - ETA: 48s - loss: 1.1599 - acc: 0.53 - ETA: 48s - loss: 1.1604 - acc: 0.53 - ETA: 48s - loss: 1.1599 - acc: 0.53 - ETA: 48s - loss: 1.1599 - acc: 0.53 - ETA: 48s - loss: 1.1595 - acc: 0.53 - ETA: 48s - loss: 1.1597 - acc: 0.53 - ETA: 48s - loss: 1.1595 - acc: 0.53 - ETA: 48s - loss: 1.1590 - acc: 0.53 - ETA: 48s - loss: 1.1585 - acc: 0.53 - ETA: 48s - loss: 1.1583 - acc: 0.53 - ETA: 48s - loss: 1.1577 - acc: 0.53 - ETA: 48s - loss: 1.1582 - acc: 0.53 - ETA: 48s - loss: 1.1581 - acc: 0.53 - ETA: 48s - loss: 1.1584 - acc: 0.53 - ETA: 48s - loss: 1.1583 - acc: 0.53 - ETA: 48s - loss: 1.1575 - acc: 0.53 - ETA: 48s - loss: 1.1571 - acc: 0.53 - ETA: 48s - loss: 1.1573 - acc: 0.53 - ETA: 48s - loss: 1.1573 - acc: 0.53 - ETA: 48s - loss: 1.1572 - acc: 0.53 - ETA: 48s - loss: 1.1566 - acc: 0.53 - ETA: 48s - loss: 1.1558 - acc: 0.53 - ETA: 48s - loss: 1.1556 - acc: 0.53 - ETA: 48s - loss: 1.1555 - acc: 0.53 - ETA: 48s - loss: 1.1557 - acc: 0.53 - ETA: 48s - loss: 1.1552 - acc: 0.53 - ETA: 48s - loss: 1.1554 - acc: 0.53 - ETA: 47s - loss: 1.1549 - acc: 0.53 - ETA: 47s - loss: 1.1549 - acc: 0.53 - ETA: 47s - loss: 1.1548 - acc: 0.53 - ETA: 47s - loss: 1.1541 - acc: 0.53 - ETA: 47s - loss: 1.1534 - acc: 0.53 - ETA: 47s - loss: 1.1532 - acc: 0.53 - ETA: 47s - loss: 1.1532 - acc: 0.53 - ETA: 47s - loss: 1.1534 - acc: 0.53 - ETA: 47s - loss: 1.1532 - acc: 0.53 - ETA: 47s - loss: 1.1527 - acc: 0.53 - ETA: 47s - loss: 1.1530 - acc: 0.53 - ETA: 47s - loss: 1.1532 - acc: 0.53 - ETA: 47s - loss: 1.1531 - acc: 0.53 - ETA: 47s - loss: 1.1526 - acc: 0.53 - ETA: 47s - loss: 1.1524 - acc: 0.53 - ETA: 47s - loss: 1.1524 - acc: 0.53 - ETA: 47s - loss: 1.1527 - acc: 0.53 - ETA: 47s - loss: 1.1526 - acc: 0.53 - ETA: 47s - loss: 1.1522 - acc: 0.53 - ETA: 47s - loss: 1.1522 - acc: 0.53 - ETA: 47s - loss: 1.1523 - acc: 0.53 - ETA: 47s - loss: 1.1515 - acc: 0.53 - ETA: 47s - loss: 1.1509 - acc: 0.53 - ETA: 46s - loss: 1.1501 - acc: 0.53 - ETA: 46s - loss: 1.1495 - acc: 0.53 - ETA: 46s - loss: 1.1493 - acc: 0.53 - ETA: 46s - loss: 1.1489 - acc: 0.53 - ETA: 46s - loss: 1.1486 - acc: 0.53 - ETA: 46s - loss: 1.1482 - acc: 0.53 - ETA: 46s - loss: 1.1482 - acc: 0.53 - ETA: 46s - loss: 1.1483 - acc: 0.53 - ETA: 46s - loss: 1.1486 - acc: 0.53 - ETA: 46s - loss: 1.1485 - acc: 0.53 - ETA: 46s - loss: 1.1485 - acc: 0.53 - ETA: 46s - loss: 1.1481 - acc: 0.53 - ETA: 46s - loss: 1.1482 - acc: 0.53 - ETA: 46s - loss: 1.1483 - acc: 0.53 - ETA: 46s - loss: 1.1480 - acc: 0.53 - ETA: 46s - loss: 1.1483 - acc: 0.53 - ETA: 46s - loss: 1.1481 - acc: 0.53 - ETA: 46s - loss: 1.1479 - acc: 0.53 - ETA: 46s - loss: 1.1477 - acc: 0.53 - ETA: 46s - loss: 1.1472 - acc: 0.53 - ETA: 46s - loss: 1.1467 - acc: 0.53 - ETA: 45s - loss: 1.1463 - acc: 0.53 - ETA: 45s - loss: 1.1458 - acc: 0.53 - ETA: 45s - loss: 1.1459 - acc: 0.53 - ETA: 45s - loss: 1.1454 - acc: 0.53 - ETA: 45s - loss: 1.1448 - acc: 0.53 - ETA: 45s - loss: 1.1447 - acc: 0.53 - ETA: 45s - loss: 1.1442 - acc: 0.53 - ETA: 45s - loss: 1.1441 - acc: 0.53 - ETA: 45s - loss: 1.1437 - acc: 0.53 - ETA: 45s - loss: 1.1432 - acc: 0.54 - ETA: 45s - loss: 1.1429 - acc: 0.54 - ETA: 45s - loss: 1.1424 - acc: 0.54 - ETA: 45s - loss: 1.1424 - acc: 0.54 - ETA: 45s - loss: 1.1419 - acc: 0.54 - ETA: 45s - loss: 1.1415 - acc: 0.54 - ETA: 45s - loss: 1.1418 - acc: 0.54 - ETA: 45s - loss: 1.1411 - acc: 0.54 - ETA: 45s - loss: 1.1413 - acc: 0.54 - ETA: 45s - loss: 1.1408 - acc: 0.54 - ETA: 45s - loss: 1.1406 - acc: 0.54 - ETA: 45s - loss: 1.1402 - acc: 0.54 - ETA: 45s - loss: 1.1402 - acc: 0.54 - ETA: 45s - loss: 1.1402 - acc: 0.54 - ETA: 45s - loss: 1.1403 - acc: 0.54 - ETA: 45s - loss: 1.1405 - acc: 0.54 - ETA: 45s - loss: 1.1402 - acc: 0.54 - ETA: 45s - loss: 1.1400 - acc: 0.54 - ETA: 45s - loss: 1.1397 - acc: 0.54 - ETA: 45s - loss: 1.1394 - acc: 0.54 - ETA: 44s - loss: 1.1394 - acc: 0.54 - ETA: 44s - loss: 1.1394 - acc: 0.54 - ETA: 44s - loss: 1.1395 - acc: 0.54 - ETA: 44s - loss: 1.1391 - acc: 0.54 - ETA: 44s - loss: 1.1391 - acc: 0.54 - ETA: 44s - loss: 1.1390 - acc: 0.54 - ETA: 44s - loss: 1.1388 - acc: 0.54 - ETA: 44s - loss: 1.1383 - acc: 0.54 - ETA: 44s - loss: 1.1380 - acc: 0.54 - ETA: 44s - loss: 1.1381 - acc: 0.54 - ETA: 44s - loss: 1.1380 - acc: 0.54 - ETA: 44s - loss: 1.1381 - acc: 0.54 - ETA: 44s - loss: 1.1379 - acc: 0.54 - ETA: 44s - loss: 1.1379 - acc: 0.54 - ETA: 44s - loss: 1.1377 - acc: 0.54 - ETA: 44s - loss: 1.1377 - acc: 0.54 - ETA: 44s - loss: 1.1373 - acc: 0.54 - ETA: 44s - loss: 1.1372 - acc: 0.54 - ETA: 44s - loss: 1.1370 - acc: 0.54 - ETA: 44s - loss: 1.1368 - acc: 0.54 - ETA: 44s - loss: 1.1368 - acc: 0.54 - ETA: 44s - loss: 1.1362 - acc: 0.54 - ETA: 44s - loss: 1.1363 - acc: 0.54 - ETA: 44s - loss: 1.1364 - acc: 0.54 - ETA: 43s - loss: 1.1363 - acc: 0.54 - ETA: 43s - loss: 1.1363 - acc: 0.54 - ETA: 43s - loss: 1.1359 - acc: 0.54 - ETA: 43s - loss: 1.1356 - acc: 0.54 - ETA: 43s - loss: 1.1357 - acc: 0.54 - ETA: 43s - loss: 1.1355 - acc: 0.54 - ETA: 43s - loss: 1.1350 - acc: 0.54 - ETA: 43s - loss: 1.1345 - acc: 0.54 - ETA: 43s - loss: 1.1343 - acc: 0.54 - ETA: 43s - loss: 1.1344 - acc: 0.54 - ETA: 43s - loss: 1.1346 - acc: 0.5426"
     ]
    },
    {
     "name": "stdout",
     "output_type": "stream",
     "text": [
      "43008/72508 [================>.............] - ETA: 43s - loss: 1.1346 - acc: 0.54 - ETA: 43s - loss: 1.1345 - acc: 0.54 - ETA: 43s - loss: 1.1344 - acc: 0.54 - ETA: 43s - loss: 1.1341 - acc: 0.54 - ETA: 43s - loss: 1.1336 - acc: 0.54 - ETA: 43s - loss: 1.1332 - acc: 0.54 - ETA: 43s - loss: 1.1331 - acc: 0.54 - ETA: 43s - loss: 1.1329 - acc: 0.54 - ETA: 42s - loss: 1.1327 - acc: 0.54 - ETA: 42s - loss: 1.1325 - acc: 0.54 - ETA: 42s - loss: 1.1324 - acc: 0.54 - ETA: 42s - loss: 1.1323 - acc: 0.54 - ETA: 42s - loss: 1.1321 - acc: 0.54 - ETA: 42s - loss: 1.1320 - acc: 0.54 - ETA: 42s - loss: 1.1316 - acc: 0.54 - ETA: 42s - loss: 1.1316 - acc: 0.54 - ETA: 42s - loss: 1.1315 - acc: 0.54 - ETA: 42s - loss: 1.1312 - acc: 0.54 - ETA: 42s - loss: 1.1315 - acc: 0.54 - ETA: 42s - loss: 1.1309 - acc: 0.54 - ETA: 42s - loss: 1.1306 - acc: 0.54 - ETA: 42s - loss: 1.1302 - acc: 0.54 - ETA: 42s - loss: 1.1297 - acc: 0.54 - ETA: 42s - loss: 1.1294 - acc: 0.54 - ETA: 42s - loss: 1.1292 - acc: 0.54 - ETA: 42s - loss: 1.1290 - acc: 0.54 - ETA: 41s - loss: 1.1294 - acc: 0.54 - ETA: 41s - loss: 1.1292 - acc: 0.54 - ETA: 41s - loss: 1.1292 - acc: 0.54 - ETA: 41s - loss: 1.1285 - acc: 0.54 - ETA: 41s - loss: 1.1284 - acc: 0.54 - ETA: 41s - loss: 1.1281 - acc: 0.54 - ETA: 41s - loss: 1.1277 - acc: 0.54 - ETA: 41s - loss: 1.1275 - acc: 0.54 - ETA: 41s - loss: 1.1275 - acc: 0.54 - ETA: 41s - loss: 1.1274 - acc: 0.54 - ETA: 41s - loss: 1.1273 - acc: 0.54 - ETA: 41s - loss: 1.1272 - acc: 0.54 - ETA: 41s - loss: 1.1270 - acc: 0.54 - ETA: 41s - loss: 1.1269 - acc: 0.54 - ETA: 41s - loss: 1.1264 - acc: 0.54 - ETA: 41s - loss: 1.1265 - acc: 0.54 - ETA: 40s - loss: 1.1265 - acc: 0.54 - ETA: 40s - loss: 1.1266 - acc: 0.54 - ETA: 40s - loss: 1.1266 - acc: 0.54 - ETA: 40s - loss: 1.1262 - acc: 0.54 - ETA: 40s - loss: 1.1258 - acc: 0.54 - ETA: 40s - loss: 1.1255 - acc: 0.54 - ETA: 40s - loss: 1.1253 - acc: 0.54 - ETA: 40s - loss: 1.1248 - acc: 0.54 - ETA: 40s - loss: 1.1247 - acc: 0.54 - ETA: 40s - loss: 1.1247 - acc: 0.54 - ETA: 40s - loss: 1.1247 - acc: 0.54 - ETA: 40s - loss: 1.1244 - acc: 0.54 - ETA: 40s - loss: 1.1241 - acc: 0.54 - ETA: 40s - loss: 1.1239 - acc: 0.54 - ETA: 40s - loss: 1.1238 - acc: 0.54 - ETA: 40s - loss: 1.1235 - acc: 0.54 - ETA: 40s - loss: 1.1233 - acc: 0.54 - ETA: 40s - loss: 1.1231 - acc: 0.54 - ETA: 40s - loss: 1.1234 - acc: 0.54 - ETA: 40s - loss: 1.1235 - acc: 0.54 - ETA: 40s - loss: 1.1235 - acc: 0.54 - ETA: 40s - loss: 1.1232 - acc: 0.54 - ETA: 39s - loss: 1.1229 - acc: 0.54 - ETA: 39s - loss: 1.1227 - acc: 0.54 - ETA: 39s - loss: 1.1226 - acc: 0.54 - ETA: 39s - loss: 1.1226 - acc: 0.54 - ETA: 39s - loss: 1.1224 - acc: 0.54 - ETA: 39s - loss: 1.1224 - acc: 0.54 - ETA: 39s - loss: 1.1224 - acc: 0.54 - ETA: 39s - loss: 1.1221 - acc: 0.54 - ETA: 39s - loss: 1.1219 - acc: 0.54 - ETA: 39s - loss: 1.1221 - acc: 0.54 - ETA: 39s - loss: 1.1219 - acc: 0.54 - ETA: 39s - loss: 1.1220 - acc: 0.54 - ETA: 39s - loss: 1.1219 - acc: 0.54 - ETA: 39s - loss: 1.1213 - acc: 0.54 - ETA: 39s - loss: 1.1211 - acc: 0.54 - ETA: 39s - loss: 1.1209 - acc: 0.54 - ETA: 38s - loss: 1.1210 - acc: 0.54 - ETA: 38s - loss: 1.1210 - acc: 0.54 - ETA: 38s - loss: 1.1210 - acc: 0.54 - ETA: 38s - loss: 1.1209 - acc: 0.54 - ETA: 38s - loss: 1.1207 - acc: 0.54 - ETA: 38s - loss: 1.1207 - acc: 0.54 - ETA: 38s - loss: 1.1206 - acc: 0.54 - ETA: 38s - loss: 1.1205 - acc: 0.54 - ETA: 38s - loss: 1.1204 - acc: 0.54 - ETA: 38s - loss: 1.1200 - acc: 0.54 - ETA: 38s - loss: 1.1198 - acc: 0.54 - ETA: 38s - loss: 1.1194 - acc: 0.54 - ETA: 38s - loss: 1.1194 - acc: 0.54 - ETA: 38s - loss: 1.1191 - acc: 0.54 - ETA: 38s - loss: 1.1196 - acc: 0.54 - ETA: 38s - loss: 1.1195 - acc: 0.54 - ETA: 38s - loss: 1.1192 - acc: 0.54 - ETA: 37s - loss: 1.1194 - acc: 0.54 - ETA: 37s - loss: 1.1193 - acc: 0.54 - ETA: 37s - loss: 1.1198 - acc: 0.54 - ETA: 37s - loss: 1.1201 - acc: 0.54 - ETA: 37s - loss: 1.1197 - acc: 0.54 - ETA: 37s - loss: 1.1199 - acc: 0.54 - ETA: 37s - loss: 1.1195 - acc: 0.54 - ETA: 37s - loss: 1.1193 - acc: 0.54 - ETA: 37s - loss: 1.1193 - acc: 0.54 - ETA: 37s - loss: 1.1188 - acc: 0.54 - ETA: 37s - loss: 1.1189 - acc: 0.54 - ETA: 37s - loss: 1.1187 - acc: 0.54 - ETA: 37s - loss: 1.1185 - acc: 0.54 - ETA: 37s - loss: 1.1186 - acc: 0.54 - ETA: 37s - loss: 1.1188 - acc: 0.54 - ETA: 37s - loss: 1.1188 - acc: 0.54 - ETA: 36s - loss: 1.1188 - acc: 0.54 - ETA: 36s - loss: 1.1187 - acc: 0.54 - ETA: 36s - loss: 1.1185 - acc: 0.54 - ETA: 36s - loss: 1.1184 - acc: 0.54 - ETA: 36s - loss: 1.1179 - acc: 0.54 - ETA: 36s - loss: 1.1176 - acc: 0.54 - ETA: 36s - loss: 1.1172 - acc: 0.54 - ETA: 36s - loss: 1.1167 - acc: 0.54 - ETA: 36s - loss: 1.1170 - acc: 0.54 - ETA: 36s - loss: 1.1170 - acc: 0.54 - ETA: 36s - loss: 1.1170 - acc: 0.54 - ETA: 36s - loss: 1.1171 - acc: 0.54 - ETA: 36s - loss: 1.1167 - acc: 0.54 - ETA: 36s - loss: 1.1169 - acc: 0.54 - ETA: 36s - loss: 1.1166 - acc: 0.54 - ETA: 36s - loss: 1.1163 - acc: 0.54 - ETA: 35s - loss: 1.1166 - acc: 0.54 - ETA: 35s - loss: 1.1164 - acc: 0.54 - ETA: 35s - loss: 1.1163 - acc: 0.54 - ETA: 35s - loss: 1.1161 - acc: 0.54 - ETA: 35s - loss: 1.1158 - acc: 0.54 - ETA: 35s - loss: 1.1157 - acc: 0.54 - ETA: 35s - loss: 1.1154 - acc: 0.54 - ETA: 35s - loss: 1.1154 - acc: 0.54 - ETA: 35s - loss: 1.1156 - acc: 0.54 - ETA: 35s - loss: 1.1156 - acc: 0.54 - ETA: 35s - loss: 1.1154 - acc: 0.54 - ETA: 35s - loss: 1.1155 - acc: 0.54 - ETA: 35s - loss: 1.1158 - acc: 0.54 - ETA: 35s - loss: 1.1161 - acc: 0.54 - ETA: 35s - loss: 1.1161 - acc: 0.54 - ETA: 35s - loss: 1.1159 - acc: 0.54 - ETA: 35s - loss: 1.1157 - acc: 0.54 - ETA: 34s - loss: 1.1156 - acc: 0.54 - ETA: 34s - loss: 1.1153 - acc: 0.54 - ETA: 34s - loss: 1.1150 - acc: 0.54 - ETA: 34s - loss: 1.1149 - acc: 0.54 - ETA: 34s - loss: 1.1148 - acc: 0.54 - ETA: 34s - loss: 1.1147 - acc: 0.54 - ETA: 34s - loss: 1.1145 - acc: 0.54 - ETA: 34s - loss: 1.1142 - acc: 0.54 - ETA: 34s - loss: 1.1141 - acc: 0.54 - ETA: 34s - loss: 1.1140 - acc: 0.54 - ETA: 34s - loss: 1.1138 - acc: 0.54 - ETA: 34s - loss: 1.1134 - acc: 0.54 - ETA: 34s - loss: 1.1132 - acc: 0.54 - ETA: 34s - loss: 1.1131 - acc: 0.54 - ETA: 34s - loss: 1.1128 - acc: 0.54 - ETA: 34s - loss: 1.1129 - acc: 0.54 - ETA: 33s - loss: 1.1128 - acc: 0.54 - ETA: 33s - loss: 1.1126 - acc: 0.54 - ETA: 33s - loss: 1.1124 - acc: 0.54 - ETA: 33s - loss: 1.1119 - acc: 0.54 - ETA: 33s - loss: 1.1116 - acc: 0.54 - ETA: 33s - loss: 1.1115 - acc: 0.54 - ETA: 33s - loss: 1.1111 - acc: 0.54 - ETA: 33s - loss: 1.1111 - acc: 0.54 - ETA: 33s - loss: 1.1114 - acc: 0.54 - ETA: 33s - loss: 1.1116 - acc: 0.54 - ETA: 33s - loss: 1.1115 - acc: 0.54 - ETA: 33s - loss: 1.1116 - acc: 0.54 - ETA: 33s - loss: 1.1112 - acc: 0.55 - ETA: 33s - loss: 1.1110 - acc: 0.55 - ETA: 33s - loss: 1.1109 - acc: 0.55 - ETA: 33s - loss: 1.1105 - acc: 0.55 - ETA: 33s - loss: 1.1105 - acc: 0.55 - ETA: 33s - loss: 1.1104 - acc: 0.55 - ETA: 32s - loss: 1.1101 - acc: 0.55 - ETA: 32s - loss: 1.1099 - acc: 0.55 - ETA: 32s - loss: 1.1097 - acc: 0.55 - ETA: 32s - loss: 1.1095 - acc: 0.55 - ETA: 32s - loss: 1.1098 - acc: 0.55 - ETA: 32s - loss: 1.1100 - acc: 0.54 - ETA: 32s - loss: 1.1100 - acc: 0.54 - ETA: 32s - loss: 1.1098 - acc: 0.54 - ETA: 32s - loss: 1.1096 - acc: 0.54 - ETA: 32s - loss: 1.1092 - acc: 0.55 - ETA: 32s - loss: 1.1091 - acc: 0.55 - ETA: 32s - loss: 1.1091 - acc: 0.55 - ETA: 32s - loss: 1.1087 - acc: 0.55 - ETA: 32s - loss: 1.1086 - acc: 0.55 - ETA: 32s - loss: 1.1082 - acc: 0.55 - ETA: 31s - loss: 1.1083 - acc: 0.55 - ETA: 31s - loss: 1.1083 - acc: 0.55 - ETA: 31s - loss: 1.1082 - acc: 0.55 - ETA: 31s - loss: 1.1082 - acc: 0.55 - ETA: 31s - loss: 1.1079 - acc: 0.55 - ETA: 31s - loss: 1.1078 - acc: 0.55 - ETA: 31s - loss: 1.1078 - acc: 0.55 - ETA: 31s - loss: 1.1079 - acc: 0.55 - ETA: 31s - loss: 1.1078 - acc: 0.55 - ETA: 31s - loss: 1.1080 - acc: 0.55 - ETA: 31s - loss: 1.1082 - acc: 0.55 - ETA: 31s - loss: 1.1079 - acc: 0.55 - ETA: 31s - loss: 1.1079 - acc: 0.55 - ETA: 31s - loss: 1.1079 - acc: 0.55 - ETA: 31s - loss: 1.1080 - acc: 0.55 - ETA: 31s - loss: 1.1080 - acc: 0.55 - ETA: 31s - loss: 1.1080 - acc: 0.55 - ETA: 31s - loss: 1.1082 - acc: 0.55 - ETA: 31s - loss: 1.1082 - acc: 0.55 - ETA: 31s - loss: 1.1084 - acc: 0.5501"
     ]
    },
    {
     "name": "stdout",
     "output_type": "stream",
     "text": [
      "55136/72508 [=====================>........] - ETA: 31s - loss: 1.1084 - acc: 0.55 - ETA: 31s - loss: 1.1082 - acc: 0.55 - ETA: 31s - loss: 1.1081 - acc: 0.55 - ETA: 31s - loss: 1.1080 - acc: 0.55 - ETA: 31s - loss: 1.1079 - acc: 0.55 - ETA: 30s - loss: 1.1078 - acc: 0.55 - ETA: 30s - loss: 1.1077 - acc: 0.55 - ETA: 30s - loss: 1.1076 - acc: 0.55 - ETA: 30s - loss: 1.1075 - acc: 0.55 - ETA: 30s - loss: 1.1075 - acc: 0.55 - ETA: 30s - loss: 1.1075 - acc: 0.55 - ETA: 30s - loss: 1.1074 - acc: 0.55 - ETA: 30s - loss: 1.1072 - acc: 0.55 - ETA: 30s - loss: 1.1073 - acc: 0.55 - ETA: 30s - loss: 1.1072 - acc: 0.55 - ETA: 30s - loss: 1.1071 - acc: 0.55 - ETA: 30s - loss: 1.1071 - acc: 0.55 - ETA: 30s - loss: 1.1070 - acc: 0.55 - ETA: 30s - loss: 1.1068 - acc: 0.55 - ETA: 30s - loss: 1.1069 - acc: 0.55 - ETA: 30s - loss: 1.1068 - acc: 0.55 - ETA: 30s - loss: 1.1067 - acc: 0.55 - ETA: 30s - loss: 1.1065 - acc: 0.55 - ETA: 30s - loss: 1.1064 - acc: 0.55 - ETA: 30s - loss: 1.1064 - acc: 0.55 - ETA: 30s - loss: 1.1064 - acc: 0.55 - ETA: 30s - loss: 1.1064 - acc: 0.55 - ETA: 30s - loss: 1.1062 - acc: 0.55 - ETA: 30s - loss: 1.1061 - acc: 0.55 - ETA: 30s - loss: 1.1060 - acc: 0.55 - ETA: 30s - loss: 1.1061 - acc: 0.55 - ETA: 30s - loss: 1.1062 - acc: 0.55 - ETA: 30s - loss: 1.1062 - acc: 0.55 - ETA: 30s - loss: 1.1061 - acc: 0.55 - ETA: 30s - loss: 1.1062 - acc: 0.55 - ETA: 29s - loss: 1.1059 - acc: 0.55 - ETA: 29s - loss: 1.1059 - acc: 0.55 - ETA: 29s - loss: 1.1057 - acc: 0.55 - ETA: 29s - loss: 1.1057 - acc: 0.55 - ETA: 29s - loss: 1.1058 - acc: 0.55 - ETA: 29s - loss: 1.1057 - acc: 0.55 - ETA: 29s - loss: 1.1058 - acc: 0.55 - ETA: 29s - loss: 1.1058 - acc: 0.55 - ETA: 29s - loss: 1.1055 - acc: 0.55 - ETA: 29s - loss: 1.1055 - acc: 0.55 - ETA: 29s - loss: 1.1057 - acc: 0.55 - ETA: 29s - loss: 1.1058 - acc: 0.55 - ETA: 29s - loss: 1.1056 - acc: 0.55 - ETA: 29s - loss: 1.1054 - acc: 0.55 - ETA: 29s - loss: 1.1053 - acc: 0.55 - ETA: 29s - loss: 1.1053 - acc: 0.55 - ETA: 29s - loss: 1.1052 - acc: 0.55 - ETA: 29s - loss: 1.1050 - acc: 0.55 - ETA: 29s - loss: 1.1050 - acc: 0.55 - ETA: 29s - loss: 1.1049 - acc: 0.55 - ETA: 28s - loss: 1.1050 - acc: 0.55 - ETA: 28s - loss: 1.1049 - acc: 0.55 - ETA: 28s - loss: 1.1048 - acc: 0.55 - ETA: 28s - loss: 1.1047 - acc: 0.55 - ETA: 28s - loss: 1.1046 - acc: 0.55 - ETA: 28s - loss: 1.1044 - acc: 0.55 - ETA: 28s - loss: 1.1044 - acc: 0.55 - ETA: 28s - loss: 1.1044 - acc: 0.55 - ETA: 28s - loss: 1.1042 - acc: 0.55 - ETA: 28s - loss: 1.1039 - acc: 0.55 - ETA: 28s - loss: 1.1037 - acc: 0.55 - ETA: 28s - loss: 1.1036 - acc: 0.55 - ETA: 28s - loss: 1.1040 - acc: 0.55 - ETA: 28s - loss: 1.1039 - acc: 0.55 - ETA: 28s - loss: 1.1038 - acc: 0.55 - ETA: 28s - loss: 1.1039 - acc: 0.55 - ETA: 28s - loss: 1.1040 - acc: 0.55 - ETA: 28s - loss: 1.1039 - acc: 0.55 - ETA: 28s - loss: 1.1038 - acc: 0.55 - ETA: 27s - loss: 1.1038 - acc: 0.55 - ETA: 27s - loss: 1.1035 - acc: 0.55 - ETA: 27s - loss: 1.1035 - acc: 0.55 - ETA: 27s - loss: 1.1031 - acc: 0.55 - ETA: 27s - loss: 1.1030 - acc: 0.55 - ETA: 27s - loss: 1.1030 - acc: 0.55 - ETA: 27s - loss: 1.1030 - acc: 0.55 - ETA: 27s - loss: 1.1032 - acc: 0.55 - ETA: 27s - loss: 1.1031 - acc: 0.55 - ETA: 27s - loss: 1.1030 - acc: 0.55 - ETA: 27s - loss: 1.1028 - acc: 0.55 - ETA: 27s - loss: 1.1026 - acc: 0.55 - ETA: 27s - loss: 1.1027 - acc: 0.55 - ETA: 27s - loss: 1.1028 - acc: 0.55 - ETA: 27s - loss: 1.1030 - acc: 0.55 - ETA: 27s - loss: 1.1028 - acc: 0.55 - ETA: 26s - loss: 1.1027 - acc: 0.55 - ETA: 26s - loss: 1.1025 - acc: 0.55 - ETA: 26s - loss: 1.1025 - acc: 0.55 - ETA: 26s - loss: 1.1025 - acc: 0.55 - ETA: 26s - loss: 1.1025 - acc: 0.55 - ETA: 26s - loss: 1.1024 - acc: 0.55 - ETA: 26s - loss: 1.1024 - acc: 0.55 - ETA: 26s - loss: 1.1024 - acc: 0.55 - ETA: 26s - loss: 1.1025 - acc: 0.55 - ETA: 26s - loss: 1.1025 - acc: 0.55 - ETA: 26s - loss: 1.1022 - acc: 0.55 - ETA: 26s - loss: 1.1022 - acc: 0.55 - ETA: 26s - loss: 1.1019 - acc: 0.55 - ETA: 26s - loss: 1.1017 - acc: 0.55 - ETA: 26s - loss: 1.1013 - acc: 0.55 - ETA: 26s - loss: 1.1012 - acc: 0.55 - ETA: 26s - loss: 1.1009 - acc: 0.55 - ETA: 26s - loss: 1.1007 - acc: 0.55 - ETA: 26s - loss: 1.1005 - acc: 0.55 - ETA: 25s - loss: 1.1005 - acc: 0.55 - ETA: 25s - loss: 1.1003 - acc: 0.55 - ETA: 25s - loss: 1.1002 - acc: 0.55 - ETA: 25s - loss: 1.1001 - acc: 0.55 - ETA: 25s - loss: 1.0999 - acc: 0.55 - ETA: 25s - loss: 1.0996 - acc: 0.55 - ETA: 25s - loss: 1.0995 - acc: 0.55 - ETA: 25s - loss: 1.0993 - acc: 0.55 - ETA: 25s - loss: 1.0994 - acc: 0.55 - ETA: 25s - loss: 1.0992 - acc: 0.55 - ETA: 25s - loss: 1.0991 - acc: 0.55 - ETA: 25s - loss: 1.0990 - acc: 0.55 - ETA: 25s - loss: 1.0989 - acc: 0.55 - ETA: 25s - loss: 1.0988 - acc: 0.55 - ETA: 25s - loss: 1.0988 - acc: 0.55 - ETA: 24s - loss: 1.0986 - acc: 0.55 - ETA: 24s - loss: 1.0986 - acc: 0.55 - ETA: 24s - loss: 1.0982 - acc: 0.55 - ETA: 24s - loss: 1.0980 - acc: 0.55 - ETA: 24s - loss: 1.0978 - acc: 0.55 - ETA: 24s - loss: 1.0975 - acc: 0.55 - ETA: 24s - loss: 1.0972 - acc: 0.55 - ETA: 24s - loss: 1.0969 - acc: 0.55 - ETA: 24s - loss: 1.0969 - acc: 0.55 - ETA: 24s - loss: 1.0968 - acc: 0.55 - ETA: 24s - loss: 1.0965 - acc: 0.55 - ETA: 24s - loss: 1.0964 - acc: 0.55 - ETA: 24s - loss: 1.0962 - acc: 0.55 - ETA: 24s - loss: 1.0960 - acc: 0.55 - ETA: 23s - loss: 1.0959 - acc: 0.55 - ETA: 23s - loss: 1.0960 - acc: 0.55 - ETA: 23s - loss: 1.0957 - acc: 0.55 - ETA: 23s - loss: 1.0957 - acc: 0.55 - ETA: 23s - loss: 1.0955 - acc: 0.55 - ETA: 23s - loss: 1.0953 - acc: 0.55 - ETA: 23s - loss: 1.0953 - acc: 0.55 - ETA: 23s - loss: 1.0954 - acc: 0.55 - ETA: 23s - loss: 1.0950 - acc: 0.55 - ETA: 23s - loss: 1.0952 - acc: 0.55 - ETA: 23s - loss: 1.0951 - acc: 0.55 - ETA: 23s - loss: 1.0950 - acc: 0.55 - ETA: 23s - loss: 1.0950 - acc: 0.55 - ETA: 23s - loss: 1.0948 - acc: 0.55 - ETA: 23s - loss: 1.0950 - acc: 0.55 - ETA: 23s - loss: 1.0949 - acc: 0.55 - ETA: 23s - loss: 1.0947 - acc: 0.55 - ETA: 22s - loss: 1.0947 - acc: 0.55 - ETA: 22s - loss: 1.0945 - acc: 0.55 - ETA: 22s - loss: 1.0944 - acc: 0.55 - ETA: 22s - loss: 1.0942 - acc: 0.55 - ETA: 22s - loss: 1.0941 - acc: 0.55 - ETA: 22s - loss: 1.0941 - acc: 0.55 - ETA: 22s - loss: 1.0940 - acc: 0.55 - ETA: 22s - loss: 1.0938 - acc: 0.55 - ETA: 22s - loss: 1.0937 - acc: 0.55 - ETA: 22s - loss: 1.0935 - acc: 0.55 - ETA: 22s - loss: 1.0937 - acc: 0.55 - ETA: 22s - loss: 1.0937 - acc: 0.55 - ETA: 22s - loss: 1.0935 - acc: 0.55 - ETA: 22s - loss: 1.0934 - acc: 0.55 - ETA: 22s - loss: 1.0934 - acc: 0.55 - ETA: 21s - loss: 1.0934 - acc: 0.55 - ETA: 21s - loss: 1.0933 - acc: 0.55 - ETA: 21s - loss: 1.0933 - acc: 0.55 - ETA: 21s - loss: 1.0933 - acc: 0.55 - ETA: 21s - loss: 1.0933 - acc: 0.55 - ETA: 21s - loss: 1.0932 - acc: 0.55 - ETA: 21s - loss: 1.0931 - acc: 0.55 - ETA: 21s - loss: 1.0929 - acc: 0.55 - ETA: 21s - loss: 1.0928 - acc: 0.55 - ETA: 21s - loss: 1.0929 - acc: 0.55 - ETA: 21s - loss: 1.0932 - acc: 0.55 - ETA: 21s - loss: 1.0929 - acc: 0.55 - ETA: 21s - loss: 1.0929 - acc: 0.55 - ETA: 21s - loss: 1.0929 - acc: 0.55 - ETA: 21s - loss: 1.0929 - acc: 0.55 - ETA: 21s - loss: 1.0929 - acc: 0.55 - ETA: 20s - loss: 1.0927 - acc: 0.55 - ETA: 20s - loss: 1.0927 - acc: 0.55 - ETA: 20s - loss: 1.0925 - acc: 0.55 - ETA: 20s - loss: 1.0924 - acc: 0.55 - ETA: 20s - loss: 1.0922 - acc: 0.55 - ETA: 20s - loss: 1.0921 - acc: 0.55 - ETA: 20s - loss: 1.0921 - acc: 0.55 - ETA: 20s - loss: 1.0919 - acc: 0.55 - ETA: 20s - loss: 1.0919 - acc: 0.55 - ETA: 20s - loss: 1.0917 - acc: 0.55 - ETA: 20s - loss: 1.0917 - acc: 0.55 - ETA: 20s - loss: 1.0916 - acc: 0.55 - ETA: 20s - loss: 1.0914 - acc: 0.55 - ETA: 20s - loss: 1.0913 - acc: 0.55 - ETA: 20s - loss: 1.0912 - acc: 0.55 - ETA: 19s - loss: 1.0911 - acc: 0.55 - ETA: 19s - loss: 1.0911 - acc: 0.55 - ETA: 19s - loss: 1.0912 - acc: 0.55 - ETA: 19s - loss: 1.0911 - acc: 0.55 - ETA: 19s - loss: 1.0909 - acc: 0.55 - ETA: 19s - loss: 1.0908 - acc: 0.55 - ETA: 19s - loss: 1.0910 - acc: 0.55 - ETA: 19s - loss: 1.0908 - acc: 0.55 - ETA: 19s - loss: 1.0909 - acc: 0.55 - ETA: 19s - loss: 1.0909 - acc: 0.55 - ETA: 19s - loss: 1.0909 - acc: 0.55 - ETA: 19s - loss: 1.0907 - acc: 0.55 - ETA: 19s - loss: 1.0907 - acc: 0.55 - ETA: 19s - loss: 1.0906 - acc: 0.5559"
     ]
    },
    {
     "name": "stdout",
     "output_type": "stream",
     "text": [
      "66656/72508 [==========================>...] - ETA: 19s - loss: 1.0907 - acc: 0.55 - ETA: 18s - loss: 1.0909 - acc: 0.55 - ETA: 18s - loss: 1.0910 - acc: 0.55 - ETA: 18s - loss: 1.0909 - acc: 0.55 - ETA: 18s - loss: 1.0906 - acc: 0.55 - ETA: 18s - loss: 1.0905 - acc: 0.55 - ETA: 18s - loss: 1.0901 - acc: 0.55 - ETA: 18s - loss: 1.0900 - acc: 0.55 - ETA: 18s - loss: 1.0898 - acc: 0.55 - ETA: 18s - loss: 1.0896 - acc: 0.55 - ETA: 18s - loss: 1.0895 - acc: 0.55 - ETA: 18s - loss: 1.0896 - acc: 0.55 - ETA: 18s - loss: 1.0896 - acc: 0.55 - ETA: 18s - loss: 1.0896 - acc: 0.55 - ETA: 18s - loss: 1.0896 - acc: 0.55 - ETA: 18s - loss: 1.0895 - acc: 0.55 - ETA: 18s - loss: 1.0895 - acc: 0.55 - ETA: 18s - loss: 1.0894 - acc: 0.55 - ETA: 18s - loss: 1.0893 - acc: 0.55 - ETA: 18s - loss: 1.0891 - acc: 0.55 - ETA: 18s - loss: 1.0891 - acc: 0.55 - ETA: 18s - loss: 1.0889 - acc: 0.55 - ETA: 18s - loss: 1.0889 - acc: 0.55 - ETA: 17s - loss: 1.0889 - acc: 0.55 - ETA: 17s - loss: 1.0890 - acc: 0.55 - ETA: 17s - loss: 1.0889 - acc: 0.55 - ETA: 17s - loss: 1.0887 - acc: 0.55 - ETA: 17s - loss: 1.0888 - acc: 0.55 - ETA: 17s - loss: 1.0887 - acc: 0.55 - ETA: 17s - loss: 1.0889 - acc: 0.55 - ETA: 17s - loss: 1.0888 - acc: 0.55 - ETA: 17s - loss: 1.0888 - acc: 0.55 - ETA: 17s - loss: 1.0887 - acc: 0.55 - ETA: 17s - loss: 1.0887 - acc: 0.55 - ETA: 17s - loss: 1.0885 - acc: 0.55 - ETA: 17s - loss: 1.0884 - acc: 0.55 - ETA: 17s - loss: 1.0884 - acc: 0.55 - ETA: 17s - loss: 1.0885 - acc: 0.55 - ETA: 17s - loss: 1.0883 - acc: 0.55 - ETA: 17s - loss: 1.0881 - acc: 0.55 - ETA: 17s - loss: 1.0880 - acc: 0.55 - ETA: 17s - loss: 1.0878 - acc: 0.55 - ETA: 17s - loss: 1.0876 - acc: 0.55 - ETA: 17s - loss: 1.0876 - acc: 0.55 - ETA: 17s - loss: 1.0876 - acc: 0.55 - ETA: 17s - loss: 1.0875 - acc: 0.55 - ETA: 17s - loss: 1.0875 - acc: 0.55 - ETA: 17s - loss: 1.0875 - acc: 0.55 - ETA: 16s - loss: 1.0875 - acc: 0.55 - ETA: 16s - loss: 1.0875 - acc: 0.55 - ETA: 16s - loss: 1.0876 - acc: 0.55 - ETA: 16s - loss: 1.0875 - acc: 0.55 - ETA: 16s - loss: 1.0875 - acc: 0.55 - ETA: 16s - loss: 1.0874 - acc: 0.55 - ETA: 16s - loss: 1.0874 - acc: 0.55 - ETA: 16s - loss: 1.0872 - acc: 0.55 - ETA: 16s - loss: 1.0871 - acc: 0.55 - ETA: 16s - loss: 1.0874 - acc: 0.55 - ETA: 16s - loss: 1.0873 - acc: 0.55 - ETA: 16s - loss: 1.0872 - acc: 0.55 - ETA: 16s - loss: 1.0870 - acc: 0.55 - ETA: 16s - loss: 1.0869 - acc: 0.55 - ETA: 16s - loss: 1.0866 - acc: 0.55 - ETA: 16s - loss: 1.0866 - acc: 0.55 - ETA: 16s - loss: 1.0868 - acc: 0.55 - ETA: 16s - loss: 1.0867 - acc: 0.55 - ETA: 16s - loss: 1.0868 - acc: 0.55 - ETA: 16s - loss: 1.0867 - acc: 0.55 - ETA: 16s - loss: 1.0868 - acc: 0.55 - ETA: 15s - loss: 1.0868 - acc: 0.55 - ETA: 15s - loss: 1.0866 - acc: 0.55 - ETA: 15s - loss: 1.0867 - acc: 0.55 - ETA: 15s - loss: 1.0866 - acc: 0.55 - ETA: 15s - loss: 1.0865 - acc: 0.55 - ETA: 15s - loss: 1.0865 - acc: 0.55 - ETA: 15s - loss: 1.0865 - acc: 0.55 - ETA: 15s - loss: 1.0864 - acc: 0.55 - ETA: 15s - loss: 1.0864 - acc: 0.55 - ETA: 15s - loss: 1.0865 - acc: 0.55 - ETA: 15s - loss: 1.0865 - acc: 0.55 - ETA: 15s - loss: 1.0865 - acc: 0.55 - ETA: 15s - loss: 1.0863 - acc: 0.55 - ETA: 15s - loss: 1.0862 - acc: 0.55 - ETA: 15s - loss: 1.0862 - acc: 0.55 - ETA: 15s - loss: 1.0863 - acc: 0.55 - ETA: 15s - loss: 1.0863 - acc: 0.55 - ETA: 15s - loss: 1.0861 - acc: 0.55 - ETA: 15s - loss: 1.0861 - acc: 0.55 - ETA: 15s - loss: 1.0861 - acc: 0.55 - ETA: 15s - loss: 1.0860 - acc: 0.55 - ETA: 15s - loss: 1.0860 - acc: 0.55 - ETA: 15s - loss: 1.0859 - acc: 0.55 - ETA: 15s - loss: 1.0858 - acc: 0.55 - ETA: 15s - loss: 1.0857 - acc: 0.55 - ETA: 14s - loss: 1.0857 - acc: 0.55 - ETA: 14s - loss: 1.0858 - acc: 0.55 - ETA: 14s - loss: 1.0859 - acc: 0.55 - ETA: 14s - loss: 1.0860 - acc: 0.55 - ETA: 14s - loss: 1.0861 - acc: 0.55 - ETA: 14s - loss: 1.0862 - acc: 0.55 - ETA: 14s - loss: 1.0861 - acc: 0.55 - ETA: 14s - loss: 1.0860 - acc: 0.55 - ETA: 14s - loss: 1.0858 - acc: 0.55 - ETA: 14s - loss: 1.0858 - acc: 0.55 - ETA: 14s - loss: 1.0856 - acc: 0.55 - ETA: 14s - loss: 1.0856 - acc: 0.55 - ETA: 14s - loss: 1.0858 - acc: 0.55 - ETA: 14s - loss: 1.0857 - acc: 0.55 - ETA: 14s - loss: 1.0855 - acc: 0.55 - ETA: 14s - loss: 1.0856 - acc: 0.55 - ETA: 14s - loss: 1.0855 - acc: 0.55 - ETA: 13s - loss: 1.0853 - acc: 0.55 - ETA: 13s - loss: 1.0853 - acc: 0.55 - ETA: 13s - loss: 1.0852 - acc: 0.55 - ETA: 13s - loss: 1.0851 - acc: 0.55 - ETA: 13s - loss: 1.0850 - acc: 0.55 - ETA: 13s - loss: 1.0853 - acc: 0.55 - ETA: 13s - loss: 1.0854 - acc: 0.55 - ETA: 13s - loss: 1.0854 - acc: 0.55 - ETA: 13s - loss: 1.0853 - acc: 0.55 - ETA: 13s - loss: 1.0853 - acc: 0.55 - ETA: 13s - loss: 1.0853 - acc: 0.55 - ETA: 13s - loss: 1.0854 - acc: 0.55 - ETA: 13s - loss: 1.0854 - acc: 0.55 - ETA: 13s - loss: 1.0853 - acc: 0.55 - ETA: 12s - loss: 1.0853 - acc: 0.55 - ETA: 12s - loss: 1.0852 - acc: 0.55 - ETA: 12s - loss: 1.0850 - acc: 0.55 - ETA: 12s - loss: 1.0849 - acc: 0.55 - ETA: 12s - loss: 1.0847 - acc: 0.55 - ETA: 12s - loss: 1.0846 - acc: 0.55 - ETA: 12s - loss: 1.0846 - acc: 0.55 - ETA: 12s - loss: 1.0847 - acc: 0.55 - ETA: 12s - loss: 1.0845 - acc: 0.55 - ETA: 12s - loss: 1.0846 - acc: 0.55 - ETA: 12s - loss: 1.0843 - acc: 0.55 - ETA: 12s - loss: 1.0842 - acc: 0.55 - ETA: 12s - loss: 1.0839 - acc: 0.55 - ETA: 12s - loss: 1.0839 - acc: 0.55 - ETA: 11s - loss: 1.0839 - acc: 0.55 - ETA: 11s - loss: 1.0837 - acc: 0.55 - ETA: 11s - loss: 1.0837 - acc: 0.55 - ETA: 11s - loss: 1.0836 - acc: 0.55 - ETA: 11s - loss: 1.0835 - acc: 0.55 - ETA: 11s - loss: 1.0834 - acc: 0.55 - ETA: 11s - loss: 1.0831 - acc: 0.55 - ETA: 11s - loss: 1.0830 - acc: 0.55 - ETA: 11s - loss: 1.0829 - acc: 0.55 - ETA: 11s - loss: 1.0827 - acc: 0.55 - ETA: 11s - loss: 1.0828 - acc: 0.55 - ETA: 11s - loss: 1.0826 - acc: 0.55 - ETA: 11s - loss: 1.0825 - acc: 0.55 - ETA: 11s - loss: 1.0824 - acc: 0.55 - ETA: 10s - loss: 1.0823 - acc: 0.55 - ETA: 10s - loss: 1.0822 - acc: 0.55 - ETA: 10s - loss: 1.0821 - acc: 0.55 - ETA: 10s - loss: 1.0819 - acc: 0.55 - ETA: 10s - loss: 1.0818 - acc: 0.55 - ETA: 10s - loss: 1.0817 - acc: 0.55 - ETA: 10s - loss: 1.0816 - acc: 0.55 - ETA: 10s - loss: 1.0816 - acc: 0.55 - ETA: 10s - loss: 1.0816 - acc: 0.55 - ETA: 10s - loss: 1.0815 - acc: 0.55 - ETA: 10s - loss: 1.0813 - acc: 0.55 - ETA: 10s - loss: 1.0811 - acc: 0.55 - ETA: 10s - loss: 1.0809 - acc: 0.55 - ETA: 10s - loss: 1.0807 - acc: 0.55 - ETA: 10s - loss: 1.0807 - acc: 0.55 - ETA: 9s - loss: 1.0805 - acc: 0.5591 - ETA: 9s - loss: 1.0804 - acc: 0.559 - ETA: 9s - loss: 1.0802 - acc: 0.559 - ETA: 9s - loss: 1.0802 - acc: 0.559 - ETA: 9s - loss: 1.0801 - acc: 0.559 - ETA: 9s - loss: 1.0799 - acc: 0.559 - ETA: 9s - loss: 1.0797 - acc: 0.559 - ETA: 9s - loss: 1.0799 - acc: 0.559 - ETA: 9s - loss: 1.0797 - acc: 0.559 - ETA: 9s - loss: 1.0796 - acc: 0.559 - ETA: 9s - loss: 1.0795 - acc: 0.559 - ETA: 9s - loss: 1.0794 - acc: 0.559 - ETA: 9s - loss: 1.0793 - acc: 0.559 - ETA: 8s - loss: 1.0792 - acc: 0.559 - ETA: 8s - loss: 1.0794 - acc: 0.559 - ETA: 8s - loss: 1.0794 - acc: 0.559 - ETA: 8s - loss: 1.0794 - acc: 0.559 - ETA: 8s - loss: 1.0792 - acc: 0.559 - ETA: 8s - loss: 1.0792 - acc: 0.559 - ETA: 8s - loss: 1.0792 - acc: 0.559 - ETA: 8s - loss: 1.0792 - acc: 0.559 - ETA: 8s - loss: 1.0792 - acc: 0.559 - ETA: 8s - loss: 1.0793 - acc: 0.559 - ETA: 8s - loss: 1.0790 - acc: 0.559 - ETA: 8s - loss: 1.0792 - acc: 0.559 - ETA: 8s - loss: 1.0792 - acc: 0.559 - ETA: 8s - loss: 1.0792 - acc: 0.559 - ETA: 7s - loss: 1.0791 - acc: 0.559 - ETA: 7s - loss: 1.0790 - acc: 0.559 - ETA: 7s - loss: 1.0790 - acc: 0.559 - ETA: 7s - loss: 1.0789 - acc: 0.559 - ETA: 7s - loss: 1.0789 - acc: 0.559 - ETA: 7s - loss: 1.0791 - acc: 0.559 - ETA: 7s - loss: 1.0789 - acc: 0.559 - ETA: 7s - loss: 1.0786 - acc: 0.559 - ETA: 7s - loss: 1.0787 - acc: 0.559 - ETA: 7s - loss: 1.0787 - acc: 0.559 - ETA: 7s - loss: 1.0786 - acc: 0.559 - ETA: 7s - loss: 1.0787 - acc: 0.559 - ETA: 7s - loss: 1.0787 - acc: 0.559 - ETA: 7s - loss: 1.0785 - acc: 0.559 - ETA: 6s - loss: 1.0786 - acc: 0.559 - ETA: 6s - loss: 1.0784 - acc: 0.559 - ETA: 6s - loss: 1.0784 - acc: 0.559 - ETA: 6s - loss: 1.0784 - acc: 0.559 - ETA: 6s - loss: 1.0782 - acc: 0.559 - ETA: 6s - loss: 1.0781 - acc: 0.5599"
     ]
    },
    {
     "name": "stdout",
     "output_type": "stream",
     "text": [
      "72508/72508 [==============================] - ETA: 6s - loss: 1.0781 - acc: 0.559 - ETA: 6s - loss: 1.0781 - acc: 0.559 - ETA: 6s - loss: 1.0781 - acc: 0.559 - ETA: 6s - loss: 1.0781 - acc: 0.559 - ETA: 6s - loss: 1.0778 - acc: 0.559 - ETA: 6s - loss: 1.0778 - acc: 0.559 - ETA: 6s - loss: 1.0777 - acc: 0.559 - ETA: 6s - loss: 1.0777 - acc: 0.560 - ETA: 5s - loss: 1.0780 - acc: 0.559 - ETA: 5s - loss: 1.0780 - acc: 0.559 - ETA: 5s - loss: 1.0781 - acc: 0.559 - ETA: 5s - loss: 1.0781 - acc: 0.559 - ETA: 5s - loss: 1.0781 - acc: 0.559 - ETA: 5s - loss: 1.0781 - acc: 0.559 - ETA: 5s - loss: 1.0781 - acc: 0.559 - ETA: 5s - loss: 1.0782 - acc: 0.559 - ETA: 5s - loss: 1.0782 - acc: 0.559 - ETA: 5s - loss: 1.0782 - acc: 0.559 - ETA: 5s - loss: 1.0783 - acc: 0.559 - ETA: 5s - loss: 1.0784 - acc: 0.559 - ETA: 5s - loss: 1.0782 - acc: 0.559 - ETA: 5s - loss: 1.0780 - acc: 0.559 - ETA: 4s - loss: 1.0780 - acc: 0.559 - ETA: 4s - loss: 1.0779 - acc: 0.559 - ETA: 4s - loss: 1.0779 - acc: 0.559 - ETA: 4s - loss: 1.0777 - acc: 0.559 - ETA: 4s - loss: 1.0775 - acc: 0.559 - ETA: 4s - loss: 1.0773 - acc: 0.559 - ETA: 4s - loss: 1.0773 - acc: 0.559 - ETA: 4s - loss: 1.0772 - acc: 0.559 - ETA: 4s - loss: 1.0771 - acc: 0.559 - ETA: 4s - loss: 1.0771 - acc: 0.559 - ETA: 4s - loss: 1.0772 - acc: 0.559 - ETA: 4s - loss: 1.0772 - acc: 0.559 - ETA: 4s - loss: 1.0773 - acc: 0.559 - ETA: 4s - loss: 1.0771 - acc: 0.559 - ETA: 3s - loss: 1.0770 - acc: 0.559 - ETA: 3s - loss: 1.0771 - acc: 0.559 - ETA: 3s - loss: 1.0770 - acc: 0.559 - ETA: 3s - loss: 1.0767 - acc: 0.559 - ETA: 3s - loss: 1.0765 - acc: 0.559 - ETA: 3s - loss: 1.0764 - acc: 0.559 - ETA: 3s - loss: 1.0763 - acc: 0.559 - ETA: 3s - loss: 1.0759 - acc: 0.560 - ETA: 3s - loss: 1.0759 - acc: 0.560 - ETA: 3s - loss: 1.0762 - acc: 0.559 - ETA: 3s - loss: 1.0761 - acc: 0.560 - ETA: 3s - loss: 1.0762 - acc: 0.559 - ETA: 3s - loss: 1.0762 - acc: 0.559 - ETA: 2s - loss: 1.0763 - acc: 0.560 - ETA: 2s - loss: 1.0765 - acc: 0.560 - ETA: 2s - loss: 1.0764 - acc: 0.560 - ETA: 2s - loss: 1.0763 - acc: 0.560 - ETA: 2s - loss: 1.0762 - acc: 0.560 - ETA: 2s - loss: 1.0762 - acc: 0.560 - ETA: 2s - loss: 1.0761 - acc: 0.560 - ETA: 2s - loss: 1.0759 - acc: 0.560 - ETA: 2s - loss: 1.0759 - acc: 0.560 - ETA: 2s - loss: 1.0759 - acc: 0.560 - ETA: 2s - loss: 1.0758 - acc: 0.560 - ETA: 2s - loss: 1.0758 - acc: 0.560 - ETA: 2s - loss: 1.0759 - acc: 0.560 - ETA: 2s - loss: 1.0758 - acc: 0.560 - ETA: 2s - loss: 1.0757 - acc: 0.560 - ETA: 1s - loss: 1.0756 - acc: 0.560 - ETA: 1s - loss: 1.0756 - acc: 0.560 - ETA: 1s - loss: 1.0755 - acc: 0.560 - ETA: 1s - loss: 1.0753 - acc: 0.560 - ETA: 1s - loss: 1.0752 - acc: 0.560 - ETA: 1s - loss: 1.0751 - acc: 0.560 - ETA: 1s - loss: 1.0751 - acc: 0.560 - ETA: 1s - loss: 1.0751 - acc: 0.560 - ETA: 1s - loss: 1.0751 - acc: 0.560 - ETA: 1s - loss: 1.0752 - acc: 0.560 - ETA: 1s - loss: 1.0750 - acc: 0.560 - ETA: 1s - loss: 1.0749 - acc: 0.560 - ETA: 1s - loss: 1.0751 - acc: 0.560 - ETA: 1s - loss: 1.0751 - acc: 0.560 - ETA: 0s - loss: 1.0751 - acc: 0.560 - ETA: 0s - loss: 1.0749 - acc: 0.560 - ETA: 0s - loss: 1.0751 - acc: 0.560 - ETA: 0s - loss: 1.0749 - acc: 0.560 - ETA: 0s - loss: 1.0748 - acc: 0.560 - ETA: 0s - loss: 1.0748 - acc: 0.560 - ETA: 0s - loss: 1.0746 - acc: 0.560 - ETA: 0s - loss: 1.0747 - acc: 0.560 - ETA: 0s - loss: 1.0748 - acc: 0.560 - ETA: 0s - loss: 1.0748 - acc: 0.560 - ETA: 0s - loss: 1.0749 - acc: 0.560 - ETA: 0s - loss: 1.0748 - acc: 0.560 - ETA: 0s - loss: 1.0747 - acc: 0.560 - ETA: 0s - loss: 1.0749 - acc: 0.560 - 83s 1ms/step - loss: 1.0750 - acc: 0.5604 - val_loss: 5.9707 - val_acc: 0.0685\n",
      "Epoch 2/2\n"
     ]
    },
    {
     "name": "stdout",
     "output_type": "stream",
     "text": [
      "12832/72508 [====>.........................] - ETA: 1:28 - loss: 1.1346 - acc: 0.375 - ETA: 1:21 - loss: 0.9265 - acc: 0.572 - ETA: 1:18 - loss: 0.9247 - acc: 0.568 - ETA: 1:19 - loss: 0.9258 - acc: 0.602 - ETA: 1:17 - loss: 0.9814 - acc: 0.583 - ETA: 1:18 - loss: 0.9614 - acc: 0.585 - ETA: 1:18 - loss: 0.9554 - acc: 0.598 - ETA: 1:17 - loss: 0.9369 - acc: 0.604 - ETA: 1:17 - loss: 0.9449 - acc: 0.599 - ETA: 1:17 - loss: 0.9660 - acc: 0.590 - ETA: 1:17 - loss: 0.9911 - acc: 0.590 - ETA: 1:17 - loss: 1.0020 - acc: 0.581 - ETA: 1:17 - loss: 0.9987 - acc: 0.581 - ETA: 1:17 - loss: 0.9978 - acc: 0.581 - ETA: 1:17 - loss: 0.9898 - acc: 0.585 - ETA: 1:16 - loss: 0.9780 - acc: 0.588 - ETA: 1:16 - loss: 0.9771 - acc: 0.590 - ETA: 1:16 - loss: 0.9708 - acc: 0.591 - ETA: 1:16 - loss: 0.9718 - acc: 0.590 - ETA: 1:16 - loss: 0.9710 - acc: 0.591 - ETA: 1:16 - loss: 0.9677 - acc: 0.595 - ETA: 1:16 - loss: 0.9655 - acc: 0.598 - ETA: 1:16 - loss: 0.9670 - acc: 0.596 - ETA: 1:16 - loss: 0.9642 - acc: 0.599 - ETA: 1:16 - loss: 0.9696 - acc: 0.595 - ETA: 1:15 - loss: 0.9623 - acc: 0.598 - ETA: 1:15 - loss: 0.9596 - acc: 0.599 - ETA: 1:15 - loss: 0.9568 - acc: 0.601 - ETA: 1:15 - loss: 0.9604 - acc: 0.600 - ETA: 1:15 - loss: 0.9596 - acc: 0.602 - ETA: 1:15 - loss: 0.9558 - acc: 0.603 - ETA: 1:15 - loss: 0.9559 - acc: 0.601 - ETA: 1:15 - loss: 0.9544 - acc: 0.602 - ETA: 1:15 - loss: 0.9575 - acc: 0.601 - ETA: 1:15 - loss: 0.9606 - acc: 0.604 - ETA: 1:15 - loss: 0.9662 - acc: 0.602 - ETA: 1:15 - loss: 0.9659 - acc: 0.601 - ETA: 1:14 - loss: 0.9692 - acc: 0.598 - ETA: 1:14 - loss: 0.9669 - acc: 0.599 - ETA: 1:14 - loss: 0.9658 - acc: 0.600 - ETA: 1:14 - loss: 0.9667 - acc: 0.599 - ETA: 1:14 - loss: 0.9699 - acc: 0.598 - ETA: 1:14 - loss: 0.9718 - acc: 0.597 - ETA: 1:14 - loss: 0.9730 - acc: 0.597 - ETA: 1:14 - loss: 0.9737 - acc: 0.596 - ETA: 1:14 - loss: 0.9730 - acc: 0.597 - ETA: 1:14 - loss: 0.9712 - acc: 0.598 - ETA: 1:14 - loss: 0.9709 - acc: 0.598 - ETA: 1:13 - loss: 0.9694 - acc: 0.600 - ETA: 1:13 - loss: 0.9687 - acc: 0.601 - ETA: 1:13 - loss: 0.9720 - acc: 0.599 - ETA: 1:13 - loss: 0.9729 - acc: 0.599 - ETA: 1:13 - loss: 0.9703 - acc: 0.600 - ETA: 1:13 - loss: 0.9759 - acc: 0.599 - ETA: 1:13 - loss: 0.9754 - acc: 0.598 - ETA: 1:13 - loss: 0.9735 - acc: 0.599 - ETA: 1:13 - loss: 0.9701 - acc: 0.600 - ETA: 1:13 - loss: 0.9674 - acc: 0.602 - ETA: 1:13 - loss: 0.9660 - acc: 0.604 - ETA: 1:13 - loss: 0.9654 - acc: 0.605 - ETA: 1:13 - loss: 0.9656 - acc: 0.604 - ETA: 1:13 - loss: 0.9632 - acc: 0.605 - ETA: 1:13 - loss: 0.9633 - acc: 0.605 - ETA: 1:13 - loss: 0.9625 - acc: 0.605 - ETA: 1:13 - loss: 0.9606 - acc: 0.606 - ETA: 1:13 - loss: 0.9600 - acc: 0.606 - ETA: 1:13 - loss: 0.9568 - acc: 0.608 - ETA: 1:13 - loss: 0.9562 - acc: 0.610 - ETA: 1:13 - loss: 0.9598 - acc: 0.608 - ETA: 1:13 - loss: 0.9585 - acc: 0.608 - ETA: 1:12 - loss: 0.9597 - acc: 0.608 - ETA: 1:12 - loss: 0.9593 - acc: 0.607 - ETA: 1:12 - loss: 0.9584 - acc: 0.607 - ETA: 1:12 - loss: 0.9586 - acc: 0.607 - ETA: 1:12 - loss: 0.9570 - acc: 0.608 - ETA: 1:12 - loss: 0.9574 - acc: 0.608 - ETA: 1:12 - loss: 0.9586 - acc: 0.606 - ETA: 1:12 - loss: 0.9572 - acc: 0.608 - ETA: 1:12 - loss: 0.9567 - acc: 0.607 - ETA: 1:12 - loss: 0.9541 - acc: 0.609 - ETA: 1:12 - loss: 0.9555 - acc: 0.608 - ETA: 1:12 - loss: 0.9571 - acc: 0.608 - ETA: 1:12 - loss: 0.9590 - acc: 0.607 - ETA: 1:12 - loss: 0.9581 - acc: 0.607 - ETA: 1:12 - loss: 0.9592 - acc: 0.606 - ETA: 1:12 - loss: 0.9582 - acc: 0.606 - ETA: 1:12 - loss: 0.9563 - acc: 0.607 - ETA: 1:12 - loss: 0.9575 - acc: 0.606 - ETA: 1:12 - loss: 0.9574 - acc: 0.606 - ETA: 1:12 - loss: 0.9594 - acc: 0.606 - ETA: 1:11 - loss: 0.9601 - acc: 0.606 - ETA: 1:11 - loss: 0.9625 - acc: 0.604 - ETA: 1:11 - loss: 0.9635 - acc: 0.605 - ETA: 1:11 - loss: 0.9651 - acc: 0.604 - ETA: 1:11 - loss: 0.9644 - acc: 0.603 - ETA: 1:11 - loss: 0.9643 - acc: 0.603 - ETA: 1:11 - loss: 0.9629 - acc: 0.603 - ETA: 1:11 - loss: 0.9636 - acc: 0.602 - ETA: 1:11 - loss: 0.9633 - acc: 0.603 - ETA: 1:11 - loss: 0.9646 - acc: 0.603 - ETA: 1:11 - loss: 0.9635 - acc: 0.603 - ETA: 1:11 - loss: 0.9618 - acc: 0.605 - ETA: 1:11 - loss: 0.9610 - acc: 0.605 - ETA: 1:11 - loss: 0.9591 - acc: 0.606 - ETA: 1:11 - loss: 0.9585 - acc: 0.605 - ETA: 1:11 - loss: 0.9592 - acc: 0.605 - ETA: 1:11 - loss: 0.9598 - acc: 0.604 - ETA: 1:11 - loss: 0.9600 - acc: 0.604 - ETA: 1:11 - loss: 0.9601 - acc: 0.604 - ETA: 1:11 - loss: 0.9597 - acc: 0.604 - ETA: 1:11 - loss: 0.9590 - acc: 0.604 - ETA: 1:10 - loss: 0.9599 - acc: 0.603 - ETA: 1:10 - loss: 0.9593 - acc: 0.603 - ETA: 1:10 - loss: 0.9596 - acc: 0.603 - ETA: 1:10 - loss: 0.9611 - acc: 0.602 - ETA: 1:10 - loss: 0.9599 - acc: 0.603 - ETA: 1:10 - loss: 0.9613 - acc: 0.602 - ETA: 1:10 - loss: 0.9607 - acc: 0.603 - ETA: 1:10 - loss: 0.9604 - acc: 0.603 - ETA: 1:10 - loss: 0.9602 - acc: 0.603 - ETA: 1:10 - loss: 0.9610 - acc: 0.603 - ETA: 1:10 - loss: 0.9601 - acc: 0.603 - ETA: 1:10 - loss: 0.9601 - acc: 0.603 - ETA: 1:10 - loss: 0.9605 - acc: 0.603 - ETA: 1:10 - loss: 0.9617 - acc: 0.602 - ETA: 1:10 - loss: 0.9620 - acc: 0.602 - ETA: 1:10 - loss: 0.9625 - acc: 0.602 - ETA: 1:10 - loss: 0.9630 - acc: 0.601 - ETA: 1:10 - loss: 0.9628 - acc: 0.602 - ETA: 1:10 - loss: 0.9641 - acc: 0.601 - ETA: 1:10 - loss: 0.9649 - acc: 0.600 - ETA: 1:10 - loss: 0.9634 - acc: 0.601 - ETA: 1:10 - loss: 0.9632 - acc: 0.601 - ETA: 1:10 - loss: 0.9630 - acc: 0.601 - ETA: 1:10 - loss: 0.9635 - acc: 0.600 - ETA: 1:10 - loss: 0.9624 - acc: 0.601 - ETA: 1:10 - loss: 0.9623 - acc: 0.601 - ETA: 1:10 - loss: 0.9645 - acc: 0.601 - ETA: 1:10 - loss: 0.9641 - acc: 0.601 - ETA: 1:10 - loss: 0.9651 - acc: 0.600 - ETA: 1:10 - loss: 0.9665 - acc: 0.600 - ETA: 1:10 - loss: 0.9663 - acc: 0.600 - ETA: 1:10 - loss: 0.9669 - acc: 0.599 - ETA: 1:10 - loss: 0.9665 - acc: 0.600 - ETA: 1:10 - loss: 0.9680 - acc: 0.600 - ETA: 1:10 - loss: 0.9686 - acc: 0.600 - ETA: 1:10 - loss: 0.9696 - acc: 0.600 - ETA: 1:10 - loss: 0.9685 - acc: 0.601 - ETA: 1:09 - loss: 0.9694 - acc: 0.601 - ETA: 1:09 - loss: 0.9696 - acc: 0.601 - ETA: 1:09 - loss: 0.9694 - acc: 0.601 - ETA: 1:09 - loss: 0.9691 - acc: 0.602 - ETA: 1:09 - loss: 0.9692 - acc: 0.601 - ETA: 1:09 - loss: 0.9682 - acc: 0.602 - ETA: 1:09 - loss: 0.9686 - acc: 0.602 - ETA: 1:09 - loss: 0.9675 - acc: 0.603 - ETA: 1:09 - loss: 0.9670 - acc: 0.603 - ETA: 1:09 - loss: 0.9672 - acc: 0.603 - ETA: 1:09 - loss: 0.9664 - acc: 0.603 - ETA: 1:09 - loss: 0.9660 - acc: 0.603 - ETA: 1:09 - loss: 0.9665 - acc: 0.603 - ETA: 1:09 - loss: 0.9675 - acc: 0.603 - ETA: 1:09 - loss: 0.9682 - acc: 0.603 - ETA: 1:09 - loss: 0.9672 - acc: 0.603 - ETA: 1:09 - loss: 0.9668 - acc: 0.604 - ETA: 1:08 - loss: 0.9665 - acc: 0.604 - ETA: 1:08 - loss: 0.9671 - acc: 0.604 - ETA: 1:08 - loss: 0.9668 - acc: 0.604 - ETA: 1:08 - loss: 0.9670 - acc: 0.604 - ETA: 1:08 - loss: 0.9662 - acc: 0.604 - ETA: 1:08 - loss: 0.9655 - acc: 0.605 - ETA: 1:08 - loss: 0.9649 - acc: 0.605 - ETA: 1:08 - loss: 0.9642 - acc: 0.605 - ETA: 1:08 - loss: 0.9639 - acc: 0.606 - ETA: 1:08 - loss: 0.9645 - acc: 0.606 - ETA: 1:08 - loss: 0.9646 - acc: 0.606 - ETA: 1:08 - loss: 0.9644 - acc: 0.606 - ETA: 1:08 - loss: 0.9641 - acc: 0.606 - ETA: 1:08 - loss: 0.9649 - acc: 0.606 - ETA: 1:08 - loss: 0.9655 - acc: 0.605 - ETA: 1:08 - loss: 0.9657 - acc: 0.605 - ETA: 1:07 - loss: 0.9652 - acc: 0.605 - ETA: 1:07 - loss: 0.9648 - acc: 0.605 - ETA: 1:07 - loss: 0.9652 - acc: 0.605 - ETA: 1:07 - loss: 0.9650 - acc: 0.606 - ETA: 1:07 - loss: 0.9653 - acc: 0.605 - ETA: 1:07 - loss: 0.9653 - acc: 0.605 - ETA: 1:07 - loss: 0.9664 - acc: 0.605 - ETA: 1:07 - loss: 0.9673 - acc: 0.605 - ETA: 1:07 - loss: 0.9672 - acc: 0.605 - ETA: 1:07 - loss: 0.9680 - acc: 0.604 - ETA: 1:07 - loss: 0.9670 - acc: 0.605 - ETA: 1:07 - loss: 0.9680 - acc: 0.605 - ETA: 1:07 - loss: 0.9678 - acc: 0.605 - ETA: 1:07 - loss: 0.9682 - acc: 0.605 - ETA: 1:07 - loss: 0.9688 - acc: 0.604 - ETA: 1:07 - loss: 0.9690 - acc: 0.604 - ETA: 1:07 - loss: 0.9685 - acc: 0.604 - ETA: 1:07 - loss: 0.9680 - acc: 0.605 - ETA: 1:07 - loss: 0.9669 - acc: 0.605 - ETA: 1:07 - loss: 0.9654 - acc: 0.606 - ETA: 1:07 - loss: 0.9659 - acc: 0.605 - ETA: 1:07 - loss: 0.9653 - acc: 0.606 - ETA: 1:07 - loss: 0.9654 - acc: 0.605824128/72508 [========>.....................] - ETA: 1:07 - loss: 0.9653 - acc: 0.605 - ETA: 1:07 - loss: 0.9655 - acc: 0.605 - ETA: 1:07 - loss: 0.9656 - acc: 0.605 - ETA: 1:06 - loss: 0.9659 - acc: 0.605 - ETA: 1:06 - loss: 0.9661 - acc: 0.604 - ETA: 1:06 - loss: 0.9665 - acc: 0.604 - ETA: 1:06 - loss: 0.9665 - acc: 0.604 - ETA: 1:06 - loss: 0.9667 - acc: 0.604 - ETA: 1:06 - loss: 0.9674 - acc: 0.604 - ETA: 1:06 - loss: 0.9683 - acc: 0.604 - ETA: 1:06 - loss: 0.9685 - acc: 0.604 - ETA: 1:06 - loss: 0.9682 - acc: 0.604 - ETA: 1:06 - loss: 0.9679 - acc: 0.604 - ETA: 1:06 - loss: 0.9691 - acc: 0.604 - ETA: 1:06 - loss: 0.9685 - acc: 0.604 - ETA: 1:06 - loss: 0.9681 - acc: 0.604 - ETA: 1:06 - loss: 0.9679 - acc: 0.604 - ETA: 1:06 - loss: 0.9675 - acc: 0.604 - ETA: 1:06 - loss: 0.9676 - acc: 0.604 - ETA: 1:06 - loss: 0.9674 - acc: 0.604 - ETA: 1:06 - loss: 0.9675 - acc: 0.604 - ETA: 1:06 - loss: 0.9672 - acc: 0.604 - ETA: 1:06 - loss: 0.9671 - acc: 0.604 - ETA: 1:06 - loss: 0.9664 - acc: 0.605 - ETA: 1:06 - loss: 0.9668 - acc: 0.605 - ETA: 1:06 - loss: 0.9686 - acc: 0.604 - ETA: 1:06 - loss: 0.9679 - acc: 0.605 - ETA: 1:06 - loss: 0.9689 - acc: 0.604 - ETA: 1:06 - loss: 0.9692 - acc: 0.604 - ETA: 1:06 - loss: 0.9689 - acc: 0.604 - ETA: 1:06 - loss: 0.9689 - acc: 0.604 - ETA: 1:06 - loss: 0.9688 - acc: 0.604 - ETA: 1:06 - loss: 0.9688 - acc: 0.604 - ETA: 1:06 - loss: 0.9700 - acc: 0.603 - ETA: 1:06 - loss: 0.9699 - acc: 0.603 - ETA: 1:06 - loss: 0.9688 - acc: 0.604 - ETA: 1:06 - loss: 0.9689 - acc: 0.604 - ETA: 1:06 - loss: 0.9688 - acc: 0.604 - ETA: 1:06 - loss: 0.9685 - acc: 0.604 - ETA: 1:06 - loss: 0.9678 - acc: 0.604 - ETA: 1:06 - loss: 0.9680 - acc: 0.604 - ETA: 1:06 - loss: 0.9676 - acc: 0.604 - ETA: 1:06 - loss: 0.9677 - acc: 0.604 - ETA: 1:06 - loss: 0.9675 - acc: 0.604 - ETA: 1:06 - loss: 0.9685 - acc: 0.603 - ETA: 1:06 - loss: 0.9686 - acc: 0.603 - ETA: 1:06 - loss: 0.9676 - acc: 0.603 - ETA: 1:06 - loss: 0.9672 - acc: 0.604 - ETA: 1:06 - loss: 0.9669 - acc: 0.604 - ETA: 1:06 - loss: 0.9664 - acc: 0.604 - ETA: 1:06 - loss: 0.9666 - acc: 0.604 - ETA: 1:06 - loss: 0.9666 - acc: 0.604 - ETA: 1:06 - loss: 0.9665 - acc: 0.604 - ETA: 1:06 - loss: 0.9663 - acc: 0.604 - ETA: 1:06 - loss: 0.9659 - acc: 0.604 - ETA: 1:06 - loss: 0.9659 - acc: 0.604 - ETA: 1:06 - loss: 0.9661 - acc: 0.604 - ETA: 1:06 - loss: 0.9657 - acc: 0.604 - ETA: 1:06 - loss: 0.9654 - acc: 0.604 - ETA: 1:06 - loss: 0.9659 - acc: 0.604 - ETA: 1:06 - loss: 0.9664 - acc: 0.604 - ETA: 1:06 - loss: 0.9658 - acc: 0.604 - ETA: 1:06 - loss: 0.9655 - acc: 0.604 - ETA: 1:06 - loss: 0.9650 - acc: 0.604 - ETA: 1:06 - loss: 0.9654 - acc: 0.604 - ETA: 1:06 - loss: 0.9651 - acc: 0.604 - ETA: 1:06 - loss: 0.9653 - acc: 0.604 - ETA: 1:06 - loss: 0.9657 - acc: 0.604 - ETA: 1:06 - loss: 0.9659 - acc: 0.604 - ETA: 1:06 - loss: 0.9658 - acc: 0.604 - ETA: 1:06 - loss: 0.9661 - acc: 0.604 - ETA: 1:06 - loss: 0.9660 - acc: 0.604 - ETA: 1:06 - loss: 0.9658 - acc: 0.604 - ETA: 1:05 - loss: 0.9662 - acc: 0.604 - ETA: 1:05 - loss: 0.9662 - acc: 0.604 - ETA: 1:05 - loss: 0.9659 - acc: 0.604 - ETA: 1:05 - loss: 0.9660 - acc: 0.604 - ETA: 1:05 - loss: 0.9663 - acc: 0.604 - ETA: 1:05 - loss: 0.9670 - acc: 0.604 - ETA: 1:05 - loss: 0.9674 - acc: 0.604 - ETA: 1:05 - loss: 0.9670 - acc: 0.604 - ETA: 1:05 - loss: 0.9671 - acc: 0.604 - ETA: 1:05 - loss: 0.9672 - acc: 0.604 - ETA: 1:06 - loss: 0.9671 - acc: 0.604 - ETA: 1:06 - loss: 0.9675 - acc: 0.604 - ETA: 1:06 - loss: 0.9678 - acc: 0.604 - ETA: 1:06 - loss: 0.9682 - acc: 0.603 - ETA: 1:06 - loss: 0.9684 - acc: 0.604 - ETA: 1:05 - loss: 0.9681 - acc: 0.603 - ETA: 1:05 - loss: 0.9680 - acc: 0.604 - ETA: 1:05 - loss: 0.9680 - acc: 0.604 - ETA: 1:05 - loss: 0.9684 - acc: 0.604 - ETA: 1:05 - loss: 0.9688 - acc: 0.603 - ETA: 1:05 - loss: 0.9687 - acc: 0.603 - ETA: 1:05 - loss: 0.9690 - acc: 0.603 - ETA: 1:05 - loss: 0.9685 - acc: 0.603 - ETA: 1:05 - loss: 0.9682 - acc: 0.603 - ETA: 1:05 - loss: 0.9688 - acc: 0.603 - ETA: 1:05 - loss: 0.9691 - acc: 0.603 - ETA: 1:05 - loss: 0.9692 - acc: 0.603 - ETA: 1:05 - loss: 0.9688 - acc: 0.603 - ETA: 1:05 - loss: 0.9688 - acc: 0.603 - ETA: 1:05 - loss: 0.9691 - acc: 0.603 - ETA: 1:05 - loss: 0.9687 - acc: 0.603 - ETA: 1:05 - loss: 0.9683 - acc: 0.603 - ETA: 1:05 - loss: 0.9693 - acc: 0.603 - ETA: 1:05 - loss: 0.9688 - acc: 0.603 - ETA: 1:05 - loss: 0.9688 - acc: 0.603 - ETA: 1:04 - loss: 0.9685 - acc: 0.603 - ETA: 1:04 - loss: 0.9686 - acc: 0.603 - ETA: 1:04 - loss: 0.9685 - acc: 0.603 - ETA: 1:04 - loss: 0.9682 - acc: 0.603 - ETA: 1:04 - loss: 0.9678 - acc: 0.603 - ETA: 1:04 - loss: 0.9677 - acc: 0.603 - ETA: 1:04 - loss: 0.9679 - acc: 0.603 - ETA: 1:04 - loss: 0.9677 - acc: 0.603 - ETA: 1:04 - loss: 0.9681 - acc: 0.603 - ETA: 1:04 - loss: 0.9685 - acc: 0.603 - ETA: 1:04 - loss: 0.9685 - acc: 0.603 - ETA: 1:04 - loss: 0.9683 - acc: 0.603 - ETA: 1:04 - loss: 0.9684 - acc: 0.603 - ETA: 1:04 - loss: 0.9684 - acc: 0.603 - ETA: 1:04 - loss: 0.9685 - acc: 0.603 - ETA: 1:04 - loss: 0.9678 - acc: 0.603 - ETA: 1:04 - loss: 0.9684 - acc: 0.603 - ETA: 1:03 - loss: 0.9680 - acc: 0.603 - ETA: 1:03 - loss: 0.9677 - acc: 0.603 - ETA: 1:03 - loss: 0.9682 - acc: 0.603 - ETA: 1:03 - loss: 0.9688 - acc: 0.602 - ETA: 1:03 - loss: 0.9690 - acc: 0.602 - ETA: 1:03 - loss: 0.9688 - acc: 0.602 - ETA: 1:03 - loss: 0.9682 - acc: 0.602 - ETA: 1:03 - loss: 0.9681 - acc: 0.602 - ETA: 1:03 - loss: 0.9684 - acc: 0.602 - ETA: 1:03 - loss: 0.9682 - acc: 0.602 - ETA: 1:03 - loss: 0.9682 - acc: 0.602 - ETA: 1:03 - loss: 0.9678 - acc: 0.602 - ETA: 1:03 - loss: 0.9672 - acc: 0.602 - ETA: 1:03 - loss: 0.9670 - acc: 0.602 - ETA: 1:03 - loss: 0.9673 - acc: 0.602 - ETA: 1:02 - loss: 0.9673 - acc: 0.602 - ETA: 1:02 - loss: 0.9672 - acc: 0.602 - ETA: 1:02 - loss: 0.9662 - acc: 0.603 - ETA: 1:02 - loss: 0.9663 - acc: 0.603 - ETA: 1:02 - loss: 0.9664 - acc: 0.603 - ETA: 1:02 - loss: 0.9662 - acc: 0.603 - ETA: 1:02 - loss: 0.9661 - acc: 0.603 - ETA: 1:02 - loss: 0.9659 - acc: 0.603 - ETA: 1:02 - loss: 0.9663 - acc: 0.603 - ETA: 1:02 - loss: 0.9667 - acc: 0.603 - ETA: 1:02 - loss: 0.9667 - acc: 0.602 - ETA: 1:02 - loss: 0.9669 - acc: 0.603 - ETA: 1:01 - loss: 0.9665 - acc: 0.603 - ETA: 1:01 - loss: 0.9661 - acc: 0.603 - ETA: 1:01 - loss: 0.9663 - acc: 0.602 - ETA: 1:01 - loss: 0.9657 - acc: 0.603 - ETA: 1:01 - loss: 0.9656 - acc: 0.603 - ETA: 1:01 - loss: 0.9654 - acc: 0.602 - ETA: 1:01 - loss: 0.9654 - acc: 0.602 - ETA: 1:01 - loss: 0.9660 - acc: 0.602 - ETA: 1:01 - loss: 0.9659 - acc: 0.602 - ETA: 1:01 - loss: 0.9656 - acc: 0.602 - ETA: 1:01 - loss: 0.9655 - acc: 0.602 - ETA: 1:01 - loss: 0.9657 - acc: 0.602 - ETA: 1:01 - loss: 0.9657 - acc: 0.602 - ETA: 1:01 - loss: 0.9656 - acc: 0.602 - ETA: 1:01 - loss: 0.9649 - acc: 0.602 - ETA: 1:00 - loss: 0.9653 - acc: 0.602 - ETA: 1:00 - loss: 0.9652 - acc: 0.601 - ETA: 1:00 - loss: 0.9654 - acc: 0.601 - ETA: 1:00 - loss: 0.9652 - acc: 0.602 - ETA: 1:00 - loss: 0.9652 - acc: 0.601 - ETA: 1:00 - loss: 0.9649 - acc: 0.602 - ETA: 1:00 - loss: 0.9648 - acc: 0.601 - ETA: 1:00 - loss: 0.9645 - acc: 0.602 - ETA: 1:00 - loss: 0.9644 - acc: 0.602 - ETA: 1:00 - loss: 0.9645 - acc: 0.602 - ETA: 1:00 - loss: 0.9655 - acc: 0.601 - ETA: 1:00 - loss: 0.9650 - acc: 0.602 - ETA: 59s - loss: 0.9653 - acc: 0.601 - ETA: 59s - loss: 0.9658 - acc: 0.60 - ETA: 59s - loss: 0.9660 - acc: 0.60 - ETA: 59s - loss: 0.9668 - acc: 0.60 - ETA: 59s - loss: 0.9668 - acc: 0.60 - ETA: 59s - loss: 0.9669 - acc: 0.60 - ETA: 59s - loss: 0.9665 - acc: 0.60 - ETA: 59s - loss: 0.9662 - acc: 0.60 - ETA: 59s - loss: 0.9665 - acc: 0.60 - ETA: 59s - loss: 0.9669 - acc: 0.60 - ETA: 59s - loss: 0.9675 - acc: 0.60 - ETA: 59s - loss: 0.9673 - acc: 0.60 - ETA: 59s - loss: 0.9673 - acc: 0.60 - ETA: 58s - loss: 0.9674 - acc: 0.60 - ETA: 58s - loss: 0.9670 - acc: 0.60 - ETA: 58s - loss: 0.9675 - acc: 0.60 - ETA: 58s - loss: 0.9676 - acc: 0.60 - ETA: 58s - loss: 0.9676 - acc: 0.60 - ETA: 58s - loss: 0.9678 - acc: 0.60 - ETA: 58s - loss: 0.9677 - acc: 0.60 - ETA: 58s - loss: 0.9676 - acc: 0.60 - ETA: 58s - loss: 0.9679 - acc: 0.60 - ETA: 58s - loss: 0.9682 - acc: 0.60 - ETA: 58s - loss: 0.9683 - acc: 0.60 - ETA: 58s - loss: 0.9680 - acc: 0.60 - ETA: 58s - loss: 0.9684 - acc: 0.6011"
     ]
    },
    {
     "name": "stdout",
     "output_type": "stream",
     "text": [
      "35776/72508 [=============>................] - ETA: 58s - loss: 0.9681 - acc: 0.60 - ETA: 58s - loss: 0.9681 - acc: 0.60 - ETA: 57s - loss: 0.9679 - acc: 0.60 - ETA: 57s - loss: 0.9676 - acc: 0.60 - ETA: 57s - loss: 0.9678 - acc: 0.60 - ETA: 57s - loss: 0.9680 - acc: 0.60 - ETA: 57s - loss: 0.9680 - acc: 0.60 - ETA: 57s - loss: 0.9681 - acc: 0.60 - ETA: 57s - loss: 0.9678 - acc: 0.60 - ETA: 57s - loss: 0.9682 - acc: 0.60 - ETA: 57s - loss: 0.9680 - acc: 0.60 - ETA: 57s - loss: 0.9682 - acc: 0.60 - ETA: 57s - loss: 0.9684 - acc: 0.60 - ETA: 57s - loss: 0.9687 - acc: 0.60 - ETA: 57s - loss: 0.9686 - acc: 0.60 - ETA: 57s - loss: 0.9687 - acc: 0.60 - ETA: 57s - loss: 0.9685 - acc: 0.60 - ETA: 57s - loss: 0.9682 - acc: 0.60 - ETA: 57s - loss: 0.9679 - acc: 0.60 - ETA: 57s - loss: 0.9682 - acc: 0.60 - ETA: 57s - loss: 0.9683 - acc: 0.60 - ETA: 57s - loss: 0.9683 - acc: 0.60 - ETA: 57s - loss: 0.9684 - acc: 0.60 - ETA: 57s - loss: 0.9686 - acc: 0.60 - ETA: 57s - loss: 0.9689 - acc: 0.60 - ETA: 56s - loss: 0.9691 - acc: 0.60 - ETA: 56s - loss: 0.9692 - acc: 0.60 - ETA: 56s - loss: 0.9693 - acc: 0.60 - ETA: 56s - loss: 0.9693 - acc: 0.60 - ETA: 56s - loss: 0.9690 - acc: 0.60 - ETA: 56s - loss: 0.9691 - acc: 0.60 - ETA: 56s - loss: 0.9693 - acc: 0.60 - ETA: 56s - loss: 0.9688 - acc: 0.60 - ETA: 56s - loss: 0.9689 - acc: 0.60 - ETA: 56s - loss: 0.9693 - acc: 0.60 - ETA: 55s - loss: 0.9693 - acc: 0.60 - ETA: 55s - loss: 0.9690 - acc: 0.60 - ETA: 55s - loss: 0.9694 - acc: 0.60 - ETA: 55s - loss: 0.9695 - acc: 0.60 - ETA: 55s - loss: 0.9695 - acc: 0.60 - ETA: 55s - loss: 0.9690 - acc: 0.60 - ETA: 55s - loss: 0.9691 - acc: 0.60 - ETA: 55s - loss: 0.9688 - acc: 0.60 - ETA: 55s - loss: 0.9687 - acc: 0.60 - ETA: 55s - loss: 0.9690 - acc: 0.60 - ETA: 55s - loss: 0.9691 - acc: 0.60 - ETA: 55s - loss: 0.9694 - acc: 0.60 - ETA: 55s - loss: 0.9698 - acc: 0.60 - ETA: 55s - loss: 0.9694 - acc: 0.60 - ETA: 55s - loss: 0.9689 - acc: 0.60 - ETA: 55s - loss: 0.9692 - acc: 0.60 - ETA: 55s - loss: 0.9693 - acc: 0.60 - ETA: 55s - loss: 0.9692 - acc: 0.60 - ETA: 55s - loss: 0.9693 - acc: 0.60 - ETA: 55s - loss: 0.9690 - acc: 0.60 - ETA: 55s - loss: 0.9690 - acc: 0.60 - ETA: 55s - loss: 0.9693 - acc: 0.60 - ETA: 55s - loss: 0.9694 - acc: 0.60 - ETA: 55s - loss: 0.9699 - acc: 0.60 - ETA: 55s - loss: 0.9707 - acc: 0.60 - ETA: 55s - loss: 0.9706 - acc: 0.60 - ETA: 54s - loss: 0.9705 - acc: 0.60 - ETA: 54s - loss: 0.9707 - acc: 0.60 - ETA: 54s - loss: 0.9706 - acc: 0.60 - ETA: 54s - loss: 0.9704 - acc: 0.60 - ETA: 54s - loss: 0.9704 - acc: 0.60 - ETA: 54s - loss: 0.9703 - acc: 0.60 - ETA: 54s - loss: 0.9703 - acc: 0.60 - ETA: 54s - loss: 0.9704 - acc: 0.60 - ETA: 54s - loss: 0.9704 - acc: 0.60 - ETA: 54s - loss: 0.9707 - acc: 0.60 - ETA: 54s - loss: 0.9708 - acc: 0.60 - ETA: 54s - loss: 0.9708 - acc: 0.60 - ETA: 54s - loss: 0.9708 - acc: 0.60 - ETA: 54s - loss: 0.9710 - acc: 0.60 - ETA: 54s - loss: 0.9704 - acc: 0.60 - ETA: 54s - loss: 0.9705 - acc: 0.60 - ETA: 53s - loss: 0.9705 - acc: 0.60 - ETA: 53s - loss: 0.9704 - acc: 0.60 - ETA: 53s - loss: 0.9708 - acc: 0.60 - ETA: 53s - loss: 0.9709 - acc: 0.60 - ETA: 53s - loss: 0.9710 - acc: 0.60 - ETA: 53s - loss: 0.9707 - acc: 0.60 - ETA: 53s - loss: 0.9708 - acc: 0.60 - ETA: 53s - loss: 0.9706 - acc: 0.60 - ETA: 53s - loss: 0.9704 - acc: 0.60 - ETA: 53s - loss: 0.9707 - acc: 0.60 - ETA: 53s - loss: 0.9709 - acc: 0.60 - ETA: 53s - loss: 0.9709 - acc: 0.60 - ETA: 53s - loss: 0.9707 - acc: 0.60 - ETA: 52s - loss: 0.9706 - acc: 0.60 - ETA: 52s - loss: 0.9704 - acc: 0.60 - ETA: 52s - loss: 0.9702 - acc: 0.60 - ETA: 52s - loss: 0.9704 - acc: 0.60 - ETA: 52s - loss: 0.9705 - acc: 0.60 - ETA: 52s - loss: 0.9703 - acc: 0.60 - ETA: 52s - loss: 0.9703 - acc: 0.60 - ETA: 52s - loss: 0.9703 - acc: 0.60 - ETA: 52s - loss: 0.9706 - acc: 0.60 - ETA: 52s - loss: 0.9704 - acc: 0.60 - ETA: 52s - loss: 0.9706 - acc: 0.60 - ETA: 52s - loss: 0.9708 - acc: 0.60 - ETA: 52s - loss: 0.9706 - acc: 0.60 - ETA: 52s - loss: 0.9706 - acc: 0.60 - ETA: 52s - loss: 0.9704 - acc: 0.60 - ETA: 52s - loss: 0.9703 - acc: 0.60 - ETA: 52s - loss: 0.9708 - acc: 0.60 - ETA: 51s - loss: 0.9707 - acc: 0.60 - ETA: 51s - loss: 0.9709 - acc: 0.60 - ETA: 51s - loss: 0.9710 - acc: 0.60 - ETA: 51s - loss: 0.9708 - acc: 0.60 - ETA: 51s - loss: 0.9707 - acc: 0.60 - ETA: 51s - loss: 0.9705 - acc: 0.60 - ETA: 51s - loss: 0.9704 - acc: 0.60 - ETA: 51s - loss: 0.9705 - acc: 0.60 - ETA: 51s - loss: 0.9706 - acc: 0.60 - ETA: 51s - loss: 0.9705 - acc: 0.60 - ETA: 51s - loss: 0.9705 - acc: 0.60 - ETA: 51s - loss: 0.9704 - acc: 0.60 - ETA: 51s - loss: 0.9708 - acc: 0.60 - ETA: 51s - loss: 0.9711 - acc: 0.60 - ETA: 51s - loss: 0.9712 - acc: 0.60 - ETA: 51s - loss: 0.9716 - acc: 0.60 - ETA: 50s - loss: 0.9718 - acc: 0.60 - ETA: 50s - loss: 0.9723 - acc: 0.60 - ETA: 50s - loss: 0.9730 - acc: 0.59 - ETA: 50s - loss: 0.9733 - acc: 0.59 - ETA: 50s - loss: 0.9733 - acc: 0.59 - ETA: 50s - loss: 0.9734 - acc: 0.59 - ETA: 50s - loss: 0.9731 - acc: 0.59 - ETA: 50s - loss: 0.9735 - acc: 0.59 - ETA: 50s - loss: 0.9740 - acc: 0.59 - ETA: 50s - loss: 0.9744 - acc: 0.59 - ETA: 50s - loss: 0.9747 - acc: 0.59 - ETA: 50s - loss: 0.9748 - acc: 0.59 - ETA: 50s - loss: 0.9752 - acc: 0.59 - ETA: 50s - loss: 0.9753 - acc: 0.59 - ETA: 49s - loss: 0.9751 - acc: 0.59 - ETA: 49s - loss: 0.9750 - acc: 0.59 - ETA: 49s - loss: 0.9751 - acc: 0.59 - ETA: 49s - loss: 0.9752 - acc: 0.59 - ETA: 49s - loss: 0.9757 - acc: 0.59 - ETA: 49s - loss: 0.9757 - acc: 0.59 - ETA: 49s - loss: 0.9757 - acc: 0.59 - ETA: 49s - loss: 0.9756 - acc: 0.59 - ETA: 49s - loss: 0.9755 - acc: 0.59 - ETA: 49s - loss: 0.9756 - acc: 0.59 - ETA: 49s - loss: 0.9758 - acc: 0.59 - ETA: 49s - loss: 0.9760 - acc: 0.59 - ETA: 49s - loss: 0.9758 - acc: 0.59 - ETA: 49s - loss: 0.9759 - acc: 0.59 - ETA: 49s - loss: 0.9760 - acc: 0.59 - ETA: 49s - loss: 0.9761 - acc: 0.59 - ETA: 49s - loss: 0.9760 - acc: 0.59 - ETA: 49s - loss: 0.9764 - acc: 0.59 - ETA: 48s - loss: 0.9763 - acc: 0.59 - ETA: 48s - loss: 0.9765 - acc: 0.59 - ETA: 48s - loss: 0.9764 - acc: 0.59 - ETA: 48s - loss: 0.9764 - acc: 0.59 - ETA: 48s - loss: 0.9762 - acc: 0.59 - ETA: 48s - loss: 0.9765 - acc: 0.59 - ETA: 48s - loss: 0.9764 - acc: 0.59 - ETA: 48s - loss: 0.9763 - acc: 0.59 - ETA: 48s - loss: 0.9764 - acc: 0.59 - ETA: 48s - loss: 0.9764 - acc: 0.59 - ETA: 48s - loss: 0.9768 - acc: 0.59 - ETA: 48s - loss: 0.9769 - acc: 0.59 - ETA: 48s - loss: 0.9772 - acc: 0.59 - ETA: 48s - loss: 0.9775 - acc: 0.59 - ETA: 48s - loss: 0.9779 - acc: 0.59 - ETA: 48s - loss: 0.9778 - acc: 0.59 - ETA: 48s - loss: 0.9780 - acc: 0.59 - ETA: 48s - loss: 0.9783 - acc: 0.59 - ETA: 47s - loss: 0.9786 - acc: 0.59 - ETA: 47s - loss: 0.9785 - acc: 0.59 - ETA: 47s - loss: 0.9785 - acc: 0.59 - ETA: 47s - loss: 0.9785 - acc: 0.59 - ETA: 47s - loss: 0.9787 - acc: 0.59 - ETA: 47s - loss: 0.9784 - acc: 0.59 - ETA: 47s - loss: 0.9783 - acc: 0.59 - ETA: 47s - loss: 0.9784 - acc: 0.59 - ETA: 47s - loss: 0.9783 - acc: 0.59 - ETA: 47s - loss: 0.9783 - acc: 0.59 - ETA: 47s - loss: 0.9784 - acc: 0.59 - ETA: 47s - loss: 0.9787 - acc: 0.59 - ETA: 47s - loss: 0.9786 - acc: 0.59 - ETA: 47s - loss: 0.9786 - acc: 0.59 - ETA: 47s - loss: 0.9785 - acc: 0.59 - ETA: 47s - loss: 0.9784 - acc: 0.59 - ETA: 47s - loss: 0.9786 - acc: 0.59 - ETA: 46s - loss: 0.9786 - acc: 0.59 - ETA: 46s - loss: 0.9790 - acc: 0.59 - ETA: 46s - loss: 0.9788 - acc: 0.59 - ETA: 46s - loss: 0.9789 - acc: 0.59 - ETA: 46s - loss: 0.9791 - acc: 0.59 - ETA: 46s - loss: 0.9794 - acc: 0.59 - ETA: 46s - loss: 0.9794 - acc: 0.59 - ETA: 46s - loss: 0.9793 - acc: 0.59 - ETA: 46s - loss: 0.9794 - acc: 0.59 - ETA: 46s - loss: 0.9791 - acc: 0.59 - ETA: 46s - loss: 0.9791 - acc: 0.59 - ETA: 46s - loss: 0.9792 - acc: 0.59 - ETA: 46s - loss: 0.9790 - acc: 0.59 - ETA: 46s - loss: 0.9790 - acc: 0.59 - ETA: 45s - loss: 0.9793 - acc: 0.59 - ETA: 45s - loss: 0.9794 - acc: 0.59 - ETA: 45s - loss: 0.9791 - acc: 0.59 - ETA: 45s - loss: 0.9790 - acc: 0.59 - ETA: 45s - loss: 0.9795 - acc: 0.59 - ETA: 45s - loss: 0.9793 - acc: 0.59 - ETA: 45s - loss: 0.9792 - acc: 0.59 - ETA: 45s - loss: 0.9791 - acc: 0.59 - ETA: 45s - loss: 0.9792 - acc: 0.59 - ETA: 45s - loss: 0.9794 - acc: 0.59 - ETA: 45s - loss: 0.9793 - acc: 0.5983"
     ]
    },
    {
     "name": "stdout",
     "output_type": "stream",
     "text": [
      "47040/72508 [==================>...........] - ETA: 45s - loss: 0.9794 - acc: 0.59 - ETA: 44s - loss: 0.9798 - acc: 0.59 - ETA: 44s - loss: 0.9796 - acc: 0.59 - ETA: 44s - loss: 0.9795 - acc: 0.59 - ETA: 44s - loss: 0.9796 - acc: 0.59 - ETA: 44s - loss: 0.9794 - acc: 0.59 - ETA: 44s - loss: 0.9794 - acc: 0.59 - ETA: 44s - loss: 0.9794 - acc: 0.59 - ETA: 44s - loss: 0.9795 - acc: 0.59 - ETA: 44s - loss: 0.9802 - acc: 0.59 - ETA: 44s - loss: 0.9804 - acc: 0.59 - ETA: 44s - loss: 0.9805 - acc: 0.59 - ETA: 44s - loss: 0.9807 - acc: 0.59 - ETA: 44s - loss: 0.9805 - acc: 0.59 - ETA: 44s - loss: 0.9805 - acc: 0.59 - ETA: 44s - loss: 0.9805 - acc: 0.59 - ETA: 44s - loss: 0.9804 - acc: 0.59 - ETA: 44s - loss: 0.9807 - acc: 0.59 - ETA: 43s - loss: 0.9809 - acc: 0.59 - ETA: 43s - loss: 0.9808 - acc: 0.59 - ETA: 43s - loss: 0.9808 - acc: 0.59 - ETA: 43s - loss: 0.9805 - acc: 0.59 - ETA: 43s - loss: 0.9806 - acc: 0.59 - ETA: 43s - loss: 0.9807 - acc: 0.59 - ETA: 43s - loss: 0.9803 - acc: 0.59 - ETA: 43s - loss: 0.9805 - acc: 0.59 - ETA: 43s - loss: 0.9802 - acc: 0.59 - ETA: 43s - loss: 0.9801 - acc: 0.59 - ETA: 43s - loss: 0.9801 - acc: 0.59 - ETA: 43s - loss: 0.9801 - acc: 0.59 - ETA: 43s - loss: 0.9800 - acc: 0.59 - ETA: 43s - loss: 0.9796 - acc: 0.59 - ETA: 43s - loss: 0.9794 - acc: 0.59 - ETA: 43s - loss: 0.9795 - acc: 0.59 - ETA: 43s - loss: 0.9796 - acc: 0.59 - ETA: 42s - loss: 0.9795 - acc: 0.59 - ETA: 42s - loss: 0.9795 - acc: 0.59 - ETA: 42s - loss: 0.9796 - acc: 0.59 - ETA: 42s - loss: 0.9797 - acc: 0.59 - ETA: 42s - loss: 0.9797 - acc: 0.59 - ETA: 42s - loss: 0.9798 - acc: 0.59 - ETA: 42s - loss: 0.9797 - acc: 0.59 - ETA: 42s - loss: 0.9797 - acc: 0.59 - ETA: 42s - loss: 0.9798 - acc: 0.59 - ETA: 42s - loss: 0.9796 - acc: 0.59 - ETA: 42s - loss: 0.9796 - acc: 0.59 - ETA: 42s - loss: 0.9793 - acc: 0.59 - ETA: 42s - loss: 0.9793 - acc: 0.59 - ETA: 42s - loss: 0.9792 - acc: 0.59 - ETA: 41s - loss: 0.9790 - acc: 0.59 - ETA: 41s - loss: 0.9790 - acc: 0.59 - ETA: 41s - loss: 0.9791 - acc: 0.59 - ETA: 41s - loss: 0.9792 - acc: 0.59 - ETA: 41s - loss: 0.9792 - acc: 0.59 - ETA: 41s - loss: 0.9792 - acc: 0.59 - ETA: 41s - loss: 0.9791 - acc: 0.59 - ETA: 41s - loss: 0.9791 - acc: 0.59 - ETA: 41s - loss: 0.9791 - acc: 0.59 - ETA: 41s - loss: 0.9789 - acc: 0.59 - ETA: 41s - loss: 0.9791 - acc: 0.59 - ETA: 41s - loss: 0.9789 - acc: 0.59 - ETA: 41s - loss: 0.9787 - acc: 0.59 - ETA: 41s - loss: 0.9786 - acc: 0.59 - ETA: 41s - loss: 0.9784 - acc: 0.59 - ETA: 41s - loss: 0.9783 - acc: 0.59 - ETA: 41s - loss: 0.9783 - acc: 0.59 - ETA: 41s - loss: 0.9784 - acc: 0.59 - ETA: 41s - loss: 0.9783 - acc: 0.59 - ETA: 41s - loss: 0.9781 - acc: 0.59 - ETA: 40s - loss: 0.9781 - acc: 0.59 - ETA: 40s - loss: 0.9783 - acc: 0.59 - ETA: 40s - loss: 0.9784 - acc: 0.59 - ETA: 40s - loss: 0.9783 - acc: 0.59 - ETA: 40s - loss: 0.9782 - acc: 0.59 - ETA: 40s - loss: 0.9785 - acc: 0.59 - ETA: 40s - loss: 0.9787 - acc: 0.59 - ETA: 40s - loss: 0.9788 - acc: 0.59 - ETA: 40s - loss: 0.9790 - acc: 0.59 - ETA: 40s - loss: 0.9788 - acc: 0.59 - ETA: 40s - loss: 0.9787 - acc: 0.59 - ETA: 40s - loss: 0.9786 - acc: 0.59 - ETA: 40s - loss: 0.9785 - acc: 0.59 - ETA: 40s - loss: 0.9788 - acc: 0.59 - ETA: 40s - loss: 0.9786 - acc: 0.59 - ETA: 40s - loss: 0.9786 - acc: 0.59 - ETA: 40s - loss: 0.9787 - acc: 0.59 - ETA: 40s - loss: 0.9789 - acc: 0.59 - ETA: 40s - loss: 0.9789 - acc: 0.59 - ETA: 40s - loss: 0.9789 - acc: 0.59 - ETA: 40s - loss: 0.9789 - acc: 0.59 - ETA: 40s - loss: 0.9789 - acc: 0.59 - ETA: 40s - loss: 0.9789 - acc: 0.59 - ETA: 39s - loss: 0.9790 - acc: 0.59 - ETA: 39s - loss: 0.9792 - acc: 0.59 - ETA: 39s - loss: 0.9791 - acc: 0.59 - ETA: 39s - loss: 0.9790 - acc: 0.59 - ETA: 39s - loss: 0.9789 - acc: 0.59 - ETA: 39s - loss: 0.9790 - acc: 0.59 - ETA: 39s - loss: 0.9789 - acc: 0.59 - ETA: 39s - loss: 0.9788 - acc: 0.59 - ETA: 39s - loss: 0.9787 - acc: 0.59 - ETA: 39s - loss: 0.9786 - acc: 0.59 - ETA: 39s - loss: 0.9785 - acc: 0.59 - ETA: 39s - loss: 0.9785 - acc: 0.59 - ETA: 39s - loss: 0.9782 - acc: 0.59 - ETA: 39s - loss: 0.9782 - acc: 0.59 - ETA: 39s - loss: 0.9781 - acc: 0.59 - ETA: 39s - loss: 0.9780 - acc: 0.59 - ETA: 39s - loss: 0.9781 - acc: 0.59 - ETA: 39s - loss: 0.9783 - acc: 0.59 - ETA: 39s - loss: 0.9784 - acc: 0.59 - ETA: 39s - loss: 0.9783 - acc: 0.59 - ETA: 39s - loss: 0.9782 - acc: 0.59 - ETA: 39s - loss: 0.9783 - acc: 0.59 - ETA: 39s - loss: 0.9784 - acc: 0.59 - ETA: 39s - loss: 0.9784 - acc: 0.59 - ETA: 39s - loss: 0.9782 - acc: 0.59 - ETA: 39s - loss: 0.9780 - acc: 0.59 - ETA: 39s - loss: 0.9778 - acc: 0.59 - ETA: 39s - loss: 0.9780 - acc: 0.59 - ETA: 39s - loss: 0.9781 - acc: 0.59 - ETA: 38s - loss: 0.9781 - acc: 0.59 - ETA: 38s - loss: 0.9781 - acc: 0.59 - ETA: 38s - loss: 0.9781 - acc: 0.59 - ETA: 38s - loss: 0.9782 - acc: 0.59 - ETA: 38s - loss: 0.9782 - acc: 0.59 - ETA: 38s - loss: 0.9781 - acc: 0.59 - ETA: 38s - loss: 0.9780 - acc: 0.59 - ETA: 38s - loss: 0.9781 - acc: 0.59 - ETA: 38s - loss: 0.9780 - acc: 0.59 - ETA: 38s - loss: 0.9780 - acc: 0.59 - ETA: 38s - loss: 0.9779 - acc: 0.59 - ETA: 38s - loss: 0.9778 - acc: 0.59 - ETA: 38s - loss: 0.9780 - acc: 0.59 - ETA: 38s - loss: 0.9780 - acc: 0.59 - ETA: 38s - loss: 0.9778 - acc: 0.59 - ETA: 37s - loss: 0.9776 - acc: 0.59 - ETA: 37s - loss: 0.9775 - acc: 0.59 - ETA: 37s - loss: 0.9777 - acc: 0.59 - ETA: 37s - loss: 0.9778 - acc: 0.59 - ETA: 37s - loss: 0.9775 - acc: 0.59 - ETA: 37s - loss: 0.9777 - acc: 0.59 - ETA: 37s - loss: 0.9781 - acc: 0.59 - ETA: 37s - loss: 0.9781 - acc: 0.59 - ETA: 37s - loss: 0.9786 - acc: 0.59 - ETA: 37s - loss: 0.9785 - acc: 0.59 - ETA: 37s - loss: 0.9785 - acc: 0.59 - ETA: 37s - loss: 0.9786 - acc: 0.59 - ETA: 37s - loss: 0.9788 - acc: 0.59 - ETA: 36s - loss: 0.9791 - acc: 0.59 - ETA: 36s - loss: 0.9790 - acc: 0.59 - ETA: 36s - loss: 0.9790 - acc: 0.59 - ETA: 36s - loss: 0.9790 - acc: 0.59 - ETA: 36s - loss: 0.9791 - acc: 0.59 - ETA: 36s - loss: 0.9791 - acc: 0.59 - ETA: 36s - loss: 0.9789 - acc: 0.59 - ETA: 36s - loss: 0.9787 - acc: 0.59 - ETA: 36s - loss: 0.9786 - acc: 0.59 - ETA: 36s - loss: 0.9784 - acc: 0.59 - ETA: 36s - loss: 0.9784 - acc: 0.59 - ETA: 36s - loss: 0.9781 - acc: 0.59 - ETA: 35s - loss: 0.9783 - acc: 0.59 - ETA: 35s - loss: 0.9783 - acc: 0.59 - ETA: 35s - loss: 0.9781 - acc: 0.59 - ETA: 35s - loss: 0.9783 - acc: 0.59 - ETA: 35s - loss: 0.9783 - acc: 0.59 - ETA: 35s - loss: 0.9784 - acc: 0.59 - ETA: 35s - loss: 0.9783 - acc: 0.59 - ETA: 35s - loss: 0.9784 - acc: 0.59 - ETA: 35s - loss: 0.9786 - acc: 0.59 - ETA: 35s - loss: 0.9785 - acc: 0.59 - ETA: 35s - loss: 0.9787 - acc: 0.59 - ETA: 35s - loss: 0.9786 - acc: 0.59 - ETA: 35s - loss: 0.9787 - acc: 0.59 - ETA: 34s - loss: 0.9788 - acc: 0.59 - ETA: 34s - loss: 0.9784 - acc: 0.59 - ETA: 34s - loss: 0.9791 - acc: 0.59 - ETA: 34s - loss: 0.9790 - acc: 0.59 - ETA: 34s - loss: 0.9790 - acc: 0.59 - ETA: 34s - loss: 0.9790 - acc: 0.59 - ETA: 34s - loss: 0.9789 - acc: 0.59 - ETA: 34s - loss: 0.9788 - acc: 0.59 - ETA: 34s - loss: 0.9786 - acc: 0.59 - ETA: 34s - loss: 0.9786 - acc: 0.59 - ETA: 34s - loss: 0.9789 - acc: 0.59 - ETA: 34s - loss: 0.9790 - acc: 0.59 - ETA: 33s - loss: 0.9790 - acc: 0.59 - ETA: 33s - loss: 0.9792 - acc: 0.59 - ETA: 33s - loss: 0.9792 - acc: 0.59 - ETA: 33s - loss: 0.9792 - acc: 0.59 - ETA: 33s - loss: 0.9793 - acc: 0.59 - ETA: 33s - loss: 0.9792 - acc: 0.59 - ETA: 33s - loss: 0.9793 - acc: 0.59 - ETA: 33s - loss: 0.9791 - acc: 0.59 - ETA: 33s - loss: 0.9790 - acc: 0.59 - ETA: 33s - loss: 0.9789 - acc: 0.59 - ETA: 33s - loss: 0.9791 - acc: 0.59 - ETA: 33s - loss: 0.9788 - acc: 0.59 - ETA: 32s - loss: 0.9789 - acc: 0.59 - ETA: 32s - loss: 0.9788 - acc: 0.59 - ETA: 32s - loss: 0.9791 - acc: 0.59 - ETA: 32s - loss: 0.9792 - acc: 0.59 - ETA: 32s - loss: 0.9791 - acc: 0.59 - ETA: 32s - loss: 0.9792 - acc: 0.59 - ETA: 32s - loss: 0.9790 - acc: 0.59 - ETA: 32s - loss: 0.9791 - acc: 0.59 - ETA: 32s - loss: 0.9790 - acc: 0.59 - ETA: 32s - loss: 0.9787 - acc: 0.59 - ETA: 32s - loss: 0.9786 - acc: 0.59 - ETA: 32s - loss: 0.9784 - acc: 0.59 - ETA: 31s - loss: 0.9783 - acc: 0.59 - ETA: 31s - loss: 0.9780 - acc: 0.59 - ETA: 31s - loss: 0.9779 - acc: 0.59 - ETA: 31s - loss: 0.9777 - acc: 0.59 - ETA: 31s - loss: 0.9778 - acc: 0.5979"
     ]
    },
    {
     "name": "stdout",
     "output_type": "stream",
     "text": [
      "61760/72508 [========================>.....] - ETA: 31s - loss: 0.9779 - acc: 0.59 - ETA: 31s - loss: 0.9778 - acc: 0.59 - ETA: 31s - loss: 0.9779 - acc: 0.59 - ETA: 31s - loss: 0.9778 - acc: 0.59 - ETA: 31s - loss: 0.9779 - acc: 0.59 - ETA: 31s - loss: 0.9778 - acc: 0.59 - ETA: 31s - loss: 0.9778 - acc: 0.59 - ETA: 30s - loss: 0.9778 - acc: 0.59 - ETA: 30s - loss: 0.9780 - acc: 0.59 - ETA: 30s - loss: 0.9780 - acc: 0.59 - ETA: 30s - loss: 0.9781 - acc: 0.59 - ETA: 30s - loss: 0.9782 - acc: 0.59 - ETA: 30s - loss: 0.9782 - acc: 0.59 - ETA: 30s - loss: 0.9784 - acc: 0.59 - ETA: 30s - loss: 0.9783 - acc: 0.59 - ETA: 30s - loss: 0.9784 - acc: 0.59 - ETA: 30s - loss: 0.9785 - acc: 0.59 - ETA: 30s - loss: 0.9786 - acc: 0.59 - ETA: 30s - loss: 0.9785 - acc: 0.59 - ETA: 29s - loss: 0.9787 - acc: 0.59 - ETA: 29s - loss: 0.9786 - acc: 0.59 - ETA: 29s - loss: 0.9784 - acc: 0.59 - ETA: 29s - loss: 0.9784 - acc: 0.59 - ETA: 29s - loss: 0.9785 - acc: 0.59 - ETA: 29s - loss: 0.9784 - acc: 0.59 - ETA: 29s - loss: 0.9783 - acc: 0.59 - ETA: 29s - loss: 0.9786 - acc: 0.59 - ETA: 29s - loss: 0.9786 - acc: 0.59 - ETA: 29s - loss: 0.9788 - acc: 0.59 - ETA: 29s - loss: 0.9790 - acc: 0.59 - ETA: 29s - loss: 0.9789 - acc: 0.59 - ETA: 28s - loss: 0.9788 - acc: 0.59 - ETA: 28s - loss: 0.9788 - acc: 0.59 - ETA: 28s - loss: 0.9788 - acc: 0.59 - ETA: 28s - loss: 0.9790 - acc: 0.59 - ETA: 28s - loss: 0.9790 - acc: 0.59 - ETA: 28s - loss: 0.9788 - acc: 0.59 - ETA: 28s - loss: 0.9788 - acc: 0.59 - ETA: 28s - loss: 0.9786 - acc: 0.59 - ETA: 28s - loss: 0.9786 - acc: 0.59 - ETA: 28s - loss: 0.9786 - acc: 0.59 - ETA: 28s - loss: 0.9785 - acc: 0.59 - ETA: 28s - loss: 0.9786 - acc: 0.59 - ETA: 27s - loss: 0.9789 - acc: 0.59 - ETA: 27s - loss: 0.9789 - acc: 0.59 - ETA: 27s - loss: 0.9791 - acc: 0.59 - ETA: 27s - loss: 0.9791 - acc: 0.59 - ETA: 27s - loss: 0.9790 - acc: 0.59 - ETA: 27s - loss: 0.9790 - acc: 0.59 - ETA: 27s - loss: 0.9790 - acc: 0.59 - ETA: 27s - loss: 0.9791 - acc: 0.59 - ETA: 27s - loss: 0.9791 - acc: 0.59 - ETA: 27s - loss: 0.9791 - acc: 0.59 - ETA: 27s - loss: 0.9791 - acc: 0.59 - ETA: 27s - loss: 0.9790 - acc: 0.59 - ETA: 27s - loss: 0.9790 - acc: 0.59 - ETA: 26s - loss: 0.9788 - acc: 0.59 - ETA: 26s - loss: 0.9787 - acc: 0.59 - ETA: 26s - loss: 0.9790 - acc: 0.59 - ETA: 26s - loss: 0.9789 - acc: 0.59 - ETA: 26s - loss: 0.9789 - acc: 0.59 - ETA: 26s - loss: 0.9789 - acc: 0.59 - ETA: 26s - loss: 0.9790 - acc: 0.59 - ETA: 26s - loss: 0.9789 - acc: 0.59 - ETA: 26s - loss: 0.9790 - acc: 0.59 - ETA: 26s - loss: 0.9791 - acc: 0.59 - ETA: 26s - loss: 0.9788 - acc: 0.59 - ETA: 26s - loss: 0.9788 - acc: 0.59 - ETA: 26s - loss: 0.9787 - acc: 0.59 - ETA: 25s - loss: 0.9786 - acc: 0.59 - ETA: 25s - loss: 0.9786 - acc: 0.59 - ETA: 25s - loss: 0.9786 - acc: 0.59 - ETA: 25s - loss: 0.9786 - acc: 0.59 - ETA: 25s - loss: 0.9787 - acc: 0.59 - ETA: 25s - loss: 0.9787 - acc: 0.59 - ETA: 25s - loss: 0.9787 - acc: 0.59 - ETA: 25s - loss: 0.9789 - acc: 0.59 - ETA: 25s - loss: 0.9788 - acc: 0.59 - ETA: 25s - loss: 0.9786 - acc: 0.59 - ETA: 25s - loss: 0.9787 - acc: 0.59 - ETA: 25s - loss: 0.9788 - acc: 0.59 - ETA: 25s - loss: 0.9789 - acc: 0.59 - ETA: 25s - loss: 0.9788 - acc: 0.59 - ETA: 25s - loss: 0.9788 - acc: 0.59 - ETA: 24s - loss: 0.9788 - acc: 0.59 - ETA: 24s - loss: 0.9787 - acc: 0.59 - ETA: 24s - loss: 0.9787 - acc: 0.59 - ETA: 24s - loss: 0.9785 - acc: 0.59 - ETA: 24s - loss: 0.9789 - acc: 0.59 - ETA: 24s - loss: 0.9790 - acc: 0.59 - ETA: 24s - loss: 0.9789 - acc: 0.59 - ETA: 24s - loss: 0.9791 - acc: 0.59 - ETA: 24s - loss: 0.9788 - acc: 0.59 - ETA: 24s - loss: 0.9789 - acc: 0.59 - ETA: 24s - loss: 0.9792 - acc: 0.59 - ETA: 24s - loss: 0.9791 - acc: 0.59 - ETA: 24s - loss: 0.9791 - acc: 0.59 - ETA: 24s - loss: 0.9791 - acc: 0.59 - ETA: 24s - loss: 0.9792 - acc: 0.59 - ETA: 24s - loss: 0.9793 - acc: 0.59 - ETA: 23s - loss: 0.9793 - acc: 0.59 - ETA: 23s - loss: 0.9793 - acc: 0.59 - ETA: 23s - loss: 0.9792 - acc: 0.59 - ETA: 23s - loss: 0.9792 - acc: 0.59 - ETA: 23s - loss: 0.9791 - acc: 0.59 - ETA: 23s - loss: 0.9791 - acc: 0.59 - ETA: 23s - loss: 0.9790 - acc: 0.59 - ETA: 23s - loss: 0.9788 - acc: 0.59 - ETA: 23s - loss: 0.9788 - acc: 0.59 - ETA: 23s - loss: 0.9788 - acc: 0.59 - ETA: 23s - loss: 0.9788 - acc: 0.59 - ETA: 23s - loss: 0.9788 - acc: 0.59 - ETA: 23s - loss: 0.9788 - acc: 0.59 - ETA: 23s - loss: 0.9788 - acc: 0.59 - ETA: 23s - loss: 0.9787 - acc: 0.59 - ETA: 23s - loss: 0.9787 - acc: 0.59 - ETA: 23s - loss: 0.9787 - acc: 0.59 - ETA: 23s - loss: 0.9787 - acc: 0.59 - ETA: 23s - loss: 0.9785 - acc: 0.59 - ETA: 23s - loss: 0.9785 - acc: 0.59 - ETA: 23s - loss: 0.9785 - acc: 0.59 - ETA: 23s - loss: 0.9784 - acc: 0.59 - ETA: 23s - loss: 0.9783 - acc: 0.59 - ETA: 22s - loss: 0.9784 - acc: 0.59 - ETA: 22s - loss: 0.9785 - acc: 0.59 - ETA: 22s - loss: 0.9786 - acc: 0.59 - ETA: 22s - loss: 0.9786 - acc: 0.59 - ETA: 22s - loss: 0.9787 - acc: 0.59 - ETA: 22s - loss: 0.9787 - acc: 0.59 - ETA: 22s - loss: 0.9787 - acc: 0.59 - ETA: 22s - loss: 0.9787 - acc: 0.59 - ETA: 22s - loss: 0.9788 - acc: 0.59 - ETA: 22s - loss: 0.9788 - acc: 0.59 - ETA: 22s - loss: 0.9789 - acc: 0.59 - ETA: 22s - loss: 0.9789 - acc: 0.59 - ETA: 22s - loss: 0.9792 - acc: 0.59 - ETA: 22s - loss: 0.9793 - acc: 0.59 - ETA: 22s - loss: 0.9794 - acc: 0.59 - ETA: 22s - loss: 0.9796 - acc: 0.59 - ETA: 22s - loss: 0.9798 - acc: 0.59 - ETA: 22s - loss: 0.9800 - acc: 0.59 - ETA: 22s - loss: 0.9802 - acc: 0.59 - ETA: 22s - loss: 0.9801 - acc: 0.59 - ETA: 22s - loss: 0.9800 - acc: 0.59 - ETA: 22s - loss: 0.9800 - acc: 0.59 - ETA: 22s - loss: 0.9801 - acc: 0.59 - ETA: 22s - loss: 0.9802 - acc: 0.59 - ETA: 22s - loss: 0.9802 - acc: 0.59 - ETA: 22s - loss: 0.9802 - acc: 0.59 - ETA: 22s - loss: 0.9803 - acc: 0.59 - ETA: 22s - loss: 0.9805 - acc: 0.59 - ETA: 21s - loss: 0.9804 - acc: 0.59 - ETA: 21s - loss: 0.9803 - acc: 0.59 - ETA: 21s - loss: 0.9803 - acc: 0.59 - ETA: 21s - loss: 0.9802 - acc: 0.59 - ETA: 21s - loss: 0.9802 - acc: 0.59 - ETA: 21s - loss: 0.9805 - acc: 0.59 - ETA: 21s - loss: 0.9807 - acc: 0.59 - ETA: 21s - loss: 0.9809 - acc: 0.59 - ETA: 21s - loss: 0.9809 - acc: 0.59 - ETA: 21s - loss: 0.9807 - acc: 0.59 - ETA: 21s - loss: 0.9806 - acc: 0.59 - ETA: 21s - loss: 0.9807 - acc: 0.59 - ETA: 21s - loss: 0.9808 - acc: 0.59 - ETA: 21s - loss: 0.9808 - acc: 0.59 - ETA: 21s - loss: 0.9809 - acc: 0.59 - ETA: 21s - loss: 0.9807 - acc: 0.59 - ETA: 20s - loss: 0.9809 - acc: 0.59 - ETA: 20s - loss: 0.9810 - acc: 0.59 - ETA: 20s - loss: 0.9809 - acc: 0.59 - ETA: 20s - loss: 0.9811 - acc: 0.59 - ETA: 20s - loss: 0.9810 - acc: 0.59 - ETA: 20s - loss: 0.9808 - acc: 0.59 - ETA: 19s - loss: 0.9806 - acc: 0.59 - ETA: 19s - loss: 0.9808 - acc: 0.59 - ETA: 19s - loss: 0.9807 - acc: 0.59 - ETA: 19s - loss: 0.9811 - acc: 0.59 - ETA: 19s - loss: 0.9811 - acc: 0.59 - ETA: 18s - loss: 0.9811 - acc: 0.59 - ETA: 18s - loss: 0.9813 - acc: 0.59 - ETA: 18s - loss: 0.9816 - acc: 0.59 - ETA: 18s - loss: 0.9819 - acc: 0.59 - ETA: 18s - loss: 0.9819 - acc: 0.59 - ETA: 18s - loss: 0.9823 - acc: 0.59 - ETA: 17s - loss: 0.9826 - acc: 0.59 - ETA: 17s - loss: 0.9827 - acc: 0.59 - ETA: 17s - loss: 0.9827 - acc: 0.59 - ETA: 17s - loss: 0.9828 - acc: 0.59 - ETA: 17s - loss: 0.9828 - acc: 0.59 - ETA: 16s - loss: 0.9828 - acc: 0.59 - ETA: 16s - loss: 0.9829 - acc: 0.59 - ETA: 16s - loss: 0.9829 - acc: 0.59 - ETA: 16s - loss: 0.9830 - acc: 0.59 - ETA: 16s - loss: 0.9828 - acc: 0.59 - ETA: 16s - loss: 0.9828 - acc: 0.59 - ETA: 15s - loss: 0.9827 - acc: 0.59 - ETA: 15s - loss: 0.9827 - acc: 0.59 - ETA: 15s - loss: 0.9824 - acc: 0.59 - ETA: 15s - loss: 0.9823 - acc: 0.59 - ETA: 15s - loss: 0.9823 - acc: 0.59 - ETA: 14s - loss: 0.9823 - acc: 0.59 - ETA: 14s - loss: 0.9820 - acc: 0.59 - ETA: 14s - loss: 0.9820 - acc: 0.59 - ETA: 14s - loss: 0.9823 - acc: 0.59 - ETA: 14s - loss: 0.9821 - acc: 0.59 - ETA: 14s - loss: 0.9819 - acc: 0.59 - ETA: 13s - loss: 0.9820 - acc: 0.59 - ETA: 13s - loss: 0.9818 - acc: 0.59 - ETA: 13s - loss: 0.9817 - acc: 0.59 - ETA: 13s - loss: 0.9819 - acc: 0.59 - ETA: 13s - loss: 0.9820 - acc: 0.59 - ETA: 13s - loss: 0.9821 - acc: 0.59 - ETA: 12s - loss: 0.9821 - acc: 0.59 - ETA: 12s - loss: 0.9819 - acc: 0.59 - ETA: 12s - loss: 0.9820 - acc: 0.5960"
     ]
    },
    {
     "name": "stdout",
     "output_type": "stream",
     "text": [
      "72508/72508 [==============================] - ETA: 12s - loss: 0.9823 - acc: 0.59 - ETA: 12s - loss: 0.9821 - acc: 0.59 - ETA: 12s - loss: 0.9822 - acc: 0.59 - ETA: 11s - loss: 0.9825 - acc: 0.59 - ETA: 11s - loss: 0.9827 - acc: 0.59 - ETA: 11s - loss: 0.9826 - acc: 0.59 - ETA: 11s - loss: 0.9826 - acc: 0.59 - ETA: 11s - loss: 0.9826 - acc: 0.59 - ETA: 11s - loss: 0.9826 - acc: 0.59 - ETA: 11s - loss: 0.9826 - acc: 0.59 - ETA: 11s - loss: 0.9826 - acc: 0.59 - ETA: 11s - loss: 0.9827 - acc: 0.59 - ETA: 11s - loss: 0.9825 - acc: 0.59 - ETA: 11s - loss: 0.9825 - acc: 0.59 - ETA: 11s - loss: 0.9824 - acc: 0.59 - ETA: 11s - loss: 0.9825 - acc: 0.59 - ETA: 10s - loss: 0.9825 - acc: 0.59 - ETA: 10s - loss: 0.9824 - acc: 0.59 - ETA: 10s - loss: 0.9824 - acc: 0.59 - ETA: 10s - loss: 0.9826 - acc: 0.59 - ETA: 10s - loss: 0.9827 - acc: 0.59 - ETA: 10s - loss: 0.9828 - acc: 0.59 - ETA: 10s - loss: 0.9826 - acc: 0.59 - ETA: 10s - loss: 0.9826 - acc: 0.59 - ETA: 10s - loss: 0.9825 - acc: 0.59 - ETA: 10s - loss: 0.9825 - acc: 0.59 - ETA: 10s - loss: 0.9825 - acc: 0.59 - ETA: 10s - loss: 0.9825 - acc: 0.59 - ETA: 10s - loss: 0.9826 - acc: 0.59 - ETA: 10s - loss: 0.9825 - acc: 0.59 - ETA: 10s - loss: 0.9827 - acc: 0.59 - ETA: 9s - loss: 0.9826 - acc: 0.5958 - ETA: 9s - loss: 0.9827 - acc: 0.595 - ETA: 9s - loss: 0.9828 - acc: 0.595 - ETA: 9s - loss: 0.9828 - acc: 0.595 - ETA: 9s - loss: 0.9827 - acc: 0.595 - ETA: 9s - loss: 0.9829 - acc: 0.595 - ETA: 9s - loss: 0.9830 - acc: 0.595 - ETA: 9s - loss: 0.9830 - acc: 0.595 - ETA: 9s - loss: 0.9832 - acc: 0.595 - ETA: 9s - loss: 0.9833 - acc: 0.595 - ETA: 9s - loss: 0.9833 - acc: 0.595 - ETA: 9s - loss: 0.9831 - acc: 0.595 - ETA: 9s - loss: 0.9832 - acc: 0.595 - ETA: 9s - loss: 0.9833 - acc: 0.595 - ETA: 9s - loss: 0.9833 - acc: 0.595 - ETA: 9s - loss: 0.9833 - acc: 0.595 - ETA: 8s - loss: 0.9834 - acc: 0.595 - ETA: 8s - loss: 0.9834 - acc: 0.595 - ETA: 8s - loss: 0.9833 - acc: 0.595 - ETA: 8s - loss: 0.9831 - acc: 0.595 - ETA: 8s - loss: 0.9831 - acc: 0.595 - ETA: 8s - loss: 0.9831 - acc: 0.595 - ETA: 8s - loss: 0.9831 - acc: 0.595 - ETA: 8s - loss: 0.9829 - acc: 0.596 - ETA: 8s - loss: 0.9830 - acc: 0.595 - ETA: 8s - loss: 0.9831 - acc: 0.595 - ETA: 8s - loss: 0.9833 - acc: 0.595 - ETA: 8s - loss: 0.9831 - acc: 0.595 - ETA: 8s - loss: 0.9831 - acc: 0.595 - ETA: 8s - loss: 0.9832 - acc: 0.595 - ETA: 7s - loss: 0.9831 - acc: 0.595 - ETA: 7s - loss: 0.9831 - acc: 0.595 - ETA: 7s - loss: 0.9829 - acc: 0.595 - ETA: 7s - loss: 0.9829 - acc: 0.595 - ETA: 7s - loss: 0.9831 - acc: 0.595 - ETA: 7s - loss: 0.9833 - acc: 0.595 - ETA: 7s - loss: 0.9832 - acc: 0.595 - ETA: 7s - loss: 0.9832 - acc: 0.595 - ETA: 7s - loss: 0.9832 - acc: 0.595 - ETA: 7s - loss: 0.9832 - acc: 0.595 - ETA: 7s - loss: 0.9832 - acc: 0.595 - ETA: 7s - loss: 0.9831 - acc: 0.595 - ETA: 7s - loss: 0.9830 - acc: 0.595 - ETA: 6s - loss: 0.9829 - acc: 0.595 - ETA: 6s - loss: 0.9828 - acc: 0.595 - ETA: 6s - loss: 0.9829 - acc: 0.595 - ETA: 6s - loss: 0.9828 - acc: 0.596 - ETA: 6s - loss: 0.9830 - acc: 0.596 - ETA: 6s - loss: 0.9831 - acc: 0.595 - ETA: 6s - loss: 0.9835 - acc: 0.595 - ETA: 6s - loss: 0.9834 - acc: 0.595 - ETA: 6s - loss: 0.9834 - acc: 0.595 - ETA: 6s - loss: 0.9832 - acc: 0.595 - ETA: 6s - loss: 0.9834 - acc: 0.595 - ETA: 6s - loss: 0.9836 - acc: 0.595 - ETA: 6s - loss: 0.9836 - acc: 0.595 - ETA: 6s - loss: 0.9836 - acc: 0.595 - ETA: 6s - loss: 0.9835 - acc: 0.595 - ETA: 5s - loss: 0.9834 - acc: 0.595 - ETA: 5s - loss: 0.9834 - acc: 0.595 - ETA: 5s - loss: 0.9834 - acc: 0.595 - ETA: 5s - loss: 0.9834 - acc: 0.595 - ETA: 5s - loss: 0.9834 - acc: 0.595 - ETA: 5s - loss: 0.9833 - acc: 0.595 - ETA: 5s - loss: 0.9834 - acc: 0.595 - ETA: 5s - loss: 0.9835 - acc: 0.595 - ETA: 5s - loss: 0.9835 - acc: 0.595 - ETA: 5s - loss: 0.9836 - acc: 0.595 - ETA: 5s - loss: 0.9838 - acc: 0.595 - ETA: 5s - loss: 0.9837 - acc: 0.595 - ETA: 5s - loss: 0.9836 - acc: 0.595 - ETA: 4s - loss: 0.9836 - acc: 0.595 - ETA: 4s - loss: 0.9836 - acc: 0.595 - ETA: 4s - loss: 0.9836 - acc: 0.595 - ETA: 4s - loss: 0.9836 - acc: 0.595 - ETA: 4s - loss: 0.9836 - acc: 0.595 - ETA: 4s - loss: 0.9835 - acc: 0.595 - ETA: 4s - loss: 0.9836 - acc: 0.595 - ETA: 4s - loss: 0.9837 - acc: 0.595 - ETA: 4s - loss: 0.9839 - acc: 0.595 - ETA: 4s - loss: 0.9841 - acc: 0.595 - ETA: 4s - loss: 0.9841 - acc: 0.595 - ETA: 4s - loss: 0.9842 - acc: 0.595 - ETA: 4s - loss: 0.9841 - acc: 0.595 - ETA: 3s - loss: 0.9842 - acc: 0.595 - ETA: 3s - loss: 0.9841 - acc: 0.595 - ETA: 3s - loss: 0.9841 - acc: 0.595 - ETA: 3s - loss: 0.9840 - acc: 0.595 - ETA: 3s - loss: 0.9842 - acc: 0.595 - ETA: 3s - loss: 0.9842 - acc: 0.595 - ETA: 3s - loss: 0.9843 - acc: 0.595 - ETA: 3s - loss: 0.9845 - acc: 0.595 - ETA: 3s - loss: 0.9844 - acc: 0.595 - ETA: 3s - loss: 0.9843 - acc: 0.595 - ETA: 3s - loss: 0.9844 - acc: 0.595 - ETA: 3s - loss: 0.9843 - acc: 0.595 - ETA: 3s - loss: 0.9843 - acc: 0.595 - ETA: 3s - loss: 0.9843 - acc: 0.595 - ETA: 2s - loss: 0.9842 - acc: 0.595 - ETA: 2s - loss: 0.9843 - acc: 0.595 - ETA: 2s - loss: 0.9842 - acc: 0.595 - ETA: 2s - loss: 0.9842 - acc: 0.595 - ETA: 2s - loss: 0.9841 - acc: 0.595 - ETA: 2s - loss: 0.9843 - acc: 0.595 - ETA: 2s - loss: 0.9841 - acc: 0.595 - ETA: 2s - loss: 0.9839 - acc: 0.595 - ETA: 2s - loss: 0.9840 - acc: 0.595 - ETA: 2s - loss: 0.9841 - acc: 0.595 - ETA: 2s - loss: 0.9843 - acc: 0.595 - ETA: 2s - loss: 0.9843 - acc: 0.595 - ETA: 2s - loss: 0.9842 - acc: 0.595 - ETA: 1s - loss: 0.9842 - acc: 0.595 - ETA: 1s - loss: 0.9841 - acc: 0.595 - ETA: 1s - loss: 0.9839 - acc: 0.595 - ETA: 1s - loss: 0.9839 - acc: 0.595 - ETA: 1s - loss: 0.9839 - acc: 0.595 - ETA: 1s - loss: 0.9840 - acc: 0.595 - ETA: 1s - loss: 0.9839 - acc: 0.595 - ETA: 1s - loss: 0.9838 - acc: 0.595 - ETA: 1s - loss: 0.9839 - acc: 0.595 - ETA: 1s - loss: 0.9840 - acc: 0.595 - ETA: 1s - loss: 0.9840 - acc: 0.595 - ETA: 1s - loss: 0.9840 - acc: 0.595 - ETA: 1s - loss: 0.9839 - acc: 0.595 - ETA: 1s - loss: 0.9839 - acc: 0.595 - ETA: 0s - loss: 0.9841 - acc: 0.595 - ETA: 0s - loss: 0.9841 - acc: 0.595 - ETA: 0s - loss: 0.9840 - acc: 0.595 - ETA: 0s - loss: 0.9840 - acc: 0.595 - ETA: 0s - loss: 0.9841 - acc: 0.595 - ETA: 0s - loss: 0.9841 - acc: 0.595 - ETA: 0s - loss: 0.9840 - acc: 0.595 - ETA: 0s - loss: 0.9840 - acc: 0.595 - ETA: 0s - loss: 0.9840 - acc: 0.595 - ETA: 0s - loss: 0.9840 - acc: 0.595 - ETA: 0s - loss: 0.9841 - acc: 0.595 - ETA: 0s - loss: 0.9841 - acc: 0.595 - ETA: 0s - loss: 0.9840 - acc: 0.595 - 85s 1ms/step - loss: 0.9840 - acc: 0.5951 - val_loss: 6.6592 - val_acc: 0.0693\n"
     ]
    }
   ],
   "source": [
    "batch_size = 32\n",
    "epochs = 2\n",
    "\n",
    "# Build the model\n",
    "model = Sequential()\n",
    "model.add(Dense(512, input_shape=(max_words,)))\n",
    "model.add(Activation('relu'))\n",
    "model.add(Dropout(0.5))\n",
    "model.add(Dense(num_classes))\n",
    "model.add(Activation('softmax'))\n",
    "\n",
    "model.compile(loss='categorical_crossentropy',\n",
    "              optimizer='adam',\n",
    "              metrics=['accuracy'])\n",
    "\n",
    "history = model.fit(x_train, y_train,\n",
    "                    batch_size=batch_size,\n",
    "                    epochs=epochs,\n",
    "                    verbose=1,\n",
    "                    validation_split=0.1)"
   ]
  },
  {
   "cell_type": "code",
   "execution_count": 52,
   "metadata": {},
   "outputs": [
    {
     "name": "stdout",
     "output_type": "stream",
     "text": [
      "34529/34529 [==============================] - ETA:  - ETA:  - ETA:  - ETA:  - ETA:  - ETA:  - ETA:  - ETA:  - ETA:  - ETA:  - ETA:  - ETA:  - ETA:  - ETA:  - ETA:  - ETA:  - ETA:  - ETA:  - ETA:  - ETA:  - ETA:  - ETA:  - ETA:  - ETA:  - ETA:  - ETA:  - ETA:  - ETA:  - ETA:  - ETA:  - ETA:  - ETA:  - ETA:  - ETA:  - ETA:  - ETA:  - ETA:  - ETA:  - ETA:  - ETA:  - ETA:  - ETA:  - ETA:  - ETA:  - ETA:  - ETA:  - ETA:  - ETA:  - ETA:  - ETA:  - ETA:  - ETA:  - ETA:  - ETA:  - ETA:  - ETA:  - ETA:  - ETA:  - ETA:  - ETA:  - ETA:  - ETA:  - ETA:  - ETA:  - ETA:  - ETA:  - ETA:  - ETA:  - ETA:  - ETA:  - ETA:  - ETA:  - ETA:  - ETA:  - ETA:  - ETA:  - ETA:  - ETA:  - ETA:  - ETA:  - ETA:  - ETA:  - ETA:  - ETA:  - ETA:  - ETA:  - ETA:  - ETA:  - ETA:  - ETA:  - ETA:  - ETA:  - ETA:  - ETA:  - ETA:  - ETA:  - ETA:  - ETA:  - ETA:  - ETA:  - ETA:  - ETA:  - ETA:  - ETA:  - ETA:  - ETA:  - ETA:  - ETA:  - ETA:  - ETA:  - ETA:  - ETA:  - ETA:  - ETA:  - ETA:  - ETA:  - ETA:  - ETA:  - ETA:  - ETA:  - ETA:  - ETA:  - ETA:  - ETA:  - ETA:  - ETA:  - ETA:  - ETA:  - ETA:  - ETA:  - ETA:  - ETA:  - ETA:  - ETA:  - ETA:  - ETA:  - ETA:  - ETA:  - ETA:  - ETA:  - ETA:  - ETA:  - ETA:  - ETA:  - ETA:  - ETA:  - ETA:  - ETA:  - ETA:  - ETA:  - ETA:  - ETA:  - ETA:  - ETA:  - ETA:  - ETA:  - ETA:  - ETA:  - ETA:  - ETA:  - 9s 249us/step\n"
     ]
    }
   ],
   "source": [
    "score = model.evaluate(x_test, y_test,batch_size=batch_size, verbose=1)"
   ]
  },
  {
   "cell_type": "code",
   "execution_count": 53,
   "metadata": {},
   "outputs": [
    {
     "name": "stdout",
     "output_type": "stream",
     "text": [
      "Test accuracy: 0.1525384459439891\n"
     ]
    }
   ],
   "source": [
    "print('Test accuracy:', score[1])"
   ]
  },
  {
   "cell_type": "code",
   "execution_count": null,
   "metadata": {
    "collapsed": true
   },
   "outputs": [],
   "source": []
  },
  {
   "cell_type": "code",
   "execution_count": null,
   "metadata": {
    "collapsed": true
   },
   "outputs": [],
   "source": []
  },
  {
   "cell_type": "code",
   "execution_count": null,
   "metadata": {
    "collapsed": true
   },
   "outputs": [],
   "source": []
  },
  {
   "cell_type": "code",
   "execution_count": null,
   "metadata": {
    "collapsed": true
   },
   "outputs": [],
   "source": []
  },
  {
   "cell_type": "code",
   "execution_count": null,
   "metadata": {
    "collapsed": true
   },
   "outputs": [],
   "source": []
  },
  {
   "cell_type": "code",
   "execution_count": null,
   "metadata": {
    "collapsed": true
   },
   "outputs": [],
   "source": []
  },
  {
   "cell_type": "code",
   "execution_count": 16,
   "metadata": {},
   "outputs": [
    {
     "data": {
      "text/plain": [
       "'tunisien'"
      ]
     },
     "execution_count": 16,
     "metadata": {},
     "output_type": "execute_result"
    }
   ],
   "source": [
    "with open('pipelineNB1.pickle', 'rb') as handle:\n",
    "    NB = pickle.load(handle)\n",
    "NB.predict([\"شكون حالك\"])[0]"
   ]
  },
  {
   "cell_type": "code",
   "execution_count": 17,
   "metadata": {},
   "outputs": [
    {
     "data": {
      "text/plain": [
       "'egyptian'"
      ]
     },
     "execution_count": 17,
     "metadata": {},
     "output_type": "execute_result"
    }
   ],
   "source": [
    "NB.predict([\"هوا في ايه\"])[0]\n"
   ]
  },
  {
   "cell_type": "code",
   "execution_count": 18,
   "metadata": {},
   "outputs": [
    {
     "data": {
      "text/plain": [
       "'egyptian'"
      ]
     },
     "execution_count": 18,
     "metadata": {},
     "output_type": "execute_result"
    }
   ],
   "source": [
    "NB.predict([\"انا عاوز أوجه تحيه للدوله العميقه اللى كل يوم بتثبت ان البلد دى فيها رجاله عارفه بتعمل ايه فعلا و امتى و ازاى ، فى اسبوعي…\"])[0]"
   ]
  },
  {
   "cell_type": "code",
   "execution_count": 19,
   "metadata": {},
   "outputs": [
    {
     "data": {
      "text/plain": [
       "'gulf'"
      ]
     },
     "execution_count": 19,
     "metadata": {},
     "output_type": "execute_result"
    }
   ],
   "source": [
    "NB.predict([\"انا خوش مشتاقلك\"])[0]"
   ]
  },
  {
   "cell_type": "code",
   "execution_count": 20,
   "metadata": {},
   "outputs": [
    {
     "data": {
      "text/plain": [
       "'maghrebi'"
      ]
     },
     "execution_count": 20,
     "metadata": {},
     "output_type": "execute_result"
    }
   ],
   "source": [
    "NB.predict([\"إلا لا و على دارهم و شنوة تقصد بيها الكلمة باش تقراو \"])[0]"
   ]
  },
  {
   "cell_type": "code",
   "execution_count": 21,
   "metadata": {},
   "outputs": [
    {
     "data": {
      "text/plain": [
       "'gulf'"
      ]
     },
     "execution_count": 21,
     "metadata": {},
     "output_type": "execute_result"
    }
   ],
   "source": [
    "NB.predict([\"انا خوش مشتاقلك\"])[0]"
   ]
  },
  {
   "cell_type": "code",
   "execution_count": 22,
   "metadata": {},
   "outputs": [
    {
     "data": {
      "text/plain": [
       "'general'"
      ]
     },
     "execution_count": 22,
     "metadata": {},
     "output_type": "execute_result"
    }
   ],
   "source": [
    "NB.predict([\"يولد جميع الناس أحرارا ومتساوين في الكرامة والحقوق. وهم قد وهبوا العقل والوجدان وعليهم أن\"])[0]"
   ]
  },
  {
   "cell_type": "markdown",
   "metadata": {},
   "source": [
    "### cross validation"
   ]
  },
  {
   "cell_type": "code",
   "execution_count": 23,
   "metadata": {},
   "outputs": [
    {
     "name": "stdout",
     "output_type": "stream",
     "text": [
      "Wall time: 46.3 s\n",
      "Cross-validation scores: [0.67678084 0.68544834 0.6854093  0.68102539 0.67641217]\n",
      "Average cross-validation score: 0.68 +/- 0.00\n"
     ]
    }
   ],
   "source": [
    "%time scoresNB = cross_val_score(pipelineNB, X_train, y_train, cv = 5)\n",
    "print(\"Cross-validation scores: {}\".format(scoresNB))\n",
    "print(\"Average cross-validation score: {:.2f} +/- {:.2f}\".format(scoresNB.mean(), scoresNB.std()))\n",
    "scoresNB = scoresNB.mean()"
   ]
  },
  {
   "cell_type": "markdown",
   "metadata": {},
   "source": [
    "#### learining curve"
   ]
  },
  {
   "cell_type": "code",
   "execution_count": 24,
   "metadata": {
    "collapsed": true
   },
   "outputs": [],
   "source": [
    "def plot_learning_curve(estimator, title, X, y, ylim=None, cv=None,\n",
    "                        n_jobs=-1, train_sizes=np.linspace(.1, 1.0, 5)):\n",
    "    \"\"\"\n",
    "    This function is to generate a simple plot of the test and traning learning curve.\n",
    "    \"\"\"\n",
    "    plt.figure()\n",
    "    plt.title(title)\n",
    "    if ylim is not None:\n",
    "        plt.ylim(*ylim)\n",
    "    plt.xlabel(\"Training examples\")\n",
    "    plt.ylabel(\"Score\")\n",
    "    train_sizes, train_scores, test_scores = learning_curve(\n",
    "        estimator, X, y, cv=cv, n_jobs=n_jobs, train_sizes=train_sizes)\n",
    "    train_scores_mean = np.mean(train_scores, axis=1)\n",
    "    train_scores_std = np.std(train_scores, axis=1)\n",
    "    test_scores_mean = np.mean(test_scores, axis=1)\n",
    "    test_scores_std = np.std(test_scores, axis=1)\n",
    "    plt.grid()\n",
    "\n",
    "    plt.fill_between(train_sizes, train_scores_mean - train_scores_std,\n",
    "                     train_scores_mean + train_scores_std, alpha=0.1,\n",
    "                     color=\"r\")\n",
    "    plt.fill_between(train_sizes, test_scores_mean - test_scores_std,\n",
    "                     test_scores_mean + test_scores_std, alpha=0.1, color=\"g\")\n",
    "    plt.plot(train_sizes, train_scores_mean, 'o-', color=\"r\",\n",
    "             label=\"Training score\")\n",
    "    plt.plot(train_sizes, test_scores_mean, 'o-', color=\"g\",\n",
    "             label=\"Cross-validation score\")\n",
    "\n",
    "    plt.legend(loc=\"best\")\n",
    "    return plt"
   ]
  },
  {
   "cell_type": "code",
   "execution_count": 25,
   "metadata": {},
   "outputs": [
    {
     "name": "stdout",
     "output_type": "stream",
     "text": [
      "Wall time: 1min 35s\n"
     ]
    },
    {
     "data": {
      "text/plain": [
       "<module 'matplotlib.pyplot' from 'C:\\\\Users\\\\youne\\\\AppData\\\\Local\\\\Continuum\\\\anaconda3\\\\lib\\\\site-packages\\\\matplotlib\\\\pyplot.py'>"
      ]
     },
     "execution_count": 25,
     "metadata": {},
     "output_type": "execute_result"
    },
    {
     "data": {
      "image/png": "[encoded data removed]",
      "text/plain": [
       "<matplotlib.figure.Figure at 0x276bef12f60>"
      ]
     },
     "metadata": {},
     "output_type": "display_data"
    }
   ],
   "source": [
    "%time plot_learning_curve(pipelineNB, \"accuracy vs. training set size\", X_train, y_train, cv=5)"
   ]
  },
  {
   "cell_type": "code",
   "execution_count": 26,
   "metadata": {
    "collapsed": true
   },
   "outputs": [],
   "source": [
    "data.to_csv(\"data_ful_cleard.csv\", sep=';', encoding='utf-8',index=False)"
   ]
  },
  {
   "cell_type": "code",
   "execution_count": null,
   "metadata": {
    "collapsed": true
   },
   "outputs": [],
   "source": []
  }
 ],
 "metadata": {
  "kernelspec": {
   "display_name": "Python 3",
   "language": "python",
   "name": "python3"
  },
  "language_info": {
   "codemirror_mode": {
    "name": "ipython",
    "version": 3
   },
   "file_extension": ".py",
   "mimetype": "text/x-python",
   "name": "python",
   "nbconvert_exporter": "python",
   "pygments_lexer": "ipython3",
   "version": "3.6.2"
  },
  "widgets": {
   "state": {
    "74c05c6616344700b957a97759b5fd86": {
     "views": [
      {
       "cell_index": 33
      }
     ]
    },
    "7eca9e0eb33e49a8aa5933f392c17822": {
     "views": [
      {
       "cell_index": 33
      }
     ]
    },
    "a0468e17f4a84b4d94f0534803b05d5f": {
     "views": [
      {
       "cell_index": 33
      }
     ]
    }
   },
   "version": "1.2.0"
  }
 },
 "nbformat": 4,
 "nbformat_minor": 2
}
